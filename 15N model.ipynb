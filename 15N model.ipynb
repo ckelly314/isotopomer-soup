{
 "cells": [
  {
   "cell_type": "markdown",
   "id": "equal-jacket",
   "metadata": {},
   "source": [
    "# guiding question:\n",
    "\n",
    "What if we used a forward model to get exchange between substrate pools - and then calculated the probabilities for EVERY N2O production process based on the proportions of the substrates for that process? Like what's the probability of getting a 15NH2OH and a 15NO? Then we can add these to get the total production of 46N2O that we would expect from that combination of processes — and likewise for each of the other isotopomers as well.\n",
    "\n",
    "# next:\n",
    "\n",
    "- Error estimates with randomly-selected initial guess\n",
    "- Post-processing: multiply rates by in-situ nutrient concentrations instead of added tracer+carrier concentrations?\n",
    "- is there a better way to calculate cost? this feels a bit arbitrary...\n",
    "- get the model running on Sherlock\n",
    "- model v4 - instead of hybrid process combining NH4+ and NO2-, it combines NH2OH and NO2-"
   ]
  },
  {
   "cell_type": "markdown",
   "id": "placed-corner",
   "metadata": {},
   "source": [
    "# initialization"
   ]
  },
  {
   "cell_type": "code",
   "execution_count": 1,
   "id": "valuable-mercury",
   "metadata": {},
   "outputs": [],
   "source": [
    "import pandas as pd\n",
    "import numpy as np\n",
    "import matplotlib.pyplot as plt\n",
    "\n",
    "# use for initialization\n",
    "#from collections import namedtuple\n",
    "\n",
    "# use for plotting interpolations of measured incubation data\n",
    "#import scipy.interpolate as interp\n",
    "\n",
    "# use for nelder-mead optimization of a convex function\n",
    "from scipy.optimize import minimize\n",
    "from numpy.random import rand\n",
    "\n",
    "import scripts as sc # Python scripts containing helper functions"
   ]
  },
  {
   "cell_type": "markdown",
   "id": "bronze-publisher",
   "metadata": {},
   "source": [
    "Set up the model:"
   ]
  },
  {
   "cell_type": "code",
   "execution_count": 89,
   "id": "geological-germany",
   "metadata": {},
   "outputs": [
    {
     "name": "stdout",
     "output_type": "stream",
     "text": [
      "estimated k for N2O production from NH4+: 0.0\n",
      "estimated k for N2O production from NO3-: 1.0876182197431473e-09\n",
      "estimated k for N2O production from NO2-: 2.7630236588163697e-10\n",
      "estimated k for N2O production from NO: 3.5858402342386703e-06\n",
      "estimated k for hybrid pathway #1 from NH4+ & NO2-: 8.834915380773962e-09\n",
      "estimated k for hybrid pathway #2 from NH4+ & NO2-: 1.8262957017869628e-08\n",
      "estimated k for hybrid pathway #1 from NH2OH & NO: 6.859187387806156e-05\n",
      "estimated k for hybrid pathway #2 from NH2OH & NO: 0.00013013983994311675\n",
      "estimated k for hybrid pathway #1 from NH2OH & NO2-: 4.4047632388818095e-07\n",
      "estimated k for hybrid pathway #2 from NH2OH & NO2-: 9.105237391329081e-07\n"
     ]
    }
   ],
   "source": [
    "### KEYWORDS ###\n",
    "stn = \"PS1\"\n",
    "ft = \"Interface\"\n",
    "bgckey = stn+ft\n",
    "\n",
    "### INITIALIZATION ###\n",
    "\n",
    "gridded_dataNH4, bgcNH4, isos, trNH4, params = sc.initialize(station=stn,\n",
    "                                      feature=ft,\n",
    "                                      tracer=\"NH4+\")\n",
    "gridded_dataNO2, bgcNO2, isos, trNO2, params = sc.initialize(station=stn,\n",
    "                                      feature=ft,\n",
    "                                      tracer=\"NO2-\")\n",
    "gridded_dataNO3, bgcNO3, isos, trNO3, params = sc.initialize(station=stn,\n",
    "                                      feature=ft,\n",
    "                                      tracer=\"NO3-\")\n",
    "\n",
    "### INITIAL GUESS FOR OPTIMIZATION ###\n",
    "guess = sc.x0(station=stn, feature=ft, key=bgckey)\n",
    "\n",
    "[kestimateNH4, kestimateNO, kestimateNO2, kestimateNO3, kestimate_hybrid1,\n",
    " kestimate_hybrid2, kestimate_hybrid3, kestimate_hybrid4,\n",
    "kestimate_hybrid5, kestimate_hybrid6] = guess"
   ]
  },
  {
   "cell_type": "code",
   "execution_count": 90,
   "id": "german-western",
   "metadata": {},
   "outputs": [
    {
     "data": {
      "text/plain": [
       "0.019233554"
      ]
     },
     "execution_count": 90,
     "metadata": {},
     "output_type": "execute_result"
    }
   ],
   "source": [
    "bgcNH4.kN2OCONS"
   ]
  },
  {
   "cell_type": "markdown",
   "id": "excessive-nerve",
   "metadata": {},
   "source": [
    "# test models"
   ]
  },
  {
   "cell_type": "code",
   "execution_count": 91,
   "id": "indoor-olive",
   "metadata": {},
   "outputs": [
    {
     "name": "stdout",
     "output_type": "stream",
     "text": [
      "13.315441863109896\n"
     ]
    }
   ],
   "source": [
    "x = [kestimateNH4, kestimateNO2, kestimateNO3, kestimate_hybrid5, kestimate_hybrid6]\n",
    "\n",
    "tracers = sc.modelv4(x, bgcNH4, isos, trNH4, params)\n",
    "\n",
    "print(sc.costfxn(trainingdata = gridded_dataNH4,\n",
    "                modeled_44 = tracers.n2o_44,\n",
    "                modeled_45a = tracers.n2o_45a,\n",
    "                modeled_45b = tracers.n2o_45b,\n",
    "                modeled_46 = tracers.n2o_46,\n",
    "                weights = np.array([0,1000,1000,1000])))"
   ]
  },
  {
   "cell_type": "code",
   "execution_count": 92,
   "id": "robust-slovak",
   "metadata": {},
   "outputs": [
    {
     "name": "stdout",
     "output_type": "stream",
     "text": [
      "21.355334603893027\n"
     ]
    }
   ],
   "source": [
    "x = [kestimateNH4, kestimateNO2, kestimateNO3, kestimate_hybrid5, kestimate_hybrid6]\n",
    "\n",
    "tracers = sc.modelv4(x, bgcNO2, isos, trNO2, params)\n",
    "\n",
    "print(sc.costfxn(trainingdata = gridded_dataNO2,\n",
    "                modeled_44 = tracers.n2o_44,\n",
    "                modeled_45a = tracers.n2o_45a,\n",
    "                modeled_45b = tracers.n2o_45b,\n",
    "                modeled_46 = tracers.n2o_46,\n",
    "                weights = np.array([0,1000,1000,1000])))"
   ]
  },
  {
   "cell_type": "code",
   "execution_count": 93,
   "id": "instant-evaluation",
   "metadata": {},
   "outputs": [
    {
     "name": "stdout",
     "output_type": "stream",
     "text": [
      "7.821813348451232\n"
     ]
    }
   ],
   "source": [
    "x = [kestimateNH4, kestimateNO2, kestimateNO3, kestimate_hybrid5, kestimate_hybrid6]\n",
    "\n",
    "tracers = sc.modelv4(x, bgcNO3, isos, trNO3, params)\n",
    "\n",
    "print(sc.costfxn(trainingdata = gridded_dataNO3,\n",
    "                modeled_44 = tracers.n2o_44,\n",
    "                modeled_45a = tracers.n2o_45a,\n",
    "                modeled_45b = tracers.n2o_45b,\n",
    "                modeled_46 = tracers.n2o_46,\n",
    "                weights = np.array([0,1000,1000,1000])))"
   ]
  },
  {
   "cell_type": "markdown",
   "id": "protective-murder",
   "metadata": {},
   "source": [
    "# optimization"
   ]
  },
  {
   "cell_type": "code",
   "execution_count": 106,
   "id": "stone-extent",
   "metadata": {},
   "outputs": [],
   "source": [
    "def objective(x): #, bgc, isos, tracers, modelparams):\n",
    "    \n",
    "    tracersNH4 = sc.modelv4(x, bgcNH4, isos, trNH4, params)\n",
    "    \n",
    "    costNH4 = sc.costfxn(trainingdata = gridded_dataNH4,\n",
    "                modeled_44 = tracersNH4.n2o_44,\n",
    "                modeled_45a = tracersNH4.n2o_45a,\n",
    "                modeled_45b = tracersNH4.n2o_45b,\n",
    "                modeled_46 = tracersNH4.n2o_46,\n",
    "                weights = np.array([0,1000,1000,1000]))\n",
    "    \n",
    "    tracersNO2 = sc.modelv4(x, bgcNO2, isos, trNO2, params)\n",
    "    \n",
    "    costNO2 = sc.costfxn(trainingdata = gridded_dataNO2,\n",
    "                modeled_44 = tracersNO2.n2o_44,\n",
    "                modeled_45a = tracersNO2.n2o_45a,\n",
    "                modeled_45b = tracersNO2.n2o_45b,\n",
    "                modeled_46 = tracersNO2.n2o_46,\n",
    "                weights = np.array([0,1000,1000,1000]))\n",
    "    \n",
    "    tracersNO3 = sc.modelv4(x, bgcNO3, isos, trNO3, params)\n",
    "    \n",
    "    costNO3 = sc.costfxn(trainingdata = gridded_dataNO3,\n",
    "                modeled_44 = tracersNO3.n2o_44,\n",
    "                modeled_45a = tracersNO3.n2o_45a,\n",
    "                modeled_45b = tracersNO3.n2o_45b,\n",
    "                modeled_46 = tracersNO3.n2o_46,\n",
    "                weights = np.array([0,1000,1000,1000]))\n",
    "    \n",
    "    cost = costNH4 + costNO2 + costNO3\n",
    "    \n",
    "    print(cost)\n",
    "    \n",
    "    return cost"
   ]
  },
  {
   "cell_type": "code",
   "execution_count": 107,
   "id": "confused-company",
   "metadata": {},
   "outputs": [
    {
     "name": "stdout",
     "output_type": "stream",
     "text": [
      "154.2946443280167\n"
     ]
    },
    {
     "data": {
      "text/plain": [
       "154.2946443280167"
      ]
     },
     "execution_count": 107,
     "metadata": {},
     "output_type": "execute_result"
    }
   ],
   "source": [
    "#x = [kestimateNH4, kestimateNO2, kestimateNO3, kestimate_hybrid1, kestimate_hybrid2] # for modelv1\n",
    "\n",
    "#x = [kestimateNH4, kestimateNO2, kestimateNO3, kestimate_hybrid3, kestimate_hybrid4] # for modelv2\n",
    "\n",
    "#x = [kestimateNH4, kestimateNO, kestimateNO3, kestimate_hybrid3, kestimate_hybrid4] # for modelv3\n",
    "\n",
    "x = [kestimateNH4, kestimateNO2, kestimateNO3, kestimate_hybrid5, kestimate_hybrid6] # for modelv4\n",
    "\n",
    "objective(x)"
   ]
  },
  {
   "cell_type": "code",
   "execution_count": 108,
   "id": "opposite-public",
   "metadata": {},
   "outputs": [
    {
     "data": {
      "text/plain": [
       "[0.0,\n",
       " 2.7630236588163697e-10,\n",
       " 1.0876182197431473e-09,\n",
       " 4.4047632388818095e-07,\n",
       " 9.105237391329081e-07]"
      ]
     },
     "execution_count": 108,
     "metadata": {},
     "output_type": "execute_result"
    }
   ],
   "source": [
    "xguess = x\n",
    "\n",
    "xguess"
   ]
  },
  {
   "cell_type": "code",
   "execution_count": 109,
   "id": "residential-meditation",
   "metadata": {},
   "outputs": [
    {
     "name": "stdout",
     "output_type": "stream",
     "text": [
      "154.2946443280167\n",
      "179939.76254868557\n",
      "153.29685210242013\n",
      "153.16347934186882\n",
      "154.0078876463996\n",
      "153.64397619832695\n",
      "153.04224762965117\n",
      "152.43052626973355\n",
      "152.30948274364707\n",
      "151.35841358307425\n",
      "151.55921076174747\n",
      "151.1656818152366\n",
      "150.16956670624535\n",
      "150.49342918280763\n",
      "149.1444532660101\n",
      "147.25745490359463\n",
      "148.2424207523165\n",
      "147.78111578414828\n",
      "147.1592123388638\n",
      "146.25960092275827\n",
      "145.17185312358822\n",
      "142.9201603889656\n",
      "143.2603503577624\n",
      "142.7902313448495\n",
      "140.66888146903534\n",
      "140.43224024272467\n",
      "137.38222758820598\n",
      "138.80258289422142\n",
      "135.22322267412858\n",
      "130.59049358633007\n",
      "132.8149863275211\n",
      "130.5946448682747\n",
      "127.73249494774207\n",
      "122.26684133609518\n",
      "123.16292495057786\n",
      "120.12964735230136\n",
      "122.72914426943238\n",
      "119.16094960410778\n",
      "120.89372621610582\n",
      "116.26730847934641\n",
      "120.53215727212779\n",
      "126.29392515381886\n",
      "117.45380811599719\n",
      "120.88581940786551\n",
      "122.03391793265519\n",
      "117.94668170036675\n",
      "119.74718201873102\n",
      "116.02463584677217\n",
      "118.1106999340804\n",
      "123.94921960598579\n",
      "117.81022628163021\n",
      "117.65602470270667\n",
      "115.76996193074018\n",
      "116.02169638073191\n",
      "118.78456977629494\n",
      "116.55144016955381\n",
      "118.86137776042936\n",
      "116.09073804298187\n",
      "114.68604208738589\n",
      "113.83527394428586\n",
      "113.92491043852789\n",
      "113.48411281806494\n",
      "112.68549723237619\n",
      "112.91394849311538\n",
      "112.17138484592053\n",
      "111.42304739359724\n",
      "109.06652592735614\n",
      "105.87339999341336\n",
      "108.55459309868141\n",
      "105.72548839309121\n",
      "102.06883527893041\n",
      "102.92214677693171\n",
      "116.74044619625147\n",
      "108.42252953413114\n",
      "101.15760172342138\n",
      "101.94833819545002\n",
      "101.23334475003244\n",
      "103.09396138204244\n",
      "100.54634468029288\n",
      "105.76839874652867\n",
      "103.8784054053618\n",
      "100.35813160480005\n",
      "100.19963596621778\n",
      "103.89996822157353\n",
      "102.25023871714862\n",
      "100.1594286242834\n",
      "101.30922595947236\n",
      "99.94004827717193\n",
      "100.15357413922354\n",
      "100.75441837211756\n",
      "99.39436385130232\n",
      "99.63344756537151\n",
      "99.72878519156333\n",
      "100.14818229924225\n",
      "100.06394166342962\n",
      "101.71119390641664\n",
      "98.97483042212596\n",
      "99.67504693641072\n",
      "100.42569318021475\n",
      "99.05327946123427\n",
      "100.69983843509266\n",
      "98.95401010982049\n",
      "99.78467037706653\n",
      "99.0107047906873\n",
      "101.32977994483562\n",
      "98.88497834970144\n",
      "98.7500351746744\n",
      "99.17837074915047\n",
      "98.75825594357832\n",
      "98.72876983543406\n",
      "99.15139528461334\n",
      "98.55551889514715\n",
      "98.7741881908221\n",
      "99.33008843171281\n",
      "98.62841528310597\n",
      "98.35944799675212\n",
      "98.36422546605834\n",
      "99.33999390323302\n",
      "98.49646762331759\n",
      "98.43040337217772\n",
      "98.62624472139868\n",
      "98.17914409557244\n",
      "97.9617095209114\n",
      "98.43360523453858\n",
      "98.28417000109097\n",
      "98.01303785451111\n",
      "98.6339525611984\n",
      "98.21514012252332\n",
      "97.85636826654381\n",
      "97.64118019431666\n",
      "97.5997825902412\n",
      "97.27282977831712\n",
      "97.66381872585217\n",
      "97.16874792703769\n",
      "96.80804639128505\n",
      "96.8408571457355\n",
      "96.65646559903598\n",
      "96.55186017501936\n",
      "96.33740642428639\n",
      "96.30242269837481\n",
      "96.0191600225675\n",
      "96.76635343405968\n",
      "96.7979263124985\n",
      "97.21020910334936\n",
      "96.34632214831046\n",
      "96.9992995382108\n",
      "96.31744096096148\n",
      "96.80961125182732\n",
      "96.28642610884444\n",
      "96.381462751855\n",
      "96.1594627862284\n",
      "96.47034908947262\n",
      "96.1659984158726\n",
      "96.30813199049123\n",
      "96.15329957620082\n",
      "96.1284491996762\n",
      "96.03933996392638\n",
      "96.10030155983597\n",
      "96.00850760459929\n",
      "96.14760324347952\n",
      "95.88283037245863\n",
      "95.86924320973486\n",
      "95.91779290466903\n",
      "95.84369449887184\n",
      "95.98202516874741\n",
      "95.97897191909965\n",
      "95.65393380530988\n",
      "95.5270695781636\n",
      "95.58281514390433\n",
      "95.73262794377288\n",
      "96.086578961843\n",
      "95.69198867472674\n",
      "95.49419475044769\n",
      "95.50195767627775\n",
      "95.29385675255453\n",
      "95.10187996473428\n",
      "95.33551404768784\n",
      "95.08607166759273\n",
      "94.94367019431235\n",
      "94.80317199569325\n",
      "94.47848690306589\n",
      "94.53847785038782\n",
      "94.55267157836722\n",
      "94.25693109332391\n",
      "94.31260962511675\n",
      "94.05495725884569\n",
      "93.93159577991358\n",
      "93.72725400525465\n",
      "93.73147476927758\n",
      "93.79008314587034\n",
      "93.73895513518737\n",
      "94.30883514671427\n",
      "93.77815748267422\n",
      "93.73985387153522\n",
      "93.76523451311257\n",
      "94.06378138808763\n",
      "93.64942838077118\n",
      "93.52975188392651\n",
      "93.63844341610461\n",
      "93.77690940338687\n",
      "93.60281496103255\n",
      "94.10864665043499\n",
      "93.57452306133077\n",
      "93.73307631928432\n",
      "93.59735405575077\n",
      "93.77130110537136\n",
      "93.59230442453027\n",
      "93.4577435321607\n",
      "93.4615434551507\n",
      "93.47807034990151\n",
      "93.48540908984528\n",
      "93.46928121851468\n",
      "93.48499385268278\n",
      "93.42927995048402\n",
      "93.47490124273983\n",
      "93.47040461382568\n",
      "93.49096014081822\n",
      "93.44232579631472\n",
      "93.44559997635199\n",
      "93.51827957261158\n",
      "93.43203914484538\n",
      "93.48299875523091\n",
      "93.43373909650799\n",
      "93.4394878736714\n",
      "93.45381488618159\n",
      "93.42527530019133\n",
      "93.47956056456022\n",
      "93.42228929074486\n",
      "93.45170639293366\n",
      "93.42407405990926\n",
      "93.41429745369973\n",
      "93.42031089657445\n",
      "93.42492281476933\n",
      "93.43253386420531\n",
      "93.41903953545416\n",
      "93.41938737902423\n",
      "93.43331035591969\n",
      "93.41677922020932\n",
      "93.41761506098501\n",
      "93.41262177519923\n",
      "93.42776735765922\n",
      "93.4133416368523\n",
      "93.40692489731359\n",
      "93.40886106497118\n",
      "93.41538787547816\n",
      "93.40557761204224\n",
      "93.41219666814405\n",
      "93.4180439791867\n",
      "93.40884396075539\n",
      "93.41632216018904\n",
      "93.40915788447424\n",
      "93.4054445483572\n",
      "93.41181408644582\n",
      "93.41998035842772\n",
      "93.40656900063422\n",
      "93.40174800400446\n",
      "93.4025649318459\n",
      "93.40639686849448\n",
      "93.40089691259107\n",
      "93.40131999488057\n",
      "93.40370448924472\n",
      "93.40316295531807\n",
      "93.40477083764469\n",
      "93.40045209149281\n",
      "93.40209109545711\n",
      "93.40627899754931\n",
      "93.40173566342885\n",
      "93.40939228489614\n",
      "93.4009831388386\n",
      "93.40320279062877\n",
      "93.40140552557656\n",
      "93.40066674699773\n",
      "93.40085806863945\n",
      "93.39996378913324\n",
      "93.40064387128524\n",
      "93.40067262169039\n",
      "93.40060476861224\n",
      "93.40037472543145\n",
      "93.4006692533232\n",
      "93.40016997159024\n",
      "93.39999384144289\n",
      "93.4008726483377\n",
      "93.40003807155696\n",
      "93.40036528535171\n",
      "93.40074056376747\n",
      "93.39996391310524\n",
      "93.4004811420402\n",
      "93.39998489313962\n",
      "93.3998319205778\n",
      "93.40033764063404\n",
      "93.40004001233794\n",
      "93.39986224334564\n",
      "93.4001245985061\n",
      "93.39983923031382\n",
      "93.40012432771081\n",
      "93.3998476481122\n",
      "93.40019647112577\n",
      "93.39983857894526\n",
      "93.4002093865264\n",
      "93.39981845453042\n",
      "Status : Optimization terminated successfully.\n",
      "Total Evaluations: 300\n",
      "93.39981845453042\n",
      "Solution: f([0.00000000e+00 9.81405095e-10 1.26369640e-09 3.55687357e-11\n",
      " 2.33413187e-06]) = 93.39982\n"
     ]
    }
   ],
   "source": [
    "# define bounds: no negative rate constants\n",
    "bnds = ((0, None), (0, None), (0, None), (0, None), (0, None))\n",
    "\n",
    "# perform the search with intelligently selected x0\n",
    "#result = minimize(objective, x, args = (bgc, isos, tr, modelparams), method='nelder-mead', bounds=bnds)\n",
    "result = minimize(objective, x, method='nelder-mead', bounds=bnds)\n",
    "# summarize the result\n",
    "print('Status : %s' % result['message'])\n",
    "print('Total Evaluations: %d' % result['nfev'])\n",
    "# evaluate solution\n",
    "solution = result['x']\n",
    "evaluation = objective(solution)#, bgc, isos, tr, params)\n",
    "print('Solution: f(%s) = %.5f' % (solution, evaluation))"
   ]
  },
  {
   "cell_type": "code",
   "execution_count": 46,
   "id": "banned-message",
   "metadata": {},
   "outputs": [
    {
     "data": {
      "text/plain": [
       "array([3.81533134e-09, 2.25129744e-08, 1.12618614e-09, 0.00000000e+00,\n",
       "       2.73809851e-06])"
      ]
     },
     "execution_count": 46,
     "metadata": {},
     "output_type": "execute_result"
    }
   ],
   "source": [
    "### OPTIMIZE WITH RANDOMLY SELECTED X0 ###\n",
    "\n",
    "# define range for input\n",
    "r_min = np.array(xguess)*0.75\n",
    "r_max = np.array(xguess)*1.25\n",
    "# define the starting point as a random sample from the domain\n",
    "pt = r_min + rand(5)*(r_max - r_min)\n",
    "\n",
    "pt"
   ]
  },
  {
   "cell_type": "code",
   "execution_count": 48,
   "id": "found-boutique",
   "metadata": {},
   "outputs": [
    {
     "name": "stdout",
     "output_type": "stream",
     "text": [
      "313.1611101731623\n",
      "313.1430247066242\n",
      "306.73729937718616\n",
      "312.21629169942827\n",
      "2557.59229599784\n",
      "313.1280255681794\n",
      "310.1769915420925\n",
      "308.9893468639223\n",
      "307.3579286837992\n",
      "305.0882217627359\n",
      "301.1329623009432\n",
      "301.6245744020614\n",
      "300.20966779971474\n",
      "295.3594754915209\n",
      "295.98606089821345\n",
      "293.1294587539426\n",
      "286.3723585220899\n",
      "285.7382487690084\n",
      "276.0092872379338\n",
      "280.405004413184\n",
      "273.4260499642149\n",
      "261.9351340930394\n",
      "264.79736284162874\n",
      "255.64537314340075\n",
      "244.51742758577552\n",
      "246.93034494568533\n",
      "243.76728396973772\n",
      "245.82270748466706\n",
      "243.24513031578374\n",
      "257.80784488679177\n",
      "244.4696619776654\n",
      "250.91033295174367\n",
      "243.41593443271637\n",
      "250.19071175577724\n",
      "243.13559914424695\n",
      "246.04466461898582\n",
      "242.7053059401453\n",
      "245.23359488939718\n",
      "242.7634645545429\n",
      "243.7370328544818\n",
      "242.63078598340388\n",
      "244.54052059406928\n",
      "242.45477973582177\n",
      "241.50534774996837\n",
      "241.3844653595329\n",
      "243.4953591462151\n",
      "242.12742572851556\n",
      "241.8480950665216\n",
      "240.79000328176087\n",
      "240.48166147742225\n",
      "241.33546013698069\n",
      "242.44863798154503\n",
      "241.35406205554563\n",
      "239.45376993870283\n",
      "238.18612892010367\n",
      "238.27428293861016\n",
      "237.69156051992002\n",
      "236.20790440105242\n",
      "236.76179686220993\n",
      "236.19945206569335\n",
      "237.04683625171128\n",
      "233.82208051237944\n",
      "232.07176003011318\n",
      "232.07153362834418\n",
      "229.34456832921455\n",
      "231.10826741645582\n",
      "227.50041735639408\n",
      "224.85201106627466\n",
      "225.3056055996949\n",
      "227.35073351972537\n",
      "232.51952880377755\n",
      "227.62878449143338\n",
      "228.23435426339574\n",
      "231.32099907346628\n",
      "225.72052467609055\n",
      "229.2704274268756\n",
      "225.59312700480166\n",
      "228.89285266982603\n",
      "225.25235109020772\n",
      "228.31413184966928\n",
      "225.42260313660728\n",
      "226.66101246293735\n",
      "224.933089418481\n",
      "225.82608187046873\n",
      "224.94231716062401\n",
      "225.77638126572091\n",
      "224.88775668696\n",
      "225.47582435524308\n",
      "224.91417102557608\n",
      "225.72382583650685\n",
      "224.88826626102914\n",
      "225.13518977038433\n",
      "224.8217938985568\n",
      "225.03592014324312\n",
      "224.84287539970754\n",
      "224.89256530210702\n",
      "224.82827706194976\n",
      "224.98207809778003\n",
      "224.82624392554118\n",
      "224.931323165808\n",
      "224.81887406345797\n",
      "224.87373447870797\n",
      "224.81840327648345\n",
      "224.85890357722764\n",
      "224.81726900613725\n",
      "224.8280265114522\n",
      "224.81391021918765\n",
      "224.8520979132843\n",
      "224.81218781419017\n",
      "224.83707725519537\n",
      "224.81107948303838\n",
      "224.83534176087295\n",
      "224.810471113293\n",
      "224.80976051610625\n",
      "224.81911430092848\n",
      "224.81968318630499\n",
      "224.8108171084216\n",
      "224.81553555514748\n",
      "224.8098313084494\n",
      "224.8143843610855\n",
      "224.80941450796033\n",
      "224.81087144130424\n",
      "224.80919059039235\n",
      "224.8095143105085\n",
      "224.809952301867\n",
      "224.8086869525457\n",
      "224.8113319252365\n",
      "224.80855795174037\n",
      "224.81119769028015\n",
      "224.80856010226745\n",
      "224.8131756663698\n",
      "224.8083315239954\n",
      "224.80768799205862\n",
      "224.80757427951085\n",
      "224.80915949672334\n",
      "224.80828526815054\n",
      "224.80926229193275\n",
      "224.80813169445503\n",
      "224.80807321641043\n",
      "224.80838145833562\n",
      "224.80800001224617\n",
      "224.8073434664819\n",
      "224.80691248061518\n",
      "224.80689823477894\n",
      "224.80636879531988\n",
      "224.8076725358311\n",
      "224.80679467341187\n",
      "224.80582348261973\n",
      "224.8049694003463\n",
      "224.80585915319762\n",
      "224.8042513709551\n",
      "224.80261917205763\n",
      "224.8033261600701\n",
      "224.8034056886803\n",
      "224.80123909891734\n",
      "224.79880888287366\n",
      "224.8002282841346\n",
      "224.7983626114419\n",
      "224.79580473127922\n",
      "224.7970103913537\n",
      "224.79362178363453\n",
      "224.78879755385293\n",
      "224.78896150630356\n",
      "224.7885674507208\n",
      "224.78514202167548\n",
      "224.7825177167144\n",
      "224.7752494545739\n",
      "224.7769231678906\n",
      "224.7691340774322\n",
      "224.75688130736202\n",
      "224.76631992578095\n",
      "224.75943983791265\n",
      "224.74778728048648\n",
      "224.73065745883574\n",
      "224.7383413261976\n",
      "224.72668092076182\n",
      "224.70749114889168\n",
      "224.70737489030827\n",
      "224.66502022849798\n",
      "224.67497575028014\n",
      "224.6246543416833\n",
      "224.5348532252539\n",
      "224.55458533543384\n",
      "224.4943052552606\n",
      "224.37491775129655\n",
      "224.39802343377332\n",
      "224.34618092787662\n",
      "224.21280814308722\n",
      "224.17790326498442\n",
      "223.9884584614627\n",
      "224.06704974735672\n",
      "223.90683592650123\n",
      "223.74004030068394\n",
      "223.9131864897292\n",
      "224.073784612399\n",
      "224.34241918714375\n",
      "224.0052730951672\n",
      "224.27634367363385\n",
      "223.8352453386552\n",
      "223.92037576706616\n",
      "224.1359170357626\n",
      "223.89656653246143\n",
      "224.34204836646666\n",
      "223.87803389346698\n",
      "223.9676188062622\n",
      "223.82166149074547\n",
      "223.74381802928812\n",
      "223.77661221553197\n",
      "223.91437880303366\n",
      "223.80892538385112\n",
      "223.68998414616811\n",
      "223.63723641869208\n",
      "223.64993346162214\n",
      "223.6200293119038\n",
      "223.64833345544363\n",
      "223.66281617648846\n",
      "223.62853776327776\n",
      "223.53363196887602\n",
      "223.48306140243045\n",
      "223.62780031388183\n",
      "223.6187620992546\n",
      "223.5647263041836\n",
      "223.4644503348685\n",
      "223.40966839716032\n",
      "223.41219765346654\n",
      "223.4016580378651\n",
      "223.47364052036136\n",
      "223.34779896680513\n",
      "223.4075309971086\n",
      "223.38728599279432\n",
      "223.35080760114604\n",
      "223.31015142077632\n",
      "223.36213385745182\n",
      "223.4650530696387\n",
      "223.34379527102288\n",
      "223.3054357015925\n",
      "223.3598381192966\n",
      "223.37365561459578\n",
      "223.32257764670294\n",
      "223.33776501850102\n",
      "223.2832377303711\n",
      "223.30504744011293\n",
      "223.31107242741103\n",
      "223.34148388345486\n",
      "223.29828516787893\n",
      "223.34871424793374\n",
      "223.29055195240383\n",
      "223.32690440107996\n",
      "223.28887465530602\n",
      "223.28352891757902\n",
      "223.29087197843884\n",
      "223.28590372413476\n",
      "223.27697309773632\n",
      "223.29896821466141\n",
      "223.26975484776906\n",
      "223.28699076879147\n",
      "223.26545068327712\n",
      "223.28141284880002\n",
      "223.29816924266774\n",
      "223.2693840646944\n",
      "223.28913420001973\n",
      "223.2693634039144\n",
      "223.28145510557482\n",
      "223.2689095543334\n",
      "223.26213020261085\n",
      "223.27247455046165\n",
      "223.27238483695677\n",
      "223.26383516899696\n",
      "223.27056663838349\n",
      "223.26381983663856\n",
      "223.26328487956198\n",
      "223.27715376677236\n",
      "223.26229260350186\n",
      "223.2642560327217\n",
      "223.26171955476363\n",
      "223.26447921435448\n",
      "223.26165152220113\n",
      "223.26132877561383\n",
      "223.26543269922666\n",
      "223.26557952978158\n",
      "223.26108652783535\n",
      "223.26248642032394\n",
      "223.2610041066188\n",
      "223.26415458989834\n",
      "223.26082648841674\n",
      "223.26125499323254\n",
      "223.2627667605817\n",
      "223.26073719433955\n",
      "223.26237500594672\n",
      "223.26068325773676\n",
      "223.2613965841275\n",
      "223.2607477751981\n",
      "223.26100989117444\n",
      "223.26067510108172\n",
      "223.26115123523982\n",
      "223.26066371418864\n",
      "223.2608564324427\n",
      "223.2606290579127\n",
      "223.2609305750729\n",
      "223.26059675182776\n",
      "223.26073122077185\n",
      "223.2606064661014\n",
      "Status : Optimization terminated successfully.\n",
      "Total Evaluations: 302\n"
     ]
    },
    {
     "ename": "NameError",
     "evalue": "name 'bgc' is not defined",
     "output_type": "error",
     "traceback": [
      "\u001b[0;31m---------------------------------------------------------------------------\u001b[0m",
      "\u001b[0;31mNameError\u001b[0m                                 Traceback (most recent call last)",
      "\u001b[0;32m<ipython-input-48-ee1b5e994903>\u001b[0m in \u001b[0;36m<module>\u001b[0;34m\u001b[0m\n\u001b[1;32m      9\u001b[0m \u001b[0;31m# evaluate solution\u001b[0m\u001b[0;34m\u001b[0m\u001b[0;34m\u001b[0m\u001b[0;34m\u001b[0m\u001b[0m\n\u001b[1;32m     10\u001b[0m \u001b[0msolution\u001b[0m \u001b[0;34m=\u001b[0m \u001b[0mresult\u001b[0m\u001b[0;34m[\u001b[0m\u001b[0;34m'x'\u001b[0m\u001b[0;34m]\u001b[0m\u001b[0;34m\u001b[0m\u001b[0;34m\u001b[0m\u001b[0m\n\u001b[0;32m---> 11\u001b[0;31m \u001b[0mevaluation\u001b[0m \u001b[0;34m=\u001b[0m \u001b[0mobjective\u001b[0m\u001b[0;34m(\u001b[0m\u001b[0msolution\u001b[0m\u001b[0;34m,\u001b[0m \u001b[0mbgc\u001b[0m\u001b[0;34m,\u001b[0m \u001b[0misos\u001b[0m\u001b[0;34m,\u001b[0m \u001b[0mtr\u001b[0m\u001b[0;34m,\u001b[0m \u001b[0mmodelparams\u001b[0m\u001b[0;34m)\u001b[0m\u001b[0;34m\u001b[0m\u001b[0;34m\u001b[0m\u001b[0m\n\u001b[0m\u001b[1;32m     12\u001b[0m \u001b[0mprint\u001b[0m\u001b[0;34m(\u001b[0m\u001b[0;34m'Solution: f(%s) = %.5f'\u001b[0m \u001b[0;34m%\u001b[0m \u001b[0;34m(\u001b[0m\u001b[0msolution\u001b[0m\u001b[0;34m,\u001b[0m \u001b[0mevaluation\u001b[0m\u001b[0;34m)\u001b[0m\u001b[0;34m)\u001b[0m\u001b[0;34m\u001b[0m\u001b[0;34m\u001b[0m\u001b[0m\n",
      "\u001b[0;31mNameError\u001b[0m: name 'bgc' is not defined"
     ]
    }
   ],
   "source": [
    "# define bounds: no negative rate constants\n",
    "bnds = ((0, None), (0, None), (0, None), (0, None), (0, None))\n",
    "\n",
    "# perform the search with randomly selected x0\n",
    "result = minimize(objective, x, method='nelder-mead', bounds=bnds)\n",
    "# summarize the result\n",
    "print('Status : %s' % result['message'])\n",
    "print('Total Evaluations: %d' % result['nfev'])\n",
    "# evaluate solution\n",
    "solution = result['x']\n",
    "evaluation = objective(solution)\n",
    "print('Solution: f(%s) = %.5f' % (solution, evaluation))"
   ]
  },
  {
   "cell_type": "code",
   "execution_count": 110,
   "id": "trying-piece",
   "metadata": {},
   "outputs": [
    {
     "name": "stdout",
     "output_type": "stream",
     "text": [
      "93.39981845453042\n"
     ]
    },
    {
     "data": {
      "text/plain": [
       "93.39981845453042"
      ]
     },
     "execution_count": 110,
     "metadata": {},
     "output_type": "execute_result"
    }
   ],
   "source": [
    "objective(result.x)#, bgc, isos, tr, modelparams)"
   ]
  },
  {
   "cell_type": "code",
   "execution_count": 111,
   "id": "greater-spyware",
   "metadata": {},
   "outputs": [
    {
     "data": {
      "text/plain": [
       "array([0.00000000e+00, 9.81405095e-10, 1.26369640e-09, 3.55687357e-11,\n",
       "       2.33413187e-06])"
      ]
     },
     "execution_count": 111,
     "metadata": {},
     "output_type": "execute_result"
    }
   ],
   "source": [
    "result.x"
   ]
  },
  {
   "cell_type": "markdown",
   "id": "amazing-gathering",
   "metadata": {},
   "source": [
    "# post-processing"
   ]
  },
  {
   "cell_type": "code",
   "execution_count": 112,
   "id": "generous-navigation",
   "metadata": {},
   "outputs": [
    {
     "name": "stdout",
     "output_type": "stream",
     "text": [
      "Nit. (nM/day): 0.0\n",
      "Denit. from NO2- (nM/day): 0.0009836618435358725\n",
      "Denit. from NO3- (nM/day): 1.1041665624361003\n",
      "Hybrid 1 (nM/day): 3.590866089612779e-07\n",
      "Hybrid 2 (nM/day): 0.023564388201624223\n",
      "Nit. (nM/day): 0.0\n",
      "Denit. from NO2- (nM/day): 0.022314590126645436\n",
      "Denit. from NO3- (nM/day): 1.1041665624361003\n",
      "Hybrid 1 (nM/day): 1.7028222906817787e-06\n",
      "Hybrid 2 (nM/day): 0.11174453319792671\n",
      "Nit. (nM/day): 0.0\n",
      "Denit. from NO2- (nM/day): 0.0009836674754159528\n",
      "Denit. from NO3- (nM/day): 1.180135448929736\n",
      "Hybrid 1 (nM/day): 3.591637996239169e-07\n",
      "Hybrid 2 (nM/day): 0.023569453694724147\n",
      "93.39981845453042\n"
     ]
    }
   ],
   "source": [
    "tracersNH4 = sc.modelv4(result.x, bgcNH4, isos, trNH4, params)\n",
    "tracersNO2 = sc.modelv4(result.x, bgcNO2, isos, trNO2, params)\n",
    "tracersNO3 = sc.modelv4(result.x, bgcNO3, isos, trNO3, params)\n",
    "\n",
    "outputNH4 = sc.postprocess(bgcNH4, isos, tracersNH4, result.x, model=\"modelv4\")\n",
    "outputNO2 = sc.postprocess(bgcNO2, isos, tracersNO2, result.x, model=\"modelv4\")\n",
    "outputNO3 = sc.postprocess(bgcNO3, isos, tracersNO3, result.x, model=\"modelv4\")\n",
    "\n",
    "saveout = np.array([outputNH4[['nitrification', 'denitno2', 'denitno3', 'hybrid1', 'hybrid2']].mean(),\n",
    "            outputNO2[['nitrification', 'denitno2', 'denitno3', 'hybrid1', 'hybrid2']].mean(),\n",
    "            outputNO3[['nitrification', 'denitno2', 'denitno3', 'hybrid1', 'hybrid2']].mean()])\n",
    "\n",
    "saveout = saveout.mean(axis=0)\n",
    "\n",
    "saveout = pd.DataFrame([saveout]).rename(columns = {0:\"Nitrification (nM/day)\",\n",
    "                                   1:\"Denit from NO2- (nM/day)\",\n",
    "                                          2:\"Denit from NO3- (nM/day)\",\n",
    "                                          3:\"Hybrid1 (nM/day)\",\n",
    "                                          4:\"Hybrid2 (nM/day)\"})\n",
    "\n",
    "saveout[\"Station\"] = stn\n",
    "saveout[\"Feature\"] = ft\n",
    "saveout[\"Key\"] = bgckey\n",
    "saveout[\"cost\"] = objective(result.x)\n",
    "saveout = saveout.set_index(\"Key\")\n",
    "modeloutput = pd.read_excel(\"scripts/data/00_modelv4output.xlsx\",\n",
    "                           index_col=\"Key\")\n",
    "modeloutput = modeloutput.append(saveout)\n",
    "modeloutput = modeloutput.drop_duplicates()\n",
    "modeloutput.to_excel(\"scripts/data/00_modelv4output.xlsx\")"
   ]
  },
  {
   "cell_type": "code",
   "execution_count": 113,
   "id": "guilty-stanley",
   "metadata": {},
   "outputs": [
    {
     "name": "stdout",
     "output_type": "stream",
     "text": [
      "1.0211377882894597\n",
      "1.180135448929736\n"
     ]
    }
   ],
   "source": [
    "print(np.mean(kestimateNO3*(outputNO3['[NO3-]_nM']**2) + tracersNO3.n2o_46[0]*bgcNO3.kN2OCONS))\n",
    "\n",
    "print(np.mean(result.x[2]*(outputNO3['[NO3-]_nM']**2)))"
   ]
  },
  {
   "cell_type": "code",
   "execution_count": 114,
   "id": "soviet-official",
   "metadata": {},
   "outputs": [
    {
     "name": "stdout",
     "output_type": "stream",
     "text": [
      "31231.450523175023\n",
      "31232.067253645004\n"
     ]
    }
   ],
   "source": [
    "print(outputNH4['check_mass_conservation'].min())\n",
    "print(outputNH4['check_mass_conservation'].max())"
   ]
  },
  {
   "cell_type": "code",
   "execution_count": 115,
   "id": "exempt-soviet",
   "metadata": {},
   "outputs": [
    {
     "data": {
      "image/png": "[encoded data removed]",
      "text/plain": [
       "<Figure size 504x432 with 4 Axes>"
      ]
     },
     "metadata": {
      "needs_background": "light"
     },
     "output_type": "display_data"
    },
    {
     "data": {
      "image/png": "[encoded data removed]",
      "text/plain": [
       "<Figure size 504x432 with 4 Axes>"
      ]
     },
     "metadata": {
      "needs_background": "light"
     },
     "output_type": "display_data"
    },
    {
     "data": {
      "image/png": "[encoded data removed]",
      "text/plain": [
       "<Figure size 504x432 with 4 Axes>"
      ]
     },
     "metadata": {
      "needs_background": "light"
     },
     "output_type": "display_data"
    }
   ],
   "source": [
    "inputdata=pd.read_csv(f'{sc.datapath()}00_incubationdata.csv')\n",
    "\n",
    "sc.scatter_plot(data=inputdata, station=stn, feature=ft, tracer=\"NH4+\",\n",
    "             modeloutput=outputNH4, filename=f\"Figures/{stn}{ft}NH4+modelv4.pdf\")\n",
    "\n",
    "sc.scatter_plot(data=inputdata, station=stn, feature=ft, tracer=\"NO2-\",\n",
    "             modeloutput=outputNO2, filename=f\"Figures/{stn}{ft}NO2-modelv4.pdf\")\n",
    "\n",
    "sc.scatter_plot(data=inputdata, station=stn, feature=ft, tracer=\"NO3-\",\n",
    "             modeloutput=outputNO3, filename=f\"Figures/{stn}{ft}NO3-modelv4.pdf\")\n"
   ]
  },
  {
   "cell_type": "code",
   "execution_count": 40,
   "id": "domestic-proceeding",
   "metadata": {},
   "outputs": [
    {
     "data": {
      "text/plain": [
       "<AxesSubplot:>"
      ]
     },
     "execution_count": 40,
     "metadata": {},
     "output_type": "execute_result"
    },
    {
     "data": {
      "image/png": "[encoded data removed]",
      "text/plain": [
       "<Figure size 432x288 with 1 Axes>"
      ]
     },
     "metadata": {
      "needs_background": "light"
     },
     "output_type": "display_data"
    }
   ],
   "source": [
    "outputNO2.hybrid1.plot()\n",
    "outputNO2.hybrid2.plot()"
   ]
  },
  {
   "cell_type": "code",
   "execution_count": 118,
   "id": "worthy-report",
   "metadata": {},
   "outputs": [
    {
     "data": {
      "image/png": "[encoded data removed]",
      "text/plain": [
       "<Figure size 216x144 with 1 Axes>"
      ]
     },
     "metadata": {
      "needs_background": "light"
     },
     "output_type": "display_data"
    }
   ],
   "source": [
    "fig, ax = plt.subplots(1,1, figsize = (3,2))\n",
    "\n",
    "ax.plot(outputNO3[['AFNO3-']])\n",
    "ax.set_xlabel(\"model timestep\")\n",
    "ax.set_ylabel(r\"$NO_3^-$ atom fraction\")\n",
    "\n",
    "plt.tight_layout()\n",
    "#plt.savefig(\"figures/no3-atomfraction.pdf\")"
   ]
  },
  {
   "cell_type": "code",
   "execution_count": 119,
   "id": "subsequent-stopping",
   "metadata": {},
   "outputs": [
    {
     "data": {
      "image/png": "[encoded data removed]",
      "text/plain": [
       "<Figure size 216x144 with 1 Axes>"
      ]
     },
     "metadata": {
      "needs_background": "light"
     },
     "output_type": "display_data"
    }
   ],
   "source": [
    "fig, ax = plt.subplots(1,1, figsize = (3,2))\n",
    "\n",
    "ax.plot(outputNO3[['AFNO2-']])\n",
    "ax.set_xlabel(\"model timestep\")\n",
    "ax.set_ylabel(r\"$NO_2^-$ atom fraction\")\n",
    "\n",
    "plt.tight_layout()\n",
    "#plt.savefig(\"figures/no2-atomfraction.pdf\")"
   ]
  },
  {
   "cell_type": "code",
   "execution_count": 63,
   "id": "sound-london",
   "metadata": {},
   "outputs": [
    {
     "data": {
      "text/plain": [
       "[<matplotlib.lines.Line2D at 0x7fb531ed40a0>]"
      ]
     },
     "execution_count": 63,
     "metadata": {},
     "output_type": "execute_result"
    },
    {
     "data": {
      "image/png": "[encoded data removed]",
      "text/plain": [
       "<Figure size 432x288 with 1 Axes>"
      ]
     },
     "metadata": {
      "needs_background": "light"
     },
     "output_type": "display_data"
    }
   ],
   "source": [
    "plt.plot(outputNH4['hybrid1'])\n",
    "plt.plot(outputNH4['hybrid2'])"
   ]
  },
  {
   "cell_type": "code",
   "execution_count": 23,
   "id": "threatened-current",
   "metadata": {},
   "outputs": [
    {
     "data": {
      "text/plain": [
       "(0.029699999999999997,\n",
       " 0.9602999999999999,\n",
       " 0.00030000000000000024,\n",
       " 0.009700000000000009)"
      ]
     },
     "execution_count": 23,
     "metadata": {},
     "output_type": "execute_result"
    }
   ],
   "source": [
    "sc.binomial(0.99, 0.03)"
   ]
  },
  {
   "cell_type": "code",
   "execution_count": 24,
   "id": "unusual-image",
   "metadata": {},
   "outputs": [
    {
     "data": {
      "text/plain": [
       "(0.3465, 0.6434999999999998, 0.0035000000000000027, 0.006500000000000005)"
      ]
     },
     "execution_count": 24,
     "metadata": {},
     "output_type": "execute_result"
    }
   ],
   "source": [
    "sc.binomial_stoichiometry(0.99, 0.03)"
   ]
  },
  {
   "cell_type": "code",
   "execution_count": null,
   "id": "found-horizon",
   "metadata": {},
   "outputs": [],
   "source": []
  }
 ],
 "metadata": {
  "kernelspec": {
   "display_name": "Python 3",
   "language": "python",
   "name": "python3"
  },
  "language_info": {
   "codemirror_mode": {
    "name": "ipython",
    "version": 3
   },
   "file_extension": ".py",
   "mimetype": "text/x-python",
   "name": "python",
   "nbconvert_exporter": "python",
   "pygments_lexer": "ipython3",
   "version": "3.9.2"
  }
 },
 "nbformat": 4,
 "nbformat_minor": 5
}
