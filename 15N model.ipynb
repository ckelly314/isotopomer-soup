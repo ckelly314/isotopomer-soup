{
 "cells": [
  {
   "cell_type": "markdown",
   "id": "equal-jacket",
   "metadata": {},
   "source": [
    "# guiding question:\n",
    "\n",
    "What if we just used the forward model to get exchange between substrate pools and calculate the probabilities based on the proportions of substrate? Like what's the probability of getting a 15NH2OH and a 15NO? Then we can add these to get the total production of 46N2O that we would expect from that combination of processes — and likewise for each of the other isotopomers as well.\n",
    "\n",
    "# next:\n",
    "\n",
    "- separate out rate constants for different steps in AOA ammonia oxidation pathway\n",
    "- which version of the model best explains the data?"
   ]
  },
  {
   "cell_type": "markdown",
   "id": "placed-corner",
   "metadata": {},
   "source": [
    "# initialization"
   ]
  },
  {
   "cell_type": "code",
   "execution_count": 1,
   "id": "valuable-mercury",
   "metadata": {},
   "outputs": [],
   "source": [
    "import pandas as pd\n",
    "import numpy as np\n",
    "import matplotlib.pyplot as plt\n",
    "\n",
    "# use for initialization\n",
    "from collections import namedtuple\n",
    "\n",
    "# use for plotting interpolations of measured incubation data\n",
    "import scipy.interpolate as interp\n",
    "\n",
    "# use for nelder-mead optimization of a convex function\n",
    "from scipy.optimize import minimize\n",
    "from numpy.random import rand\n",
    "\n",
    "import scripts as sc # Python scripts containing helper functions"
   ]
  },
  {
   "cell_type": "markdown",
   "id": "bronze-publisher",
   "metadata": {},
   "source": [
    "Set up the model:"
   ]
  },
  {
   "cell_type": "code",
   "execution_count": 130,
   "id": "caring-employer",
   "metadata": {},
   "outputs": [],
   "source": [
    "### READ IN TRAINING DATA ###\n",
    "path_to_data = sc.datapath()\n",
    "filename = '00_incubationdata.csv'\n",
    "\n",
    "PS2SCM15NO2 = sc.grid_data(filename=f'{path_to_data}{filename}',\n",
    "                          station=\"PS2\", feature=\"SCM\", tracer=\"NO2-\", \n",
    "                          T=1000)\n",
    "\n",
    "### SUBSTRATE CONCENTRATIONS AND RATES OF EXCHANGE ###\n",
    "bgc = sc.BioGeoChemistry(\"PS2SCM\", tracer=\"NO2-\")\n",
    "\n",
    "### ISOTOPE EFFECTS ###\n",
    "isos = sc.IsotopeEffects()\n",
    "\n",
    "### MODEL PARAMS ###\n",
    "(dt, T, times) = sc.modelparams()\n",
    "\n",
    "### STATE VARIABLES ###\n",
    "tr = sc.Tracers(bgc, PS2SCM15NO2) \n",
    "\n",
    "### INITIAL GUESS FOR OPTIMIZATION ###\n",
    "x = sc.kestimates(bgc,\n",
    "                  inputdata=pd.read_csv(f'{sc.datapath()}00_incubationdata.csv'),\n",
    "                  station=\"PS2\", feature=\"SCM\", hybridtracer=\"NO2-\") \n",
    "\n",
    "[kestimateNH4, kestimateNO2, kestimateNO3, kestimatehybrid] = x"
   ]
  },
  {
   "cell_type": "code",
   "execution_count": 118,
   "id": "liable-stations",
   "metadata": {},
   "outputs": [],
   "source": [
    "### READ IN TRAINING DATA ###\n",
    "path_to_data = sc.datapath()\n",
    "filename = '00_incubationdata.csv'\n",
    "\n",
    "PS2SCM15NO3 = sc.grid_data(filename=f'{path_to_data}{filename}',\n",
    "                          station=\"PS2\", feature=\"SCM\", tracer=\"NO3-\", \n",
    "                          T=1000)\n",
    "\n",
    "### SUBSTRATE CONCENTRATIONS AND RATES OF EXCHANGE ###\n",
    "bgc = sc.BioGeoChemistry(\"PS2SCM\", tracer=\"NO3-\")\n",
    "\n",
    "### ISOTOPE EFFECTS ###\n",
    "isos = sc.IsotopeEffects()\n",
    "\n",
    "### MODEL PARAMS ###\n",
    "(dt, T, times) = sc.modelparams()\n",
    "\n",
    "### STATE VARIABLES ###\n",
    "tr = sc.Tracers(bgc, PS2SCM15NO3)\n",
    "\n",
    "### INITIAL GUESS FOR OPTIMIZATION ###\n",
    "x = sc.kestimates(bgc,\n",
    "                  inputdata=pd.read_csv(f'{sc.datapath()}00_incubationdata.csv'),\n",
    "                  station=\"PS2\", feature=\"SCM\", hybridtracer=\"NO2-\") \n",
    "\n",
    "[kestimateNH4, kestimateNO2, kestimateNO3, kestimatehybrid] = x"
   ]
  },
  {
   "cell_type": "markdown",
   "id": "placed-citation",
   "metadata": {},
   "source": [
    "# model setup"
   ]
  },
  {
   "cell_type": "code",
   "execution_count": 131,
   "id": "deadly-analyst",
   "metadata": {},
   "outputs": [],
   "source": [
    "# no intermediates\n",
    "def modelv1(x, tracers):\n",
    "\n",
    "    ### UNPACK X ###\n",
    "    [knitrification, kdenitno2, kdenitno3, khybrid1, khybrid2] = x\n",
    "\n",
    "    ### TIME STEPPING ###\n",
    "    for iT in range(T-1):\n",
    "\n",
    "        Jhybrid1 = khybrid1*(tracers.nh4_14[iT]+tracers.nh4_15[iT])*(tracers.no2_14[iT]+tracers.no2_15[iT])\n",
    "        Jhybrid2 = khybrid2*(tracers.nh4_14[iT]+tracers.nh4_15[iT])*(tracers.no2_14[iT]+tracers.no2_15[iT])\n",
    "\n",
    "        Jnitrification = knitrification*((tracers.nh4_14[iT]+tracers.nh4_15[iT])**2)\n",
    "        Jdenitno2 = kdenitno2*((tracers.no2_14[iT]+tracers.no2_15[iT])**2)\n",
    "        Jdenitno3 = kdenitno3*((tracers.no3_14[iT]+tracers.no3_15[iT])**2)\n",
    "\n",
    "        # update substrate values\n",
    "        tracers.nh4_14[iT+1,:] = tracers.nh4_14[iT,:] + dt*(\n",
    "            -bgc.kNH4TONO2*tracers.nh4_14[iT]\n",
    "\n",
    "            -Jnitrification*(1-tracers.afnh4[iT,:])\n",
    "            -Jhybrid1*(1-tracers.afnh4[iT,:])\n",
    "            -Jhybrid2*(1-tracers.afnh4[iT,:])\n",
    "        )\n",
    "\n",
    "        tracers.nh4_15[iT+1,:] = tracers.nh4_15[iT,:] + dt*(\n",
    "            -bgc.kNH4TONO2/isos.alpha15NH4TONO2AOA*tracers.nh4_15[iT]\n",
    "\n",
    "            -Jnitrification*tracers.afnh4[iT,:]\n",
    "            -Jhybrid1*tracers.afnh4[iT,:]\n",
    "            -Jhybrid2*tracers.afnh4[iT,:]\n",
    "        )\n",
    "\n",
    "        tracers.no2_14[iT+1,:] = tracers.no2_14[iT,:] + dt*(\n",
    "            bgc.kNH4TONO2*tracers.nh4_14[iT]\n",
    "            +bgc.kNO3TONO2*tracers.no3_14[iT]\n",
    "            -bgc.kNO2TONO3*tracers.no2_14[iT]\n",
    "\n",
    "            -Jdenitno2*(1-tracers.afno2[iT,:])\n",
    "            -Jhybrid1*(1-tracers.afno2[iT,:])\n",
    "            -Jhybrid2*(1-tracers.afno2[iT,:])\n",
    "        )\n",
    "\n",
    "        tracers.no2_15[iT+1,:] = tracers.no2_15[iT,:] + dt*(\n",
    "            bgc.kNH4TONO2/isos.alpha15NH4TONO2AOA*tracers.nh4_15[iT]\n",
    "            +bgc.kNO3TONO2/isos.alpha15NO3TONO2*tracers.no3_15[iT]\n",
    "            -bgc.kNO2TONO3/isos.alpha15NO2TONO3*tracers.no2_15[iT]\n",
    "\n",
    "            -Jdenitno2*(tracers.afno2[iT,:])\n",
    "            -Jhybrid1*tracers.afno2[iT,:]\n",
    "            -Jhybrid2*tracers.afno2[iT,:]\n",
    "        )\n",
    "\n",
    "        tracers.no3_14[iT+1,:] = tracers.no3_14[iT,:] + dt*(\n",
    "            bgc.kNO2TONO3*tracers.no2_14[iT]\n",
    "            -bgc.kNO3TONO2*tracers.no3_14[iT]\n",
    "\n",
    "            -Jdenitno3*(1-tracers.afno3[iT,:]))\n",
    "\n",
    "        tracers.no3_15[iT+1,:] = tracers.no3_15[iT,:] + dt*(\n",
    "            bgc.kNO2TONO3/isos.alpha15NO2TONO3*tracers.no2_15[iT]\n",
    "            -bgc.kNO3TONO2/isos.alpha15NO3TONO2*tracers.no3_15[iT]\n",
    "\n",
    "            -Jdenitno3*tracers.afno3[iT,:])\n",
    "\n",
    "        # recalculate atom fractions at each time step\n",
    "        tracers.afnh4[iT+1,:] = tracers.nh4_15[iT+1,:]/(tracers.nh4_14[iT+1,:] + tracers.nh4_15[iT+1,:])\n",
    "        tracers.afno2[iT+1,:] = tracers.no2_15[iT+1,:]/(tracers.no2_14[iT+1,:] + tracers.no2_15[iT+1,:])\n",
    "        tracers.afno3[iT+1,:] = tracers.no3_15[iT+1,:]/(tracers.no3_14[iT+1,:] + tracers.no3_15[iT+1,:])\n",
    "\n",
    "        # calculate total rates of N2O production from substrates\n",
    "\n",
    "        total_nitrification = Jnitrification/2 # need to multiply by 1/2 to convert nmols N/L/day into nmols N2O/L/day\n",
    "        total_denit_no2 = Jdenitno2/2\n",
    "        total_denit_no3 = Jdenitno3/2\n",
    "        total_hybrid1 = Jhybrid1/2\n",
    "        total_hybrid2 = Jhybrid2/2\n",
    "\n",
    "        # calculate probabilities of isotopomer formation\n",
    "\n",
    "        p1, p2, p3, p4 = sc.binomial(tracers.afno2[iT], tracers.afnh4[iT])\n",
    "\n",
    "        p46hybrid1 = p1\n",
    "        p45ahybrid1 = p2 # (p2+p3)/2\n",
    "        p45bhybrid1 = p3 # (p2+p3)/2\n",
    "        p44hybrid1 = p4\n",
    "\n",
    "        p46hybrid2 = p1\n",
    "        p45ahybrid2 = (p2+p3)/2\n",
    "        p45bhybrid2 = (p2+p3)/2\n",
    "        p44hybrid2 = p4\n",
    "        \n",
    "        p46nh4, p45anh4, p45bnh4, p44nh4 = sc.binomial(tracers.afnh4[iT], tracers.afnh4[iT])\n",
    "        p46no2, p45ano2, p45bno2, p44no2 = sc.binomial(tracers.afno2[iT], tracers.afno2[iT])\n",
    "        p46no3, p45ano3, p45bno3, p44no3 = sc.binomial(tracers.afno3[iT], tracers.afno3[iT])\n",
    "\n",
    "        # update N2O values\n",
    "        tracers.n2o_46[iT+1,:] = tracers.n2o_46[iT,:] + dt*(\n",
    "            +total_hybrid1*p46hybrid1\n",
    "            +total_hybrid2*p46hybrid2\n",
    "            +total_nitrification*p46nh4\n",
    "            +total_denit_no2*p46no2\n",
    "            +total_denit_no3*p46no3\n",
    "            -bgc.kN2OCONS/isos.alpha46N2OtoN2*tracers.n2o_46[iT])\n",
    "\n",
    "        tracers.n2o_45a[iT+1, :] = tracers.n2o_45a[iT,:] + dt*(\n",
    "            +total_hybrid1*p45ahybrid1\n",
    "            +total_hybrid2*p45ahybrid2\n",
    "            +total_nitrification*p45anh4\n",
    "            +total_denit_no2*p45ano2\n",
    "            +total_denit_no3*p45ano3\n",
    "            -bgc.kN2OCONS/isos.alpha15N2OatoN2*tracers.n2o_45a[iT])\n",
    "\n",
    "        tracers.n2o_45b[iT+1, :] = tracers.n2o_45b[iT,:] + dt*(\n",
    "            +total_hybrid1*p45bhybrid1\n",
    "            +total_hybrid2*p45bhybrid2\n",
    "            +total_nitrification*p45bnh4\n",
    "            +total_denit_no2*p45bno2\n",
    "            +total_denit_no3*p45bno3\n",
    "            -bgc.kN2OCONS/isos.alpha15N2ObtoN2*tracers.n2o_45b[iT])\n",
    "\n",
    "        tracers.n2o_44[iT+1,:] = tracers.n2o_44[iT,:] + dt*(\n",
    "            +total_hybrid1*p44hybrid1\n",
    "            +total_hybrid2*p44hybrid2\n",
    "            +total_nitrification*p44nh4\n",
    "            +total_denit_no2*p44no2\n",
    "            +total_denit_no3*p44no3\n",
    "            -bgc.kN2OCONS*tracers.n2o_44[iT])\n",
    "\n",
    "        # update N2 values\n",
    "\n",
    "        tracers.n2_28[iT+1,:] = tracers.n2_28[iT,:] + dt*(bgc.kN2OCONS*tracers.n2o_44[iT])\n",
    "\n",
    "        tracers.n2_29[iT+1,:] = tracers.n2_29[iT,:] + dt*(\n",
    "            bgc.kN2OCONS/isos.alpha15N2OatoN2*tracers.n2o_45a[iT]\n",
    "            +bgc.kN2OCONS/isos.alpha15N2ObtoN2*tracers.n2o_45b[iT])\n",
    "\n",
    "        tracers.n2_30[iT+1,:] = tracers.n2_30[iT,:] + dt*(bgc.kN2OCONS/isos.alpha46N2OtoN2*tracers.n2o_46[iT])\n",
    "    \n",
    "    return tracers"
   ]
  },
  {
   "cell_type": "code",
   "execution_count": 132,
   "id": "impossible-objective",
   "metadata": {},
   "outputs": [
    {
     "data": {
      "text/plain": [
       "1.1033550340532607"
      ]
     },
     "execution_count": 132,
     "metadata": {},
     "output_type": "execute_result"
    }
   ],
   "source": [
    "x = [kestimateNH4, kestimateNO2, kestimateNO3, kestimatehybrid, kestimatehybrid]\n",
    "\n",
    "tracers = modelv1(x, tr)\n",
    "\n",
    "sc.costfxn(trainingdata = PS2SCM15NO2,\n",
    "                modeled_44 = tracers.n2o_44,\n",
    "                modeled_45a = tracers.n2o_45a,\n",
    "                modeled_45b = tracers.n2o_45b,\n",
    "                modeled_46 = tracers.n2o_46,\n",
    "                weights = np.array([1,10,10,10]))"
   ]
  },
  {
   "cell_type": "code",
   "execution_count": 133,
   "id": "developmental-proof",
   "metadata": {},
   "outputs": [],
   "source": [
    "# produce n2o from intermediates, plus denitrification from nitrite\n",
    "def modelv2(x, tracers):\n",
    "\n",
    "    ### UNPACK X ###\n",
    "    [knitrification, kdenitno2, kdenitno3, khybrid1, khybrid2] = x\n",
    "\n",
    "    ### TIME STEPPING ###\n",
    "    for iT in range(T-1):\n",
    "\n",
    "        Jhybrid1 = khybrid1*(tracers.nh2oh_14[iT]+tracers.nh2oh_15[iT])*(tracers.no_14[iT]+tracers.no_15[iT])\n",
    "        Jhybrid2 = khybrid2*(tracers.nh2oh_14[iT]+tracers.nh2oh_15[iT])*(tracers.no_14[iT]+tracers.no_15[iT]) \n",
    "        \n",
    "        Jnitrification = knitrification*((tracers.nh4_14[iT]+tracers.nh4_15[iT])**2)\n",
    "        Jdenitno2 = kdenitno2*((tracers.no2_14[iT]+tracers.no2_15[iT])**2)\n",
    "        Jdenitno3 = kdenitno3*((tracers.no3_14[iT]+tracers.no3_15[iT])**2)\n",
    "        \n",
    "        kAOA = bgc.kNH4TONO2\n",
    "        kAOB = bgc.kNH4TONO2\n",
    "        kNO2TONO = 0.017 #bgc.kNO2TONO\n",
    "\n",
    "        # update substrate values\n",
    "        tracers.nh4_14[iT+1,:] = tracers.nh4_14[iT,:] + dt*(\n",
    "            -kAOB*tracers.nh4_14[iT]\n",
    "            -kAOA*tracers.nh4_14[iT]\n",
    "            -Jnitrification*(1-tracers.afnh4[iT,:]))\n",
    "\n",
    "        tracers.nh4_15[iT+1,:] = tracers.nh4_15[iT,:] + dt*(\n",
    "            -kAOB/isos.alpha15NH4TONO2AOB*tracers.nh4_15[iT]\n",
    "            -kAOA/isos.alpha15NH4TONO2AOA*tracers.nh4_15[iT]\n",
    "            -Jnitrification*tracers.afnh4[iT,:])\n",
    "\n",
    "        tracers.nh2oh_14[iT+1, :] = tracers.nh2oh_14[iT, :] + dt*(\n",
    "            +kAOA*tracers.nh4_14[iT]\n",
    "            -kAOA*tracers.nh2oh_14[iT]\n",
    "            -Jhybrid1*(1-tracers.afnh2oh[iT])\n",
    "            -Jhybrid2*(1-tracers.afnh2oh[iT])\n",
    "        )\n",
    "\n",
    "        tracers.nh2oh_15[iT+1, :] = tracers.nh2oh_15[iT, :] + dt*(\n",
    "            +kAOA/isos.alpha15NH4TONO2AOA*tracers.nh4_15[iT]\n",
    "            -kAOA/isos.alpha15NH4TONO2AOA*tracers.nh2oh_15[iT]\n",
    "            -Jhybrid1*(tracers.afnh2oh[iT])\n",
    "            -Jhybrid2*(tracers.afnh2oh[iT])\n",
    "        )\n",
    "            \n",
    "        tracers.no_14[iT+1, :] = tracers.no_14[iT, :] + dt*(\n",
    "            +kAOA*tracers.nh2oh_14[iT]\n",
    "            +kNO2TONO*tracers.no2_14[iT]\n",
    "            -kAOA*tracers.no_14[iT]\n",
    "            -Jhybrid1*(1-tracers.afno[iT])\n",
    "            -Jhybrid2*(1-tracers.afno[iT])\n",
    "        )\n",
    "\n",
    "        tracers.no_15[iT+1, :] = tracers.no_15[iT, :] + dt*(\n",
    "            +kAOA/isos.alpha15NH4TONO2AOA*tracers.nh2oh_15[iT]\n",
    "            +kNO2TONO/isos.alpha15NO2TONO*tracers.no2_15[iT]\n",
    "            -kAOA/isos.alpha15NH4TONO2AOA*tracers.no_15[iT]\n",
    "            -Jhybrid1*(tracers.afno[iT])\n",
    "            -Jhybrid2*(tracers.afno[iT])\n",
    "        )\n",
    "        \n",
    "        tracers.no2_14[iT+1,:] = tracers.no2_14[iT,:] + dt*(\n",
    "            +kAOB*tracers.nh4_14[iT]\n",
    "            +kAOA*tracers.no_14[iT]\n",
    "            +bgc.kNO3TONO2*tracers.no3_14[iT]\n",
    "            -bgc.kNO2TONO3*tracers.no2_14[iT]\n",
    "            -kNO2TONO*tracers.no2_14[iT]\n",
    "            -Jdenitno2*(1-tracers.afno2[iT,:])\n",
    "        )\n",
    "\n",
    "        tracers.no2_15[iT+1,:] = tracers.no2_15[iT,:] + dt*(\n",
    "            kAOB/isos.alpha15NH4TONO2AOB*tracers.nh4_15[iT]\n",
    "            +kAOA/isos.alpha15NH4TONO2AOA*tracers.no_15[iT]\n",
    "            +bgc.kNO3TONO2/isos.alpha15NO3TONO2*tracers.no3_15[iT]\n",
    "            -bgc.kNO2TONO3/isos.alpha15NO2TONO3*tracers.no2_15[iT]\n",
    "            -kNO2TONO/isos.alpha15NO2TONO*tracers.no2_15[iT]\n",
    "            -Jdenitno2*tracers.afno2[iT,:]\n",
    "        )\n",
    "\n",
    "        tracers.no3_14[iT+1,:] = tracers.no3_14[iT,:] + dt*(\n",
    "            bgc.kNO2TONO3*tracers.no2_14[iT]\n",
    "            -bgc.kNO3TONO2*tracers.no3_14[iT]\n",
    "            -Jdenitno3*(1-tracers.afno3[iT,:]))\n",
    "\n",
    "        tracers.no3_15[iT+1,:] = tracers.no3_15[iT,:] + dt*(\n",
    "            bgc.kNO2TONO3/isos.alpha15NO2TONO3*tracers.no2_15[iT]\n",
    "            -bgc.kNO3TONO2/isos.alpha15NO3TONO2*tracers.no3_15[iT]\n",
    "            -Jdenitno3*tracers.afno3[iT,:])\n",
    "\n",
    "        # recalculate atom fractions at each time step\n",
    "        tracers.afnh4[iT+1,:] = tracers.nh4_15[iT+1,:]/(tracers.nh4_14[iT+1,:] + tracers.nh4_15[iT+1,:])\n",
    "        tracers.afnh2oh[iT+1,:] = tracers.nh2oh_15[iT+1,:]/(tracers.nh2oh_14[iT+1,:] + tracers.nh2oh_15[iT+1,:])\n",
    "        tracers.afno[iT+1,:] = tracers.no_15[iT+1,:]/(tracers.no_14[iT+1,:] + tracers.no_15[iT+1,:])\n",
    "        tracers.afno2[iT+1,:] = tracers.no2_15[iT+1,:]/(tracers.no2_14[iT+1,:] + tracers.no2_15[iT+1,:])\n",
    "        tracers.afno3[iT+1,:] = tracers.no3_15[iT+1,:]/(tracers.no3_14[iT+1,:] + tracers.no3_15[iT+1,:])\n",
    "\n",
    "        # calculate total rates of N2O production from substrates\n",
    "\n",
    "        total_nitrification = Jnitrification/2 # need to multiply by 1/2 to convert nmols N/L/day into nmols N2O/L/day\n",
    "        total_denit_no2 = Jdenitno2/2\n",
    "        total_denit_no3 = Jdenitno3/2\n",
    "        total_hybrid1 = Jhybrid1/2\n",
    "        total_hybrid2 = Jhybrid2/2\n",
    "\n",
    "        # calculate probabilities of isotopomer formation\n",
    "\n",
    "        p1, p2, p3, p4 = sc.binomial(tracers.afno[iT], tracers.afnh2oh[iT])\n",
    "\n",
    "        p46hybrid1 = p1\n",
    "        p45ahybrid1 = p2\n",
    "        p45bhybrid1 = p3\n",
    "        p44hybrid1 = p4\n",
    "\n",
    "        p46hybrid2 = p1\n",
    "        p45ahybrid2 = (p2+p3)/2\n",
    "        p45bhybrid2 = (p2+p3)/2\n",
    "        p44hybrid2 = p4\n",
    "        \n",
    "        p46nh4, p45anh4, p45bnh4, p44nh4 = sc.binomial(tracers.afnh4[iT], tracers.afnh4[iT])\n",
    "        p46no2, p45ano2, p45bno2, p44no2 = sc.binomial(tracers.afno2[iT], tracers.afno2[iT])\n",
    "        p46no3, p45ano3, p45bno3, p44no3 = sc.binomial(tracers.afno3[iT], tracers.afno3[iT])\n",
    "\n",
    "        # update N2O values\n",
    "        tracers.n2o_46[iT+1,:] = tracers.n2o_46[iT,:] + dt*(\n",
    "            +total_hybrid1*p46hybrid1\n",
    "            +total_hybrid2*p46hybrid2\n",
    "            +total_nitrification*p46nh4\n",
    "            +total_denit_no2*p46no2\n",
    "            +total_denit_no3*p46no3\n",
    "            -bgc.kN2OCONS/isos.alpha46N2OtoN2*tracers.n2o_46[iT])\n",
    "\n",
    "        tracers.n2o_45a[iT+1, :] = tracers.n2o_45a[iT,:] + dt*(\n",
    "            +total_hybrid1*p45ahybrid1\n",
    "            +total_hybrid2*p45ahybrid2\n",
    "            +total_nitrification*p45anh4\n",
    "            +total_denit_no2*p45ano2\n",
    "            +total_denit_no3*p45ano3\n",
    "            -bgc.kN2OCONS/isos.alpha15N2OatoN2*tracers.n2o_45a[iT])\n",
    "\n",
    "        tracers.n2o_45b[iT+1, :] = tracers.n2o_45b[iT,:] + dt*(\n",
    "            +total_hybrid1*p45bhybrid1\n",
    "            +total_hybrid2*p45bhybrid2\n",
    "            +total_nitrification*p45bnh4\n",
    "            +total_denit_no2*p45bno2\n",
    "            +total_denit_no3*p45bno3\n",
    "            -bgc.kN2OCONS/isos.alpha15N2ObtoN2*tracers.n2o_45b[iT])\n",
    "\n",
    "        tracers.n2o_44[iT+1,:] = tracers.n2o_44[iT,:] + dt*(\n",
    "            +total_hybrid1*p44hybrid1\n",
    "            +total_hybrid2*p44hybrid2\n",
    "            +total_nitrification*p44nh4\n",
    "            +total_denit_no2*p44no2\n",
    "            +total_denit_no3*p44no3\n",
    "            -bgc.kN2OCONS*tracers.n2o_44[iT])\n",
    "\n",
    "        # update N2 values\n",
    "\n",
    "        tracers.n2_28[iT+1,:] = tracers.n2_28[iT,:] + dt*(bgc.kN2OCONS*tracers.n2o_44[iT])\n",
    "\n",
    "        tracers.n2_29[iT+1,:] = tracers.n2_29[iT,:] + dt*(\n",
    "            bgc.kN2OCONS/isos.alpha15N2OatoN2*tracers.n2o_45a[iT]\n",
    "            +bgc.kN2OCONS/isos.alpha15N2ObtoN2*tracers.n2o_45b[iT])\n",
    "\n",
    "        tracers.n2_30[iT+1,:] = tracers.n2_30[iT,:] + dt*(bgc.kN2OCONS/isos.alpha46N2OtoN2*tracers.n2o_46[iT])\n",
    "    \n",
    "    return tracers"
   ]
  },
  {
   "cell_type": "code",
   "execution_count": 134,
   "id": "authentic-transaction",
   "metadata": {},
   "outputs": [],
   "source": [
    "# produce n2o from intermediates, plus denitrification from NO\n",
    "\n",
    "def modelv3(x, tracers):\n",
    "\n",
    "    ### UNPACK X ###\n",
    "    [knitrification, kdenitno, kdenitno3, khybrid1, khybrid2] = x\n",
    "\n",
    "    ### TIME STEPPING ###\n",
    "    for iT in range(T-1):\n",
    "\n",
    "        Jhybrid1 = khybrid1*(tracers.nh2oh_14[iT]+tracers.nh2oh_15[iT])*(tracers.no_14[iT]+tracers.no_15[iT])\n",
    "        Jhybrid2 = khybrid2*(tracers.nh2oh_14[iT]+tracers.nh2oh_15[iT])*(tracers.no_14[iT]+tracers.no_15[iT]) \n",
    "        \n",
    "        Jnitrification = knitrification*((tracers.nh4_14[iT]+tracers.nh4_15[iT])**2)\n",
    "        Jdenitno = kdenitno*((tracers.no_14[iT]+tracers.no_15[iT])**2)\n",
    "        Jdenitno3 = kdenitno3*((tracers.no3_14[iT]+tracers.no3_15[iT])**2)\n",
    "        \n",
    "        kAOA = bgc.kNH4TONO2\n",
    "        kAOB = bgc.kNH4TONO2\n",
    "        kNO2TONO = 0.017 #bgc.kNO2TONO\n",
    "\n",
    "        # update substrate values\n",
    "        tracers.nh4_14[iT+1,:] = tracers.nh4_14[iT,:] + dt*(\n",
    "            -kAOB*tracers.nh4_14[iT]\n",
    "            -kAOA*tracers.nh4_14[iT]\n",
    "            -Jnitrification*(1-tracers.afnh4[iT,:]))\n",
    "\n",
    "        tracers.nh4_15[iT+1,:] = tracers.nh4_15[iT,:] + dt*(\n",
    "            -kAOB/isos.alpha15NH4TONO2AOB*tracers.nh4_15[iT]\n",
    "            -kAOA/isos.alpha15NH4TONO2AOA*tracers.nh4_15[iT]\n",
    "            -Jnitrification*tracers.afnh4[iT,:])\n",
    "\n",
    "        tracers.nh2oh_14[iT+1, :] = tracers.nh2oh_14[iT, :] + dt*(\n",
    "            +kAOA*tracers.nh4_14[iT]\n",
    "            -kAOA*tracers.nh2oh_14[iT]\n",
    "            -Jhybrid1*(1-tracers.afnh2oh[iT])\n",
    "            -Jhybrid2*(1-tracers.afnh2oh[iT])\n",
    "        )\n",
    "\n",
    "        tracers.nh2oh_15[iT+1, :] = tracers.nh2oh_15[iT, :] + dt*(\n",
    "            +kAOA/isos.alpha15NH4TONO2AOA*tracers.nh4_15[iT]\n",
    "            -kAOA/isos.alpha15NH4TONO2AOA*tracers.nh2oh_15[iT]\n",
    "            -Jhybrid1*(tracers.afnh2oh[iT])\n",
    "            -Jhybrid2*(tracers.afnh2oh[iT])\n",
    "        )\n",
    "            \n",
    "        tracers.no_14[iT+1, :] = tracers.no_14[iT, :] + dt*(\n",
    "            +kAOA*tracers.nh2oh_14[iT]\n",
    "            +kNO2TONO*tracers.no2_14[iT]\n",
    "            -kAOA*tracers.no_14[iT]\n",
    "            -Jhybrid1*(1-tracers.afno[iT])\n",
    "            -Jhybrid2*(1-tracers.afno[iT])\n",
    "            -Jdenitno*(1-tracers.afno[iT,:])\n",
    "        )\n",
    "\n",
    "        tracers.no_15[iT+1, :] = tracers.no_15[iT, :] + dt*(\n",
    "            +kAOA/isos.alpha15NH4TONO2AOA*tracers.nh2oh_15[iT]\n",
    "            +kNO2TONO/isos.alpha15NO2TONO*tracers.no2_15[iT]\n",
    "            -kAOA/isos.alpha15NH4TONO2AOA*tracers.no_15[iT]\n",
    "            -Jhybrid1*(tracers.afno[iT])\n",
    "            -Jhybrid2*(tracers.afno[iT])\n",
    "            -Jdenitno*tracers.afno[iT,:]\n",
    "        )\n",
    "        \n",
    "        tracers.no2_14[iT+1,:] = tracers.no2_14[iT,:] + dt*(\n",
    "            +kAOB*tracers.nh4_14[iT]\n",
    "            +kAOA*tracers.no_14[iT]\n",
    "            +bgc.kNO3TONO2*tracers.no3_14[iT]\n",
    "            -bgc.kNO2TONO3*tracers.no2_14[iT]\n",
    "            -kNO2TONO*tracers.no2_14[iT]\n",
    "        )\n",
    "\n",
    "        tracers.no2_15[iT+1,:] = tracers.no2_15[iT,:] + dt*(\n",
    "            kAOB/isos.alpha15NH4TONO2AOB*tracers.nh4_15[iT]\n",
    "            +kAOA/isos.alpha15NH4TONO2AOA*tracers.no_15[iT]\n",
    "            +bgc.kNO3TONO2/isos.alpha15NO3TONO2*tracers.no3_15[iT]\n",
    "            -bgc.kNO2TONO3/isos.alpha15NO2TONO3*tracers.no2_15[iT]\n",
    "            -kNO2TONO/isos.alpha15NO2TONO*tracers.no2_15[iT]\n",
    "        )\n",
    "\n",
    "        tracers.no3_14[iT+1,:] = tracers.no3_14[iT,:] + dt*(\n",
    "            bgc.kNO2TONO3*tracers.no2_14[iT]\n",
    "            -bgc.kNO3TONO2*tracers.no3_14[iT]\n",
    "            -Jdenitno3*(1-tracers.afno3[iT,:]))\n",
    "\n",
    "        tracers.no3_15[iT+1,:] = tracers.no3_15[iT,:] + dt*(\n",
    "            bgc.kNO2TONO3/isos.alpha15NO2TONO3*tracers.no2_15[iT]\n",
    "            -bgc.kNO3TONO2/isos.alpha15NO3TONO2*tracers.no3_15[iT]\n",
    "            -Jdenitno3*tracers.afno3[iT,:])\n",
    "\n",
    "        # recalculate atom fractions at each time step\n",
    "        tracers.afnh4[iT+1,:] = tracers.nh4_15[iT+1,:]/(tracers.nh4_14[iT+1,:] + tracers.nh4_15[iT+1,:])\n",
    "        tracers.afnh2oh[iT+1,:] = tracers.nh2oh_15[iT+1,:]/(tracers.nh2oh_14[iT+1,:] + tracers.nh2oh_15[iT+1,:])\n",
    "        tracers.afno[iT+1,:] = tracers.no_15[iT+1,:]/(tracers.no_14[iT+1,:] + tracers.no_15[iT+1,:])\n",
    "        tracers.afno2[iT+1,:] = tracers.no2_15[iT+1,:]/(tracers.no2_14[iT+1,:] + tracers.no2_15[iT+1,:])\n",
    "        tracers.afno3[iT+1,:] = tracers.no3_15[iT+1,:]/(tracers.no3_14[iT+1,:] + tracers.no3_15[iT+1,:])\n",
    "\n",
    "        # calculate total rates of N2O production from substrates\n",
    "\n",
    "        total_nitrification = Jnitrification/2 # need to multiply by 1/2 to convert nmols N/L/day into nmols N2O/L/day\n",
    "        total_denit_no = Jdenitno/2\n",
    "        total_denit_no3 = Jdenitno3/2\n",
    "        total_hybrid1 = Jhybrid1/2\n",
    "        total_hybrid2 = Jhybrid2/2\n",
    "\n",
    "        # calculate probabilities of isotopomer formation\n",
    "\n",
    "        p1, p2, p3, p4 = sc.binomial(tracers.afno[iT], tracers.afnh2oh[iT])\n",
    "\n",
    "        p46hybrid1 = p1\n",
    "        p45ahybrid1 = p2 # (p2+p3)/2\n",
    "        p45bhybrid1 = p3 # (p2+p3)/2\n",
    "        p44hybrid1 = p4\n",
    "\n",
    "        p46hybrid2 = p1\n",
    "        p45ahybrid2 = (p2+p3)/2\n",
    "        p45bhybrid2 = (p2+p3)/2\n",
    "        p44hybrid2 = p4\n",
    "        \n",
    "        p46nh4, p45anh4, p45bnh4, p44nh4 = sc.binomial(tracers.afnh4[iT], tracers.afnh4[iT])\n",
    "        p46no, p45ano, p45bno, p44no = sc.binomial(tracers.afno[iT], tracers.afno[iT])\n",
    "        p46no3, p45ano3, p45bno3, p44no3 = sc.binomial(tracers.afno3[iT], tracers.afno3[iT])\n",
    "\n",
    "        # update N2O values\n",
    "        tracers.n2o_46[iT+1,:] = tracers.n2o_46[iT,:] + dt*(\n",
    "            +total_hybrid1*p46hybrid1\n",
    "            +total_hybrid2*p46hybrid2\n",
    "            +total_nitrification*p46nh4\n",
    "            +total_denit_no*p46no\n",
    "            +total_denit_no3*p46no3\n",
    "            -bgc.kN2OCONS/isos.alpha46N2OtoN2*tracers.n2o_46[iT])\n",
    "\n",
    "        tracers.n2o_45a[iT+1, :] = tracers.n2o_45a[iT,:] + dt*(\n",
    "            +total_hybrid1*p45ahybrid1\n",
    "            +total_hybrid2*p45ahybrid2\n",
    "            +total_nitrification*p45anh4\n",
    "            +total_denit_no*p45ano\n",
    "            +total_denit_no3*p45ano3\n",
    "            -bgc.kN2OCONS/isos.alpha15N2OatoN2*tracers.n2o_45a[iT])\n",
    "\n",
    "        tracers.n2o_45b[iT+1, :] = tracers.n2o_45b[iT,:] + dt*(\n",
    "            +total_hybrid1*p45bhybrid1\n",
    "            +total_hybrid2*p45bhybrid2\n",
    "            +total_nitrification*p45bnh4\n",
    "            +total_denit_no*p45bno\n",
    "            +total_denit_no3*p45bno3\n",
    "            -bgc.kN2OCONS/isos.alpha15N2ObtoN2*tracers.n2o_45b[iT])\n",
    "\n",
    "        tracers.n2o_44[iT+1,:] = tracers.n2o_44[iT,:] + dt*(\n",
    "            +total_hybrid1*p44hybrid1\n",
    "            +total_hybrid2*p44hybrid2\n",
    "            +total_nitrification*p44nh4\n",
    "            +total_denit_no*p44no\n",
    "            +total_denit_no3*p44no3\n",
    "            -bgc.kN2OCONS*tracers.n2o_44[iT])\n",
    "\n",
    "        # update N2 values\n",
    "\n",
    "        tracers.n2_28[iT+1,:] = tracers.n2_28[iT,:] + dt*(bgc.kN2OCONS*tracers.n2o_44[iT])\n",
    "\n",
    "        tracers.n2_29[iT+1,:] = tracers.n2_29[iT,:] + dt*(\n",
    "            bgc.kN2OCONS/isos.alpha15N2OatoN2*tracers.n2o_45a[iT]\n",
    "            +bgc.kN2OCONS/isos.alpha15N2ObtoN2*tracers.n2o_45b[iT])\n",
    "\n",
    "        tracers.n2_30[iT+1,:] = tracers.n2_30[iT,:] + dt*(bgc.kN2OCONS/isos.alpha46N2OtoN2*tracers.n2o_46[iT])\n",
    "    \n",
    "    return tracers"
   ]
  },
  {
   "cell_type": "markdown",
   "id": "excessive-nerve",
   "metadata": {},
   "source": [
    "# Kestimates for N2O production from intermediates"
   ]
  },
  {
   "cell_type": "code",
   "execution_count": 135,
   "id": "relative-tours",
   "metadata": {},
   "outputs": [
    {
     "name": "stdout",
     "output_type": "stream",
     "text": [
      "0.009752767044479296\n",
      "0.004876383522239648\n"
     ]
    },
    {
     "data": {
      "image/png": "[encoded data removed]",
      "text/plain": [
       "<Figure size 432x288 with 1 Axes>"
      ]
     },
     "metadata": {
      "needs_background": "light"
     },
     "output_type": "display_data"
    }
   ],
   "source": [
    "from scipy import stats\n",
    "\n",
    "data =  PS2SCM15NO2\n",
    "x = [kestimateNH4, kestimateNO2, kestimateNO3, kestimatehybrid, kestimatehybrid]\n",
    "tracers = modelv2(x, tr)\n",
    "\n",
    "data[\"Incubation_time_days\"] = ( data.Incubation_time_hrs / 24.0)\n",
    "p45a = max(0, stats.linregress(data.Incubation_time_days, data[\"45N2Oa\"]).slope)\n",
    "p45b = max(0, stats.linregress(data.Incubation_time_days, data[\"45N2Ob\"]).slope)\n",
    "p45average = (p45a + p45b)/2\n",
    "\n",
    "probability = (tracers.afnh2oh[1:]*(1-tracers.afno[1:]) + (1 - tracers.afnh2oh[1:])*tracers.afno[1:])\n",
    "concentration = ((tracers.nh2oh_14[1:] + tracers.nh2oh_15[1:])*(tracers.no_14[1:] + tracers.no_15[1:]))\n",
    "\n",
    "plt.plot(p45a/probability/concentration)\n",
    "plt.plot(p45average/probability/concentration)\n",
    "\n",
    "kestimate_hybrid1 = np.median(p45a/probability/concentration)\n",
    "kestimate_hybrid2 = np.median(p45average/probability/concentration)\n",
    "\n",
    "print(np.median(p45a/probability/concentration))\n",
    "print(np.median(p45average/probability/concentration))"
   ]
  },
  {
   "cell_type": "code",
   "execution_count": 136,
   "id": "indoor-olive",
   "metadata": {},
   "outputs": [
    {
     "name": "stdout",
     "output_type": "stream",
     "text": [
      "1.1809571995085637\n"
     ]
    }
   ],
   "source": [
    "x = [kestimateNH4, kestimateNO2, kestimateNO3, kestimate_hybrid1, kestimate_hybrid2]\n",
    "\n",
    "tracers = modelv2(x, tr)\n",
    "\n",
    "print(sc.costfxn(trainingdata = PS2SCM15NO2,\n",
    "                modeled_44 = tracers.n2o_44,\n",
    "                modeled_45a = tracers.n2o_45a,\n",
    "                modeled_45b = tracers.n2o_45b,\n",
    "                modeled_46 = tracers.n2o_46,\n",
    "                weights = np.array([1,10,10,10])))"
   ]
  },
  {
   "cell_type": "code",
   "execution_count": 140,
   "id": "nuclear-monitoring",
   "metadata": {},
   "outputs": [
    {
     "name": "stdout",
     "output_type": "stream",
     "text": [
      "4.129500385289392e-05\n"
     ]
    },
    {
     "data": {
      "image/png": "[encoded data removed]",
      "text/plain": [
       "<Figure size 432x288 with 1 Axes>"
      ]
     },
     "metadata": {
      "needs_background": "light"
     },
     "output_type": "display_data"
    }
   ],
   "source": [
    "### ALWAYS ESTIMATE PRODUCTION FROM NO FROM 15NO2- TRACER EXPERIMENT ###\n",
    "\n",
    "from scipy import stats\n",
    "\n",
    "data =  PS2SCM15NO2\n",
    "\n",
    "data[\"Incubation_time_days\"] = ( data.Incubation_time_hrs / 24.0)\n",
    "p46 = max(0, stats.linregress(data.Incubation_time_days, data[\"46N2O\"]).slope)\n",
    "\n",
    "probability = (tracers.afno[1:]**2)\n",
    "concentration = ((tracers.no_14[1:] + tracers.no_15[1:])**2)\n",
    "\n",
    "plt.plot(p46/probability/concentration)\n",
    "\n",
    "kestimateNO = (np.median(p46/probability/concentration))\n",
    "\n",
    "print(np.median(p46/probability/concentration))"
   ]
  },
  {
   "cell_type": "code",
   "execution_count": 139,
   "id": "instant-evaluation",
   "metadata": {},
   "outputs": [
    {
     "name": "stdout",
     "output_type": "stream",
     "text": [
      "1.1743280304022492\n"
     ]
    }
   ],
   "source": [
    "x = [kestimateNH4, kestimateNO, kestimateNO3, kestimate_hybrid1, kestimate_hybrid2]\n",
    "\n",
    "tracers = modelv3(x, tr)\n",
    "\n",
    "print(sc.costfxn(trainingdata = PS2SCM15NO2,\n",
    "                modeled_44 = tracers.n2o_44,\n",
    "                modeled_45a = tracers.n2o_45a,\n",
    "                modeled_45b = tracers.n2o_45b,\n",
    "                modeled_46 = tracers.n2o_46,\n",
    "                weights = np.array([1,10,10,10])))"
   ]
  },
  {
   "cell_type": "code",
   "execution_count": 99,
   "id": "stone-extent",
   "metadata": {},
   "outputs": [],
   "source": [
    "def objective(x, tracers):\n",
    "    \n",
    "    tracers = modelv3(x, tracers)\n",
    "    \n",
    "    cost = sc.costfxn(trainingdata = PS2SCM15NO2,\n",
    "                modeled_44 = tracers.n2o_44,\n",
    "                modeled_45a = tracers.n2o_45a,\n",
    "                modeled_45b = tracers.n2o_45b,\n",
    "                modeled_46 = tracers.n2o_46,\n",
    "                weights = np.array([1,10,10,10]))\n",
    "    \n",
    "    return cost"
   ]
  },
  {
   "cell_type": "code",
   "execution_count": 100,
   "id": "confused-company",
   "metadata": {},
   "outputs": [],
   "source": [
    "#x = [kestimateNH4, kestimateNO2, kestimateNO3, kestimatehybrid, kestimatehybrid] # for modelv1\n",
    "\n",
    "#x = [kestimateNH4, kestimateNO2, kestimateNO3, kestimate_hybrid1, kestimate_hybrid2] # for modelv2\n",
    "\n",
    "x = [kestimateNH4, kestimateNO, kestimateNO3, kestimate_hybrid1, kestimate_hybrid2] # for modelv3"
   ]
  },
  {
   "cell_type": "code",
   "execution_count": 101,
   "id": "honest-california",
   "metadata": {},
   "outputs": [
    {
     "data": {
      "text/plain": [
       "1.1743280304022492"
      ]
     },
     "execution_count": 101,
     "metadata": {},
     "output_type": "execute_result"
    }
   ],
   "source": [
    "objective(x, sc.Tracers(bgc, PS2SCM15NO2) )"
   ]
  },
  {
   "cell_type": "markdown",
   "id": "protective-murder",
   "metadata": {},
   "source": [
    "# optimization"
   ]
  },
  {
   "cell_type": "code",
   "execution_count": 102,
   "id": "opposite-public",
   "metadata": {},
   "outputs": [
    {
     "data": {
      "text/plain": [
       "[0.0,\n",
       " 4.1272628675021676e-05,\n",
       " 2.633772229350046e-09,\n",
       " 0.009752767044479296,\n",
       " 0.004876383522239648]"
      ]
     },
     "execution_count": 102,
     "metadata": {},
     "output_type": "execute_result"
    }
   ],
   "source": [
    "xguess = x\n",
    "\n",
    "xguess"
   ]
  },
  {
   "cell_type": "code",
   "execution_count": 103,
   "id": "banned-message",
   "metadata": {},
   "outputs": [
    {
     "data": {
      "text/plain": [
       "array([0.00000000e+00, 4.38558323e-05, 3.10179502e-09, 7.35101854e-03,\n",
       "       5.23768357e-03])"
      ]
     },
     "execution_count": 103,
     "metadata": {},
     "output_type": "execute_result"
    }
   ],
   "source": [
    "### OPTIMIZE WITH RANDOMLY SELECTED X0 ###\n",
    "\n",
    "# define range for input\n",
    "r_min = np.array(xguess)*0.75\n",
    "r_max = np.array(xguess)*1.25\n",
    "# define the starting point as a random sample from the domain\n",
    "pt = r_min + rand(5)*(r_max - r_min)\n",
    "\n",
    "pt"
   ]
  },
  {
   "cell_type": "code",
   "execution_count": 104,
   "id": "found-boutique",
   "metadata": {},
   "outputs": [
    {
     "name": "stdout",
     "output_type": "stream",
     "text": [
      "Status : Optimization terminated successfully.\n",
      "Total Evaluations: 170\n",
      "Solution: f([0.00000000e+00 6.98655679e-05 4.13581985e-09 2.28030278e-02\n",
      " 1.64268835e-07]) = 0.73057\n"
     ]
    }
   ],
   "source": [
    "# define bounds: no negative rate constants\n",
    "bnds = ((0, None), (0, None), (0, None), (0, None), (0, None))\n",
    "\n",
    "# perform the search with randomly selected x0\n",
    "result = minimize(objective, pt, args = tr, method='nelder-mead', bounds=bnds)\n",
    "# summarize the result\n",
    "print('Status : %s' % result['message'])\n",
    "print('Total Evaluations: %d' % result['nfev'])\n",
    "# evaluate solution\n",
    "solution = result['x']\n",
    "evaluation = objective(solution, tr)\n",
    "print('Solution: f(%s) = %.5f' % (solution, evaluation))"
   ]
  },
  {
   "cell_type": "code",
   "execution_count": 105,
   "id": "residential-meditation",
   "metadata": {},
   "outputs": [
    {
     "name": "stdout",
     "output_type": "stream",
     "text": [
      "Status : Optimization terminated successfully.\n",
      "Total Evaluations: 251\n",
      "Solution: f([0.00000000e+00 6.92684314e-05 4.13909846e-09 2.30075133e-02\n",
      " 2.65353387e-05]) = 0.73094\n"
     ]
    }
   ],
   "source": [
    "# define bounds: no negative rate constants\n",
    "bnds = ((0, None), (0, None), (0, None), (0, None), (0, None))\n",
    "\n",
    "# perform the search with intelligently selcted x0\n",
    "result = minimize(objective, xguess, args = tr, method='nelder-mead', bounds=bnds)\n",
    "# summarize the result\n",
    "print('Status : %s' % result['message'])\n",
    "print('Total Evaluations: %d' % result['nfev'])\n",
    "# evaluate solution\n",
    "solution = result['x']\n",
    "evaluation = objective(solution, tr)\n",
    "print('Solution: f(%s) = %.5f' % (solution, evaluation))"
   ]
  },
  {
   "cell_type": "code",
   "execution_count": 106,
   "id": "trying-piece",
   "metadata": {},
   "outputs": [
    {
     "data": {
      "text/plain": [
       "0.7309421132693373"
      ]
     },
     "execution_count": 106,
     "metadata": {},
     "output_type": "execute_result"
    }
   ],
   "source": [
    "objective(result.x, tr)"
   ]
  },
  {
   "cell_type": "code",
   "execution_count": 107,
   "id": "greater-spyware",
   "metadata": {},
   "outputs": [
    {
     "data": {
      "text/plain": [
       "array([0.00000000e+00, 6.92684314e-05, 4.13909846e-09, 2.30075133e-02,\n",
       "       2.65353387e-05])"
      ]
     },
     "execution_count": 107,
     "metadata": {},
     "output_type": "execute_result"
    }
   ],
   "source": [
    "result.x"
   ]
  },
  {
   "cell_type": "markdown",
   "id": "amazing-gathering",
   "metadata": {},
   "source": [
    "# post-processing"
   ]
  },
  {
   "cell_type": "code",
   "execution_count": 108,
   "id": "generous-navigation",
   "metadata": {},
   "outputs": [],
   "source": [
    "tracers = modelv3(result.x, sc.Tracers(bgc, PS2SCM15NO2))"
   ]
  },
  {
   "cell_type": "code",
   "execution_count": 109,
   "id": "extraordinary-amateur",
   "metadata": {},
   "outputs": [
    {
     "name": "stdout",
     "output_type": "stream",
     "text": [
      "Nit. (nM/day): 0.0\n",
      "Denit. from NO (nM/day): 0.14480919804686862\n",
      "Denit. from NO3- (nM/day): 2.9073310158325976\n",
      "Hybrid 1 (nM/day): 0.23358908779037357\n",
      "Hybrid 2 (nM/day): 0.00026940614833460884\n"
     ]
    }
   ],
   "source": [
    "output = sc.postprocess(bgc, isos, tracers, result.x, model=\"modelv3\")"
   ]
  },
  {
   "cell_type": "code",
   "execution_count": 110,
   "id": "soviet-official",
   "metadata": {},
   "outputs": [
    {
     "name": "stdout",
     "output_type": "stream",
     "text": [
      "31873.489155383657\n",
      "31875.363511943997\n"
     ]
    }
   ],
   "source": [
    "print(output['check_mass_conservation'].min())\n",
    "print(output['check_mass_conservation'].max())"
   ]
  },
  {
   "cell_type": "code",
   "execution_count": 111,
   "id": "domestic-proceeding",
   "metadata": {},
   "outputs": [
    {
     "data": {
      "text/html": [
       "<div>\n",
       "<style scoped>\n",
       "    .dataframe tbody tr th:only-of-type {\n",
       "        vertical-align: middle;\n",
       "    }\n",
       "\n",
       "    .dataframe tbody tr th {\n",
       "        vertical-align: top;\n",
       "    }\n",
       "\n",
       "    .dataframe thead th {\n",
       "        text-align: right;\n",
       "    }\n",
       "</style>\n",
       "<table border=\"1\" class=\"dataframe\">\n",
       "  <thead>\n",
       "    <tr style=\"text-align: right;\">\n",
       "      <th></th>\n",
       "      <th>[NH4+]_nM</th>\n",
       "      <th>[14NH4+]_nM</th>\n",
       "      <th>[15NH4+]_nM</th>\n",
       "      <th>d15NH4+</th>\n",
       "      <th>AFNH4+</th>\n",
       "      <th>[NH2OH]_nM</th>\n",
       "      <th>[14NH2OH]_nM</th>\n",
       "      <th>[15NH2OH]_nM</th>\n",
       "      <th>[NO]_nM</th>\n",
       "      <th>[14NO]_nM</th>\n",
       "      <th>...</th>\n",
       "      <th>NH2OHTONO</th>\n",
       "      <th>NOTONO2</th>\n",
       "      <th>NO2TONO</th>\n",
       "      <th>nitrification</th>\n",
       "      <th>denitno</th>\n",
       "      <th>denitno3</th>\n",
       "      <th>hybrid1</th>\n",
       "      <th>hybrid2</th>\n",
       "      <th>Incubation_time_hrs</th>\n",
       "      <th>check_mass_conservation</th>\n",
       "    </tr>\n",
       "  </thead>\n",
       "  <tbody>\n",
       "    <tr>\n",
       "      <th>0</th>\n",
       "      <td>550.000000</td>\n",
       "      <td>547.984071</td>\n",
       "      <td>2.015929</td>\n",
       "      <td>0.636349</td>\n",
       "      <td>0.003665</td>\n",
       "      <td>0.000000</td>\n",
       "      <td>0.000000</td>\n",
       "      <td>0.000000</td>\n",
       "      <td>0.000000</td>\n",
       "      <td>0.000000</td>\n",
       "      <td>...</td>\n",
       "      <td>0.000000e+00</td>\n",
       "      <td>0.000000</td>\n",
       "      <td>80.317538</td>\n",
       "      <td>0.0</td>\n",
       "      <td>0.000000e+00</td>\n",
       "      <td>2.902296</td>\n",
       "      <td>0.000000e+00</td>\n",
       "      <td>0.000000e+00</td>\n",
       "      <td>0.000</td>\n",
       "      <td>31875.363512</td>\n",
       "    </tr>\n",
       "    <tr>\n",
       "      <th>1</th>\n",
       "      <td>549.998921</td>\n",
       "      <td>547.982996</td>\n",
       "      <td>2.015925</td>\n",
       "      <td>0.636399</td>\n",
       "      <td>0.003665</td>\n",
       "      <td>0.000540</td>\n",
       "      <td>0.000538</td>\n",
       "      <td>0.000002</td>\n",
       "      <td>0.080318</td>\n",
       "      <td>0.000472</td>\n",
       "      <td>...</td>\n",
       "      <td>5.295102e-07</td>\n",
       "      <td>0.000077</td>\n",
       "      <td>80.315396</td>\n",
       "      <td>0.0</td>\n",
       "      <td>4.468442e-07</td>\n",
       "      <td>2.902306</td>\n",
       "      <td>9.972366e-07</td>\n",
       "      <td>1.150147e-09</td>\n",
       "      <td>0.024</td>\n",
       "      <td>31875.362061</td>\n",
       "    </tr>\n",
       "    <tr>\n",
       "      <th>2</th>\n",
       "      <td>549.997841</td>\n",
       "      <td>547.981920</td>\n",
       "      <td>2.015921</td>\n",
       "      <td>0.636448</td>\n",
       "      <td>0.003665</td>\n",
       "      <td>0.001079</td>\n",
       "      <td>0.001075</td>\n",
       "      <td>0.000004</td>\n",
       "      <td>0.160633</td>\n",
       "      <td>0.000945</td>\n",
       "      <td>...</td>\n",
       "      <td>1.059018e-06</td>\n",
       "      <td>0.000154</td>\n",
       "      <td>80.313254</td>\n",
       "      <td>0.0</td>\n",
       "      <td>1.787327e-06</td>\n",
       "      <td>2.902317</td>\n",
       "      <td>3.988882e-06</td>\n",
       "      <td>4.600511e-09</td>\n",
       "      <td>0.048</td>\n",
       "      <td>31875.360610</td>\n",
       "    </tr>\n",
       "    <tr>\n",
       "      <th>3</th>\n",
       "      <td>549.996762</td>\n",
       "      <td>547.980845</td>\n",
       "      <td>2.015917</td>\n",
       "      <td>0.636498</td>\n",
       "      <td>0.003665</td>\n",
       "      <td>0.001619</td>\n",
       "      <td>0.001613</td>\n",
       "      <td>0.000006</td>\n",
       "      <td>0.240946</td>\n",
       "      <td>0.001419</td>\n",
       "      <td>...</td>\n",
       "      <td>1.588521e-06</td>\n",
       "      <td>0.000231</td>\n",
       "      <td>80.311112</td>\n",
       "      <td>0.0</td>\n",
       "      <td>4.021375e-06</td>\n",
       "      <td>2.902327</td>\n",
       "      <td>8.974827e-06</td>\n",
       "      <td>1.035097e-08</td>\n",
       "      <td>0.072</td>\n",
       "      <td>31875.359158</td>\n",
       "    </tr>\n",
       "    <tr>\n",
       "      <th>4</th>\n",
       "      <td>549.995683</td>\n",
       "      <td>547.979769</td>\n",
       "      <td>2.015914</td>\n",
       "      <td>0.636548</td>\n",
       "      <td>0.003665</td>\n",
       "      <td>0.002159</td>\n",
       "      <td>0.002151</td>\n",
       "      <td>0.000008</td>\n",
       "      <td>0.321257</td>\n",
       "      <td>0.001892</td>\n",
       "      <td>...</td>\n",
       "      <td>2.118018e-06</td>\n",
       "      <td>0.000308</td>\n",
       "      <td>80.308970</td>\n",
       "      <td>0.0</td>\n",
       "      <td>7.148914e-06</td>\n",
       "      <td>2.902337</td>\n",
       "      <td>1.595495e-05</td>\n",
       "      <td>1.840138e-08</td>\n",
       "      <td>0.096</td>\n",
       "      <td>31875.357707</td>\n",
       "    </tr>\n",
       "    <tr>\n",
       "      <th>...</th>\n",
       "      <td>...</td>\n",
       "      <td>...</td>\n",
       "      <td>...</td>\n",
       "      <td>...</td>\n",
       "      <td>...</td>\n",
       "      <td>...</td>\n",
       "      <td>...</td>\n",
       "      <td>...</td>\n",
       "      <td>...</td>\n",
       "      <td>...</td>\n",
       "      <td>...</td>\n",
       "      <td>...</td>\n",
       "      <td>...</td>\n",
       "      <td>...</td>\n",
       "      <td>...</td>\n",
       "      <td>...</td>\n",
       "      <td>...</td>\n",
       "      <td>...</td>\n",
       "      <td>...</td>\n",
       "      <td>...</td>\n",
       "      <td>...</td>\n",
       "    </tr>\n",
       "    <tr>\n",
       "      <th>995</th>\n",
       "      <td>548.927143</td>\n",
       "      <td>546.915048</td>\n",
       "      <td>2.012096</td>\n",
       "      <td>0.685837</td>\n",
       "      <td>0.003666</td>\n",
       "      <td>0.305141</td>\n",
       "      <td>0.304047</td>\n",
       "      <td>0.001094</td>\n",
       "      <td>78.456835</td>\n",
       "      <td>0.669564</td>\n",
       "      <td>...</td>\n",
       "      <td>2.994035e-04</td>\n",
       "      <td>0.075344</td>\n",
       "      <td>78.220652</td>\n",
       "      <td>0.0</td>\n",
       "      <td>4.263801e-01</td>\n",
       "      <td>2.912256</td>\n",
       "      <td>5.508091e-01</td>\n",
       "      <td>6.352667e-04</td>\n",
       "      <td>23.880</td>\n",
       "      <td>31873.499149</td>\n",
       "    </tr>\n",
       "    <tr>\n",
       "      <th>996</th>\n",
       "      <td>548.926066</td>\n",
       "      <td>546.913974</td>\n",
       "      <td>2.012092</td>\n",
       "      <td>0.685887</td>\n",
       "      <td>0.003666</td>\n",
       "      <td>0.305128</td>\n",
       "      <td>0.304033</td>\n",
       "      <td>0.001094</td>\n",
       "      <td>78.534003</td>\n",
       "      <td>0.670433</td>\n",
       "      <td>...</td>\n",
       "      <td>2.993906e-04</td>\n",
       "      <td>0.075419</td>\n",
       "      <td>78.218579</td>\n",
       "      <td>0.0</td>\n",
       "      <td>4.272193e-01</td>\n",
       "      <td>2.912266</td>\n",
       "      <td>5.513272e-01</td>\n",
       "      <td>6.358641e-04</td>\n",
       "      <td>23.904</td>\n",
       "      <td>31873.496652</td>\n",
       "    </tr>\n",
       "    <tr>\n",
       "      <th>997</th>\n",
       "      <td>548.924989</td>\n",
       "      <td>546.912901</td>\n",
       "      <td>2.012088</td>\n",
       "      <td>0.685937</td>\n",
       "      <td>0.003666</td>\n",
       "      <td>0.305114</td>\n",
       "      <td>0.304020</td>\n",
       "      <td>0.001094</td>\n",
       "      <td>78.611167</td>\n",
       "      <td>0.671302</td>\n",
       "      <td>...</td>\n",
       "      <td>2.993772e-04</td>\n",
       "      <td>0.075493</td>\n",
       "      <td>78.216506</td>\n",
       "      <td>0.0</td>\n",
       "      <td>4.280592e-01</td>\n",
       "      <td>2.912276</td>\n",
       "      <td>5.518442e-01</td>\n",
       "      <td>6.364604e-04</td>\n",
       "      <td>23.928</td>\n",
       "      <td>31873.494154</td>\n",
       "    </tr>\n",
       "    <tr>\n",
       "      <th>998</th>\n",
       "      <td>548.923912</td>\n",
       "      <td>546.911828</td>\n",
       "      <td>2.012084</td>\n",
       "      <td>0.685986</td>\n",
       "      <td>0.003666</td>\n",
       "      <td>0.305100</td>\n",
       "      <td>0.304006</td>\n",
       "      <td>0.001094</td>\n",
       "      <td>78.688328</td>\n",
       "      <td>0.672172</td>\n",
       "      <td>...</td>\n",
       "      <td>2.993633e-04</td>\n",
       "      <td>0.075567</td>\n",
       "      <td>78.214433</td>\n",
       "      <td>0.0</td>\n",
       "      <td>4.288999e-01</td>\n",
       "      <td>2.912285</td>\n",
       "      <td>5.523602e-01</td>\n",
       "      <td>6.370555e-04</td>\n",
       "      <td>23.952</td>\n",
       "      <td>31873.491655</td>\n",
       "    </tr>\n",
       "    <tr>\n",
       "      <th>999</th>\n",
       "      <td>548.922835</td>\n",
       "      <td>546.910754</td>\n",
       "      <td>2.012080</td>\n",
       "      <td>0.686036</td>\n",
       "      <td>0.003666</td>\n",
       "      <td>0.305085</td>\n",
       "      <td>0.303991</td>\n",
       "      <td>0.001094</td>\n",
       "      <td>78.765485</td>\n",
       "      <td>0.673042</td>\n",
       "      <td>...</td>\n",
       "      <td>2.993489e-04</td>\n",
       "      <td>0.075641</td>\n",
       "      <td>78.212360</td>\n",
       "      <td>0.0</td>\n",
       "      <td>4.297415e-01</td>\n",
       "      <td>2.912295</td>\n",
       "      <td>5.528751e-01</td>\n",
       "      <td>6.376495e-04</td>\n",
       "      <td>23.976</td>\n",
       "      <td>31873.489155</td>\n",
       "    </tr>\n",
       "  </tbody>\n",
       "</table>\n",
       "<p>1000 rows × 41 columns</p>\n",
       "</div>"
      ],
      "text/plain": [
       "      [NH4+]_nM  [14NH4+]_nM  [15NH4+]_nM   d15NH4+    AFNH4+  [NH2OH]_nM  \\\n",
       "0    550.000000   547.984071     2.015929  0.636349  0.003665    0.000000   \n",
       "1    549.998921   547.982996     2.015925  0.636399  0.003665    0.000540   \n",
       "2    549.997841   547.981920     2.015921  0.636448  0.003665    0.001079   \n",
       "3    549.996762   547.980845     2.015917  0.636498  0.003665    0.001619   \n",
       "4    549.995683   547.979769     2.015914  0.636548  0.003665    0.002159   \n",
       "..          ...          ...          ...       ...       ...         ...   \n",
       "995  548.927143   546.915048     2.012096  0.685837  0.003666    0.305141   \n",
       "996  548.926066   546.913974     2.012092  0.685887  0.003666    0.305128   \n",
       "997  548.924989   546.912901     2.012088  0.685937  0.003666    0.305114   \n",
       "998  548.923912   546.911828     2.012084  0.685986  0.003666    0.305100   \n",
       "999  548.922835   546.910754     2.012080  0.686036  0.003666    0.305085   \n",
       "\n",
       "     [14NH2OH]_nM  [15NH2OH]_nM    [NO]_nM  [14NO]_nM  ...     NH2OHTONO  \\\n",
       "0        0.000000      0.000000   0.000000   0.000000  ...  0.000000e+00   \n",
       "1        0.000538      0.000002   0.080318   0.000472  ...  5.295102e-07   \n",
       "2        0.001075      0.000004   0.160633   0.000945  ...  1.059018e-06   \n",
       "3        0.001613      0.000006   0.240946   0.001419  ...  1.588521e-06   \n",
       "4        0.002151      0.000008   0.321257   0.001892  ...  2.118018e-06   \n",
       "..            ...           ...        ...        ...  ...           ...   \n",
       "995      0.304047      0.001094  78.456835   0.669564  ...  2.994035e-04   \n",
       "996      0.304033      0.001094  78.534003   0.670433  ...  2.993906e-04   \n",
       "997      0.304020      0.001094  78.611167   0.671302  ...  2.993772e-04   \n",
       "998      0.304006      0.001094  78.688328   0.672172  ...  2.993633e-04   \n",
       "999      0.303991      0.001094  78.765485   0.673042  ...  2.993489e-04   \n",
       "\n",
       "      NOTONO2    NO2TONO  nitrification       denitno  denitno3       hybrid1  \\\n",
       "0    0.000000  80.317538            0.0  0.000000e+00  2.902296  0.000000e+00   \n",
       "1    0.000077  80.315396            0.0  4.468442e-07  2.902306  9.972366e-07   \n",
       "2    0.000154  80.313254            0.0  1.787327e-06  2.902317  3.988882e-06   \n",
       "3    0.000231  80.311112            0.0  4.021375e-06  2.902327  8.974827e-06   \n",
       "4    0.000308  80.308970            0.0  7.148914e-06  2.902337  1.595495e-05   \n",
       "..        ...        ...            ...           ...       ...           ...   \n",
       "995  0.075344  78.220652            0.0  4.263801e-01  2.912256  5.508091e-01   \n",
       "996  0.075419  78.218579            0.0  4.272193e-01  2.912266  5.513272e-01   \n",
       "997  0.075493  78.216506            0.0  4.280592e-01  2.912276  5.518442e-01   \n",
       "998  0.075567  78.214433            0.0  4.288999e-01  2.912285  5.523602e-01   \n",
       "999  0.075641  78.212360            0.0  4.297415e-01  2.912295  5.528751e-01   \n",
       "\n",
       "          hybrid2  Incubation_time_hrs  check_mass_conservation  \n",
       "0    0.000000e+00                0.000             31875.363512  \n",
       "1    1.150147e-09                0.024             31875.362061  \n",
       "2    4.600511e-09                0.048             31875.360610  \n",
       "3    1.035097e-08                0.072             31875.359158  \n",
       "4    1.840138e-08                0.096             31875.357707  \n",
       "..            ...                  ...                      ...  \n",
       "995  6.352667e-04               23.880             31873.499149  \n",
       "996  6.358641e-04               23.904             31873.496652  \n",
       "997  6.364604e-04               23.928             31873.494154  \n",
       "998  6.370555e-04               23.952             31873.491655  \n",
       "999  6.376495e-04               23.976             31873.489155  \n",
       "\n",
       "[1000 rows x 41 columns]"
      ]
     },
     "execution_count": 111,
     "metadata": {},
     "output_type": "execute_result"
    }
   ],
   "source": [
    "output # convert all units from nM or nM/day to uM or uM/day"
   ]
  },
  {
   "cell_type": "code",
   "execution_count": 112,
   "id": "exempt-soviet",
   "metadata": {},
   "outputs": [
    {
     "data": {
      "image/png": "[encoded data removed]",
      "text/plain": [
       "<Figure size 504x432 with 4 Axes>"
      ]
     },
     "metadata": {
      "needs_background": "light"
     },
     "output_type": "display_data"
    }
   ],
   "source": [
    "station = \"PS2\"\n",
    "feature = \"SCM\"\n",
    "tracer = \"NO2-\"\n",
    "\n",
    "inputdata=pd.read_csv(f'{sc.datapath()}00_incubationdata.csv')\n",
    "\n",
    "sc.scatter_plot(data=inputdata, station=station, feature=feature, tracer=tracer,\n",
    "             modeloutput=output, filename=\"Figures/PS2SCM15NO2modelv3.pdf\")"
   ]
  },
  {
   "cell_type": "code",
   "execution_count": 113,
   "id": "worthy-report",
   "metadata": {},
   "outputs": [
    {
     "data": {
      "image/png": "[encoded data removed]",
      "text/plain": [
       "<Figure size 216x144 with 1 Axes>"
      ]
     },
     "metadata": {
      "needs_background": "light"
     },
     "output_type": "display_data"
    }
   ],
   "source": [
    "fig, ax = plt.subplots(1,1, figsize = (3,2))\n",
    "\n",
    "ax.plot(output[['AFNO3-']])\n",
    "ax.set_xlabel(\"model timestep\")\n",
    "ax.set_ylabel(r\"$NO_3^-$ atom fraction\")\n",
    "\n",
    "plt.tight_layout()\n",
    "#plt.savefig(\"figures/no3-atomfraction.pdf\")"
   ]
  },
  {
   "cell_type": "code",
   "execution_count": 114,
   "id": "subsequent-stopping",
   "metadata": {},
   "outputs": [
    {
     "data": {
      "image/png": "[encoded data removed]",
      "text/plain": [
       "<Figure size 216x144 with 1 Axes>"
      ]
     },
     "metadata": {
      "needs_background": "light"
     },
     "output_type": "display_data"
    }
   ],
   "source": [
    "fig, ax = plt.subplots(1,1, figsize = (3,2))\n",
    "\n",
    "ax.plot(output[['AFNO2-']])\n",
    "ax.set_xlabel(\"model timestep\")\n",
    "ax.set_ylabel(r\"$NO_2^-$ atom fraction\")\n",
    "\n",
    "plt.tight_layout()\n",
    "#plt.savefig(\"figures/no2-atomfraction.pdf\")"
   ]
  },
  {
   "cell_type": "code",
   "execution_count": 115,
   "id": "restricted-wallet",
   "metadata": {},
   "outputs": [
    {
     "data": {
      "text/plain": [
       "array([4649.08363397])"
      ]
     },
     "execution_count": 115,
     "metadata": {},
     "output_type": "execute_result"
    }
   ],
   "source": [
    "tracers.no2_15[-1]"
   ]
  },
  {
   "cell_type": "code",
   "execution_count": 116,
   "id": "sound-london",
   "metadata": {},
   "outputs": [
    {
     "data": {
      "text/plain": [
       "[<matplotlib.lines.Line2D at 0x7fa768ed6160>]"
      ]
     },
     "execution_count": 116,
     "metadata": {},
     "output_type": "execute_result"
    },
    {
     "data": {
      "image/png": "[encoded data removed]",
      "text/plain": [
       "<Figure size 432x288 with 1 Axes>"
      ]
     },
     "metadata": {
      "needs_background": "light"
     },
     "output_type": "display_data"
    }
   ],
   "source": [
    "plt.plot(output['hybrid1'])\n",
    "plt.plot(output['hybrid2'])"
   ]
  },
  {
   "cell_type": "code",
   "execution_count": 117,
   "id": "victorian-corner",
   "metadata": {},
   "outputs": [
    {
     "data": {
      "image/png": "[encoded data removed]",
      "text/plain": [
       "<Figure size 576x432 with 4 Axes>"
      ]
     },
     "metadata": {
      "needs_background": "light"
     },
     "output_type": "display_data"
    }
   ],
   "source": [
    "sc.plot_outputs(trainingdata = PS2SCM15NO2, modeloutput=output, \n",
    "             filename=\"Figures/PS2SCM15NO2OLD.pdf\")"
   ]
  },
  {
   "cell_type": "code",
   "execution_count": null,
   "id": "threatened-current",
   "metadata": {},
   "outputs": [],
   "source": []
  }
 ],
 "metadata": {
  "kernelspec": {
   "display_name": "Python 3",
   "language": "python",
   "name": "python3"
  },
  "language_info": {
   "codemirror_mode": {
    "name": "ipython",
    "version": 3
   },
   "file_extension": ".py",
   "mimetype": "text/x-python",
   "name": "python",
   "nbconvert_exporter": "python",
   "pygments_lexer": "ipython3",
   "version": "3.9.2"
  }
 },
 "nbformat": 4,
 "nbformat_minor": 5
}
