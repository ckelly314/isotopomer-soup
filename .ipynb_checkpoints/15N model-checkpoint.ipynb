{
 "cells": [
  {
   "cell_type": "markdown",
   "id": "equal-jacket",
   "metadata": {},
   "source": [
    "What if we just used the forward model to get exchange between substrate pools and calculate the probabilities based on the proportions of substrate? Like what's the probability of getting a 15NH2OH and a 15NO? Then we can add these to get the total production of 46N2O that we would expect from that combination of processes — and attribute any extra to a different, missing process?\n",
    "\n",
    "If the hybrid process is drawing equally on the NH4+ and NO2- pools, should we calculate the total rate not as the sum of rate constants times substrates, but rather as a minimum of whichever substrate is the limiting reagent?"
   ]
  },
  {
   "cell_type": "code",
   "execution_count": 1,
   "id": "valuable-mercury",
   "metadata": {},
   "outputs": [],
   "source": [
    "import pandas as pd\n",
    "import numpy as np\n",
    "import matplotlib.pyplot as plt\n",
    "import scipy.interpolate as interp\n",
    "\n",
    "import scripts as sc # Python scripts containing helper functions"
   ]
  },
  {
   "cell_type": "markdown",
   "id": "together-mixture",
   "metadata": {},
   "source": [
    "Test modules:"
   ]
  },
  {
   "cell_type": "code",
   "execution_count": 2,
   "id": "secret-pressing",
   "metadata": {},
   "outputs": [
    {
     "name": "stdout",
     "output_type": "stream",
     "text": [
      "0.0036885495224455744\n"
     ]
    }
   ],
   "source": [
    "NH4_ambient = 50.0 # nmol/L\n",
    "d15NH4_ambient = 7.0 # per mil, assume\n",
    "__, _, af = sc.convert_delta(NH4_ambient, d15NH4_ambient)\n",
    "print(af)"
   ]
  },
  {
   "cell_type": "code",
   "execution_count": 3,
   "id": "ethical-thursday",
   "metadata": {},
   "outputs": [
    {
     "name": "stdout",
     "output_type": "stream",
     "text": [
      "271727043.47646296\n"
     ]
    }
   ],
   "source": [
    "af_spike = 0.999\n",
    "_, d15N_spike = sc.convert_af(af_spike)\n",
    "print(d15N_spike)"
   ]
  },
  {
   "cell_type": "code",
   "execution_count": 4,
   "id": "fantastic-winner",
   "metadata": {},
   "outputs": [
    {
     "name": "stdout",
     "output_type": "stream",
     "text": [
      "(0.396, 0.594, 0.0040000000000000036, 0.006000000000000005)\n"
     ]
    }
   ],
   "source": [
    "print(sc.binomial(0.99, 0.40))"
   ]
  },
  {
   "cell_type": "code",
   "execution_count": 5,
   "id": "lesser-reminder",
   "metadata": {},
   "outputs": [
    {
     "data": {
      "text/html": [
       "<div>\n",
       "<style scoped>\n",
       "    .dataframe tbody tr th:only-of-type {\n",
       "        vertical-align: middle;\n",
       "    }\n",
       "\n",
       "    .dataframe tbody tr th {\n",
       "        vertical-align: top;\n",
       "    }\n",
       "\n",
       "    .dataframe thead th {\n",
       "        text-align: right;\n",
       "    }\n",
       "</style>\n",
       "<table border=\"1\" class=\"dataframe\">\n",
       "  <thead>\n",
       "    <tr style=\"text-align: right;\">\n",
       "      <th></th>\n",
       "      <th>Incubation_time_hrs</th>\n",
       "      <th>44N2O</th>\n",
       "      <th>45N2Oa</th>\n",
       "      <th>45N2Ob</th>\n",
       "      <th>46N2O</th>\n",
       "      <th>x</th>\n",
       "      <th>timepoint</th>\n",
       "      <th>adjusted_timepoint</th>\n",
       "    </tr>\n",
       "  </thead>\n",
       "  <tbody>\n",
       "    <tr>\n",
       "      <th>0</th>\n",
       "      <td>0.283333</td>\n",
       "      <td>17.287897</td>\n",
       "      <td>0.079703</td>\n",
       "      <td>0.067088</td>\n",
       "      <td>0.038824</td>\n",
       "      <td>11.805556</td>\n",
       "      <td>12.0</td>\n",
       "      <td>0.0</td>\n",
       "    </tr>\n",
       "    <tr>\n",
       "      <th>1</th>\n",
       "      <td>11.733333</td>\n",
       "      <td>17.300354</td>\n",
       "      <td>0.151967</td>\n",
       "      <td>0.060203</td>\n",
       "      <td>0.074242</td>\n",
       "      <td>488.888889</td>\n",
       "      <td>489.0</td>\n",
       "      <td>477.0</td>\n",
       "    </tr>\n",
       "    <tr>\n",
       "      <th>2</th>\n",
       "      <td>24.083333</td>\n",
       "      <td>17.855326</td>\n",
       "      <td>0.183157</td>\n",
       "      <td>0.055270</td>\n",
       "      <td>0.103027</td>\n",
       "      <td>1003.472222</td>\n",
       "      <td>1003.0</td>\n",
       "      <td>991.0</td>\n",
       "    </tr>\n",
       "  </tbody>\n",
       "</table>\n",
       "</div>"
      ],
      "text/plain": [
       "   Incubation_time_hrs      44N2O    45N2Oa    45N2Ob     46N2O            x  \\\n",
       "0             0.283333  17.287897  0.079703  0.067088  0.038824    11.805556   \n",
       "1            11.733333  17.300354  0.151967  0.060203  0.074242   488.888889   \n",
       "2            24.083333  17.855326  0.183157  0.055270  0.103027  1003.472222   \n",
       "\n",
       "   timepoint  adjusted_timepoint  \n",
       "0       12.0                 0.0  \n",
       "1      489.0               477.0  \n",
       "2     1003.0               991.0  "
      ]
     },
     "execution_count": 5,
     "metadata": {},
     "output_type": "execute_result"
    }
   ],
   "source": [
    "sc.grid_data(filename='00_incubationdata.csv',\n",
    "                          station=\"PS2\", feature=\"SCM\", tracer=\"NO2-\", \n",
    "                          T=1000)"
   ]
  },
  {
   "cell_type": "code",
   "execution_count": 7,
   "id": "arctic-possession",
   "metadata": {},
   "outputs": [],
   "source": [
    "?sc.costfxn"
   ]
  },
  {
   "cell_type": "code",
   "execution_count": 61,
   "id": "greek-retreat",
   "metadata": {},
   "outputs": [],
   "source": [
    "### INITS ###\n",
    "\n",
    "### STATION SPECIFIC ###\n",
    "\n",
    "\"\"\"\n",
    "Station: PS2\n",
    "Feature: Secondary chlorophyll max\n",
    "Tracer: 15NO2-\n",
    "\"\"\"\n",
    "\n",
    "N2O_init = 17.287897 # nmol/L; these are the initial values measured in the 15NO2- experiment, specifically\n",
    "N2O45a_init = 0.079703 # nmol/L\n",
    "N2O45b_init = 0.067088 # nmol/L\n",
    "N2O46_init = 0.038824 # nmol/L\n",
    "\n",
    "NH4_ambient = 50.0 # nmol/L\n",
    "NO2_ambient = 0.027885*1000 #nmol/L\n",
    "NO3_ambient = 28.101655*1000 # nmol/L\n",
    "\n",
    "d15NH4_ambient = 7.0 # per mil, assume\n",
    "d15NO2_ambient = -22.82 # per mil, PS2 sigma-theta=26.27\n",
    "d15NO3_ambient = 15.25 # per mil, PS2 sigma-theta=26.27\n",
    "\n",
    "__, _, afNH4_ambient = sc.convert_delta(NH4_ambient, d15NH4_ambient)\n",
    "__, _, afNO2_ambient = sc.convert_delta(NO2_ambient, d15NO2_ambient)\n",
    "__, _, afNO3_ambient = sc.convert_delta(NO3_ambient, d15NO3_ambient)\n",
    "\n",
    "### NON-STATION SPECIFIC ###\n",
    "\n",
    "NH4_carrier = 0.50*1000 # nmol/L; THESE ARE TRUE FOR ALL EXPERIMENTS\n",
    "NO2_carrier = 1.00*1000 # nmol/L\n",
    "NO3_carrier = 0.0 # nmol/L\n",
    "\n",
    "R15std = 0.00367647 # air N2\n",
    "af_carrier = R15std/(1+R15std)\n",
    "\n",
    "NH4_spike = 0.50*1000 # nmol/L; THESE ARE TRUE FOR ALL EXPERIMENTS\n",
    "NO2_spike = 4.80*1000 # nmol/L\n",
    "NO3_spike = 1.00*1000 # nmol/L\n",
    "\n",
    "af_spike = 0.99999999\n",
    "_, d15N_spike = sc.convert_af(af_spike)\n",
    "\n",
    "### ISOTOPE MIXING - TRACER ###\n",
    "\n",
    "NO2_init = NO2_ambient + NO2_spike # nmol/L\n",
    "AFNO2_init = (afNO2_ambient*NO2_ambient + af_spike*NO2_spike)/NO2_init\n",
    "_, d15NO2_init = sc.convert_af(AFNO2_init)\n",
    "\n",
    "### ISOTOPE MIXING - NATURAL ABUNDANCE SPECIES ###\n",
    "\n",
    "NH4_init = NH4_ambient + NH4_carrier # nmol/L\n",
    "AFNH4_init = (afNH4_ambient*NH4_ambient + af_carrier*NH4_carrier)/NH4_init\n",
    "_, d15NH4_init = sc.convert_af(AFNH4_init)\n",
    "\n",
    "NO3_init = NO3_ambient + NO3_carrier # nmol/L\n",
    "AFNO3_init = (afNO3_ambient*NO3_ambient + af_carrier*NO3_carrier)/NO3_init\n",
    "_, d15NO3_init = sc.convert_af(AFNO3_init)\n",
    "\n",
    "### NON-MEASURED SPECIES ###\n",
    "\n",
    "NO_init = 0.0 # assume that NO starts at 0\n",
    "d15NO_init = 0.0\n",
    "\n",
    "NH2OH_init = 0.0 # assume that NH2OH starts at 0\n",
    "d15NH2OH_init = 0.0\n",
    "\n",
    "N2_init = 0.0 # assume that N2 starts at 0\n",
    "d15NO_init = 0.0"
   ]
  },
  {
   "cell_type": "code",
   "execution_count": 62,
   "id": "velvet-latvia",
   "metadata": {},
   "outputs": [],
   "source": [
    "# Isotope effects, translated into fractionation factors\n",
    "alpha15NH4TON2Oa = -21.3/1000 + 1 # AOA, Santoro et al., 2011 (adjusted based on δ15NH4+ value)\n",
    "alpha15NH4TON2Ob = 9.0/1000 + 1 # AOA, Santoro et al., 2011 (adjusted based on δ15NH4+ value)\n",
    "alpha15NH4TON2O46 = (alpha15NH4TON2Oa + alpha15NH4TON2Ob)/2\n",
    "\n",
    "alpha15NOxTON2Oa = 22./1000.+1 # Toyoda et al., 2005\n",
    "alpha15NOxTON2Ob = 22./1000.+1 # Toyoda et al., 2005\n",
    "alpha15NOxTON2O46 = 22./1000.+1 # Toyoda et al., 2005\n",
    "\n",
    "alpha15NH4TONO2 = 22./1000+1 # AOA, Santoro and Casciotti, 2011\n",
    "alpha15NO2TONO3 = -15./1000+1 # Casciotti, 2009\n",
    "alpha15NO3TONO2 = 5./1000+1 # Granger et al., 2004\n",
    "\n",
    "alpha15N2OatoN2 = 11.8/1000.+1 # Kelly et al., 2021\n",
    "alpha15N2ObtoN2 = 0./1000.+1 # Kelly et al., 2021\n",
    "alpha46N2OtoN2 = 11.8/1000.+1 # assume this is the same as the alpha effect"
   ]
  },
  {
   "cell_type": "code",
   "execution_count": 63,
   "id": "female-encoding",
   "metadata": {},
   "outputs": [],
   "source": [
    "### READ IN TRAINING DATA ###\n",
    "PS2SCM15NO2 = sc.grid_data(filename='00_incubationdata.csv',\n",
    "                          station=\"PS2\", feature=\"SCM\", tracer=\"NO2-\", \n",
    "                          T=1000)"
   ]
  },
  {
   "cell_type": "code",
   "execution_count": 159,
   "id": "choice-picking",
   "metadata": {},
   "outputs": [],
   "source": [
    "### INITIALIZE MODEL PARAMETERS ###\n",
    "\n",
    "# time step (d)\n",
    "dt = 0.001 # 0.001 days/timestep or 1,000 timesteps/day\n",
    "#dt = 0.2 # 0.2 days/timestep or 5 timesteps/day\n",
    "\n",
    "# number of timesteps (y)\n",
    "# increasing n(timesteps) by a factor of 10 decreases rate constants by the same factor\n",
    "T = 1000 # this gets us up to timestep 999\n",
    "times = np.array(list(range(1,T+1))) # vector of timesteps\n",
    "\n",
    "### INITIALIZE STATE VARIABLES ###\n",
    "\n",
    "# N2O state variables\n",
    "n2o_44_i = N2O_init\n",
    "n2o_45a_i = N2O45a_init\n",
    "n2o_45b_i = N2O45b_init\n",
    "n2o_46_i = N2O46_init\n",
    "#n2o_16_i = 0.5*n2o_44_i # 2 nitrogen atoms per oxygen!\n",
    "#n2o_18_i = R18n2o_i*n2o_16_i\n",
    "\n",
    "# substrate state variables\n",
    "nh4_14_i, nh4_15_i, _ = sc.convert_delta(concentration=NH4_init, d15N=d15NH4_init)\n",
    "no2_14_i, no2_15_i, _ = sc.convert_delta(concentration=NO2_init, d15N=d15NO2_init)\n",
    "no3_14_i, no3_15_i, _ = sc.convert_delta(concentration=NO3_init, d15N=d15NO3_init)\n",
    "\n",
    "# initialize arrays of state variables\n",
    "n2o_44 = np.zeros(shape = (T,1))\n",
    "n2o_45a = np.zeros(shape = (T,1))\n",
    "n2o_45b = np.zeros(shape = (T,1))\n",
    "n2o_46 = np.zeros(shape = (T,1))\n",
    "nh4_14 = np.zeros(shape = (T,1))\n",
    "nh4_15 = np.zeros(shape = (T,1))\n",
    "no2_14 = np.zeros(shape = (T,1))\n",
    "no2_15 = np.zeros(shape = (T,1))\n",
    "no3_14 = np.zeros(shape = (T,1))\n",
    "no3_15 = np.zeros(shape = (T,1))\n",
    "n2_28 = np.zeros(shape = (T,1))\n",
    "n2_29 = np.zeros(shape = (T,1))\n",
    "n2_30 = np.zeros(shape = (T,1))\n",
    "\n",
    "afnh4 = np.zeros(shape = (T,1))\n",
    "afno2 = np.zeros(shape = (T,1))\n",
    "afno3 = np.zeros(shape = (T,1))\n",
    "\n",
    "# initial values of state variables\n",
    "n2o_44[0,:] = n2o_44_i\n",
    "n2o_45a[0,:] = n2o_45a_i\n",
    "n2o_45b[0,:] = n2o_45b_i\n",
    "n2o_46[0,:] = n2o_46_i\n",
    "nh4_14[0,:] = nh4_14_i\n",
    "nh4_15[0,:] = nh4_15_i\n",
    "no2_14[0,:] = no2_14_i\n",
    "no2_15[0,:] = no2_15_i\n",
    "no3_14[0,:] = no3_14_i\n",
    "no3_15[0,:] = no3_15_i\n",
    "n2_28[0,:] = 0\n",
    "n2_29[0,:] = 0\n",
    "n2_30[0,:] = 0\n",
    "\n",
    "afnh4[0,:] = nh4_15_i/(nh4_14_i+nh4_15_i)\n",
    "afno2[0,:] = no2_15_i/(no2_14_i+no2_15_i)\n",
    "afno3[0,:] = no3_15_i/(no3_14_i+no3_15_i) \n",
    "\n",
    "### ISOTOPE CONSTANTS ###\n",
    "R15std = 0.00367647 # air N2\n",
    "R18std = 0.00200517 # VSMOW"
   ]
  },
  {
   "cell_type": "code",
   "execution_count": 160,
   "id": "adequate-issue",
   "metadata": {},
   "outputs": [],
   "source": [
    "### RATE CONSTANTS ###\n",
    "\n",
    "### SUBSTRATE EXCHANGE ###\n",
    "\n",
    "kNH4TONO2 = 0.539726351/(NH4_ambient + NH4_spike)\n",
    "kNO2TONO3 = 73.23197829/(NO2_ambient + NO2_spike)\n",
    "kNO3TONO2 = 25.74033006/(NO3_ambient + NO3_spike)\n",
    "\n",
    "kNH4toNH2OH = kNH4TONO2\n",
    "kNH2OHtoNO = kNH4TONO2\n",
    "\n",
    "### N2O CONSUMPTION ###\n",
    "\n",
    "kN2OCONS = 0.056 # /day\n",
    "\n",
    "### MEASURED RATES OF N2O PRODUCTION ###\n",
    "\n",
    "kNO2TON2Oa = 0.112/(NO2_spike) # these are the rates measured in the 15NO2- experiment\n",
    "kNO2TON2Ob = 0.000/(NO2_spike)\n",
    "kNO2TO46N2O = 0.067/(NO2_spike)\n",
    "\n",
    "kNO3TON2Oa = 0.019/(NO3_spike) # these are the rates measured in the 15NO3- experiment\n",
    "kNO3TON2Ob = 0.017/(NO3_spike)\n",
    "kNO3TO46N2O = 0.004/(NO3_spike)\n",
    "\n",
    "kNH4TON2Oa = 0.000/(NH4_spike) # these are the rates measured in the 15NH4+ experiment\n",
    "kNH4TON2Ob = 0.003/(NH4_spike)\n",
    "kNH4TO46N2O = 0.000/(NH4_spike)\n",
    "\n",
    "### ASSUMED RATES OF N2O PRODUCTION ###\n",
    "\n",
    "knitrification = 0.003/(NH4_spike + NH4_ambient)\n",
    "kdenitno2 = 0.067/(NO2_spike + NO2_ambient)/(0.994245**2)\n",
    "kdenitno3 = 0.0015/(NO3_spike + NO3_ambient)/(0.034362**2)\n",
    "khybrid = 0.00025\n",
    "\n",
    "x = [knitrification, kdenitno2, kdenitno3, khybrid]\n",
    "\n",
    "# not used if we're using the limiting reagent idea:\n",
    "khybridnh4 = 0.003/(NH4_spike + NH4_ambient)\n",
    "khybridno2 = 0.112/(NO2_spike + NO2_ambient)"
   ]
  },
  {
   "cell_type": "code",
   "execution_count": 161,
   "id": "bored-period",
   "metadata": {},
   "outputs": [
    {
     "data": {
      "text/plain": [
       "0.4998932448817974"
      ]
     },
     "execution_count": 161,
     "metadata": {},
     "output_type": "execute_result"
    }
   ],
   "source": [
    "### UNPACK X ###\n",
    "[knitrification, kdenitno2, kdenitno3, khybrid] = x\n",
    "\n",
    "### TIME STEPPING ###\n",
    "for iT in range(T-1):\n",
    "\n",
    "    Jhybrid = min((khybrid*nh4_14[iT] + khybrid*nh4_15[iT]),\n",
    "                  (khybrid*no2_14[iT] + khybrid*no2_15[iT]))\n",
    "    \n",
    "    # update substrate values\n",
    "    nh4_14[iT+1,:] = nh4_14[iT,:] + dt*(\n",
    "        -kNH4TONO2*nh4_14[iT]\n",
    "\n",
    "        -knitrification*nh4_14[iT]\n",
    "        #-khybridnh4*nh4_14[iT])\n",
    "        -Jhybrid*(1-afnh4[iT,:]))\n",
    "    \n",
    "    nh4_15[iT+1,:] = nh4_15[iT,:] + dt*(\n",
    "        -kNH4TONO2/alpha15NH4TONO2*nh4_15[iT]\n",
    "    \n",
    "        -knitrification*nh4_15[iT]\n",
    "        #-khybridnh4*nh4_15[iT])\n",
    "        -Jhybrid*afnh4[iT,:])\n",
    "    \n",
    "    afnh4[iT+1,:] = nh4_15[iT+1,:]/(nh4_14[iT+1,:] + nh4_15[iT+1,:])\n",
    "    \n",
    "    no2_14[iT+1,:] = no2_14[iT,:] + dt*(\n",
    "        kNH4TONO2*nh4_14[iT]\n",
    "        +kNO3TONO2*no3_14[iT]\n",
    "        -kNO2TONO3*no2_14[iT]\n",
    "        \n",
    "        -kdenitno2*no2_14[iT]\n",
    "        #-khybridno2*no2_14[iT])\n",
    "        -Jhybrid*(1-afno2[iT,:]))\n",
    "    \n",
    "    no2_15[iT+1,:] = no2_15[iT,:] + dt*(\n",
    "        kNH4TONO2/alpha15NH4TONO2*nh4_15[iT]\n",
    "        +kNO3TONO2/alpha15NO3TONO2*no3_15[iT]\n",
    "        -kNO2TONO3/alpha15NO2TONO3*no2_15[iT]\n",
    "        \n",
    "        -kdenitno2*no2_15[iT]\n",
    "        #-khybridno2*no2_15[iT])\n",
    "        -Jhybrid*afno2[iT,:])\n",
    "    \n",
    "    no3_14[iT+1,:] = no3_14[iT,:] + dt*(\n",
    "        kNO2TONO3*no2_14[iT]\n",
    "        -kNO3TONO2*no3_14[iT]\n",
    "    \n",
    "        -kdenitno3*no3_14[iT])\n",
    "    \n",
    "    no3_15[iT+1,:] = no3_15[iT,:] + dt*(\n",
    "        kNO2TONO3/alpha15NO2TONO3*no2_15[iT]\n",
    "        -kNO3TONO2/alpha15NO3TONO2*no3_15[iT]\n",
    "    \n",
    "        -kdenitno3*no3_15[iT])\n",
    "    \n",
    "    # recalculate atom fractions at each time step\n",
    "    afnh4[iT+1,:] = nh4_15[iT+1,:]/(nh4_14[iT+1,:] + nh4_15[iT+1,:])\n",
    "    afno2[iT+1,:] = no2_15[iT+1,:]/(no2_14[iT+1,:] + no2_15[iT+1,:])\n",
    "    afno3[iT+1,:] = no3_15[iT+1,:]/(no3_14[iT+1,:] + no3_15[iT+1,:])\n",
    "    \n",
    "    # calculate total rates of N2O production from substrates\n",
    "    #total_hybrid = (khybridnh4*nh4_14[iT]+khybridnh4*nh4_15[iT]+khybridno2*no2_14[iT]+khybridno2*no2_15[iT])\n",
    "    total_hybrid = Jhybrid\n",
    "    total_nitrification = knitrification*nh4_14[iT] + knitrification*nh4_15[iT]\n",
    "    total_denit_no2 = (kdenitno2*no2_14[iT] + kdenitno2*no2_15[iT])\n",
    "    total_denit_no3 = (kdenitno3*no3_14[iT] + kdenitno3*no3_15[iT])\n",
    "    \n",
    "    # calculate probabilities of isotopomer formation\n",
    "    p1, p2, p3, p4 = sc.binomial(afno2[iT], afnh4[iT])\n",
    "    \n",
    "    p46hybrid = p1\n",
    "    p45ahybrid = p2 #(p2+p3)/2\n",
    "    p45bhybrid=  p3 #(p2+p3)/2\n",
    "    p44hybrid = p4\n",
    "    \n",
    "    p46nh4, p45anh4, p45bnh4, p44nh4 = sc.binomial(afnh4[iT], afnh4[iT])\n",
    "    p46no2, p45ano2, p45bno2, p44no2 = sc.binomial(afno2[iT], afno2[iT])\n",
    "    p46no3, p45ano3, p45bno3, p44no3 = sc.binomial(afno3[iT], afno3[iT])\n",
    "    \n",
    "    # update N2O values\n",
    "    n2o_46[iT+1,:] = n2o_46[iT,:] + dt*(\n",
    "        +total_hybrid*p46hybrid\n",
    "        +total_nitrification*p46nh4\n",
    "        +total_denit_no2*p46no2\n",
    "        +total_denit_no3*p46no3\n",
    "        -kN2OCONS/alpha46N2OtoN2*n2o_46[iT])\n",
    "    \n",
    "    n2o_45a[iT+1, :] = n2o_45a[iT,:] + dt*(\n",
    "        +total_hybrid*p45ahybrid\n",
    "        +total_nitrification*p45anh4\n",
    "        +total_denit_no2*p45ano2\n",
    "        +total_denit_no3*p45ano3\n",
    "        -kN2OCONS/alpha15N2OatoN2*n2o_45a[iT])\n",
    "    \n",
    "    n2o_45b[iT+1, :] = n2o_45b[iT,:] + dt*(\n",
    "        +total_hybrid*p45bhybrid\n",
    "        +total_nitrification*p45bnh4\n",
    "        +total_denit_no2*p45bno2\n",
    "        +total_denit_no3*p45bno3\n",
    "        -kN2OCONS/alpha15N2ObtoN2*n2o_45b[iT])\n",
    "    \n",
    "    n2o_44[iT+1,:] = n2o_44[iT,:] + dt*(\n",
    "        +total_hybrid*p44hybrid\n",
    "        +total_nitrification*p44nh4\n",
    "        +total_denit_no2*p44no2\n",
    "        +total_denit_no3*p44no3\n",
    "        -kN2OCONS*n2o_44[iT])\n",
    "    \n",
    "    # update N2 values\n",
    "    \n",
    "    n2_28[iT+1,:] = n2_28[iT,:] + dt*(kN2OCONS*n2o_44[iT])\n",
    "    \n",
    "    n2_29[iT+1,:] = n2_29[iT,:] + dt*(\n",
    "        kN2OCONS/alpha15N2OatoN2*n2o_45a[iT]\n",
    "        +kN2OCONS/alpha15N2ObtoN2*n2o_45b[iT])\n",
    "    \n",
    "    n2_30[iT+1,:] = n2_30[iT,:] + dt*(kN2OCONS/alpha46N2OtoN2*n2o_46[iT])\n",
    "\n",
    "#calculate cost\n",
    "cost = sc.costfxn(measured_data = PS2SCM15NO2,\n",
    "                modeled_44 = n2o_44,\n",
    "                modeled_45a = n2o_45a,\n",
    "                modeled_45b = n2o_45b,\n",
    "                modeled_46 = n2o_46,\n",
    "                weights = np.array([1,10,10,10]))\n",
    "\n",
    "cost"
   ]
  },
  {
   "cell_type": "code",
   "execution_count": 162,
   "id": "intermediate-accreditation",
   "metadata": {},
   "outputs": [
    {
     "data": {
      "text/html": [
       "<div>\n",
       "<style scoped>\n",
       "    .dataframe tbody tr th:only-of-type {\n",
       "        vertical-align: middle;\n",
       "    }\n",
       "\n",
       "    .dataframe tbody tr th {\n",
       "        vertical-align: top;\n",
       "    }\n",
       "\n",
       "    .dataframe thead th {\n",
       "        text-align: right;\n",
       "    }\n",
       "</style>\n",
       "<table border=\"1\" class=\"dataframe\">\n",
       "  <thead>\n",
       "    <tr style=\"text-align: right;\">\n",
       "      <th></th>\n",
       "      <th>0</th>\n",
       "      <th>1</th>\n",
       "      <th>2</th>\n",
       "      <th>3</th>\n",
       "      <th>4</th>\n",
       "      <th>5</th>\n",
       "      <th>6</th>\n",
       "      <th>7</th>\n",
       "      <th>8</th>\n",
       "      <th>9</th>\n",
       "      <th>...</th>\n",
       "      <th>990</th>\n",
       "      <th>991</th>\n",
       "      <th>992</th>\n",
       "      <th>993</th>\n",
       "      <th>994</th>\n",
       "      <th>995</th>\n",
       "      <th>996</th>\n",
       "      <th>997</th>\n",
       "      <th>998</th>\n",
       "      <th>999</th>\n",
       "    </tr>\n",
       "  </thead>\n",
       "  <tbody>\n",
       "    <tr>\n",
       "      <th>0</th>\n",
       "      <td>0.988523</td>\n",
       "      <td>0.988512</td>\n",
       "      <td>0.988502</td>\n",
       "      <td>0.988492</td>\n",
       "      <td>0.988481</td>\n",
       "      <td>0.988471</td>\n",
       "      <td>0.988461</td>\n",
       "      <td>0.988450</td>\n",
       "      <td>0.988440</td>\n",
       "      <td>0.988430</td>\n",
       "      <td>...</td>\n",
       "      <td>0.978269</td>\n",
       "      <td>0.978258</td>\n",
       "      <td>0.978248</td>\n",
       "      <td>0.978237</td>\n",
       "      <td>0.978227</td>\n",
       "      <td>0.978217</td>\n",
       "      <td>0.978206</td>\n",
       "      <td>0.978196</td>\n",
       "      <td>0.978186</td>\n",
       "      <td>0.978175</td>\n",
       "    </tr>\n",
       "    <tr>\n",
       "      <th>1</th>\n",
       "      <td>0.005722</td>\n",
       "      <td>0.005727</td>\n",
       "      <td>0.005732</td>\n",
       "      <td>0.005737</td>\n",
       "      <td>0.005743</td>\n",
       "      <td>0.005748</td>\n",
       "      <td>0.005753</td>\n",
       "      <td>0.005758</td>\n",
       "      <td>0.005763</td>\n",
       "      <td>0.005768</td>\n",
       "      <td>...</td>\n",
       "      <td>0.010806</td>\n",
       "      <td>0.010811</td>\n",
       "      <td>0.010816</td>\n",
       "      <td>0.010821</td>\n",
       "      <td>0.010827</td>\n",
       "      <td>0.010832</td>\n",
       "      <td>0.010837</td>\n",
       "      <td>0.010842</td>\n",
       "      <td>0.010847</td>\n",
       "      <td>0.010852</td>\n",
       "    </tr>\n",
       "    <tr>\n",
       "      <th>2</th>\n",
       "      <td>0.005722</td>\n",
       "      <td>0.005727</td>\n",
       "      <td>0.005732</td>\n",
       "      <td>0.005737</td>\n",
       "      <td>0.005743</td>\n",
       "      <td>0.005748</td>\n",
       "      <td>0.005753</td>\n",
       "      <td>0.005758</td>\n",
       "      <td>0.005763</td>\n",
       "      <td>0.005768</td>\n",
       "      <td>...</td>\n",
       "      <td>0.010806</td>\n",
       "      <td>0.010811</td>\n",
       "      <td>0.010816</td>\n",
       "      <td>0.010821</td>\n",
       "      <td>0.010827</td>\n",
       "      <td>0.010832</td>\n",
       "      <td>0.010837</td>\n",
       "      <td>0.010842</td>\n",
       "      <td>0.010847</td>\n",
       "      <td>0.010852</td>\n",
       "    </tr>\n",
       "    <tr>\n",
       "      <th>3</th>\n",
       "      <td>0.000033</td>\n",
       "      <td>0.000033</td>\n",
       "      <td>0.000033</td>\n",
       "      <td>0.000033</td>\n",
       "      <td>0.000033</td>\n",
       "      <td>0.000033</td>\n",
       "      <td>0.000033</td>\n",
       "      <td>0.000034</td>\n",
       "      <td>0.000034</td>\n",
       "      <td>0.000034</td>\n",
       "      <td>...</td>\n",
       "      <td>0.000119</td>\n",
       "      <td>0.000119</td>\n",
       "      <td>0.000120</td>\n",
       "      <td>0.000120</td>\n",
       "      <td>0.000120</td>\n",
       "      <td>0.000120</td>\n",
       "      <td>0.000120</td>\n",
       "      <td>0.000120</td>\n",
       "      <td>0.000120</td>\n",
       "      <td>0.000120</td>\n",
       "    </tr>\n",
       "  </tbody>\n",
       "</table>\n",
       "<p>4 rows × 1000 columns</p>\n",
       "</div>"
      ],
      "text/plain": [
       "        0         1         2         3         4         5         6    \\\n",
       "0  0.988523  0.988512  0.988502  0.988492  0.988481  0.988471  0.988461   \n",
       "1  0.005722  0.005727  0.005732  0.005737  0.005743  0.005748  0.005753   \n",
       "2  0.005722  0.005727  0.005732  0.005737  0.005743  0.005748  0.005753   \n",
       "3  0.000033  0.000033  0.000033  0.000033  0.000033  0.000033  0.000033   \n",
       "\n",
       "        7         8         9    ...       990       991       992       993  \\\n",
       "0  0.988450  0.988440  0.988430  ...  0.978269  0.978258  0.978248  0.978237   \n",
       "1  0.005758  0.005763  0.005768  ...  0.010806  0.010811  0.010816  0.010821   \n",
       "2  0.005758  0.005763  0.005768  ...  0.010806  0.010811  0.010816  0.010821   \n",
       "3  0.000034  0.000034  0.000034  ...  0.000119  0.000119  0.000120  0.000120   \n",
       "\n",
       "        994       995       996       997       998       999  \n",
       "0  0.978227  0.978217  0.978206  0.978196  0.978186  0.978175  \n",
       "1  0.010827  0.010832  0.010837  0.010842  0.010847  0.010852  \n",
       "2  0.010827  0.010832  0.010837  0.010842  0.010847  0.010852  \n",
       "3  0.000120  0.000120  0.000120  0.000120  0.000120  0.000120  \n",
       "\n",
       "[4 rows x 1000 columns]"
      ]
     },
     "execution_count": 162,
     "metadata": {},
     "output_type": "execute_result"
    }
   ],
   "source": [
    "# one thing that's really useful is that we can pass the \"binomial\" function full arrays,\n",
    "# not just single values...\n",
    "\n",
    "pd.DataFrame(np.array(sc.binomial(afno2, afno2)).reshape(4,1000))"
   ]
  },
  {
   "cell_type": "code",
   "execution_count": 163,
   "id": "balanced-summer",
   "metadata": {},
   "outputs": [],
   "source": [
    "### CALCULATE OUTPUT ###\n",
    "nh4_concentration = pd.DataFrame(nh4_14+nh4_15, columns={'[NH4+]_nM'})\n",
    "d15nh4 = pd.DataFrame((((nh4_15/(nh4_14))/R15std)-1)*1000, columns={'d15NH4+'})\n",
    "afnh4_df = pd.DataFrame(afnh4, columns={'AFNH4+'})\n",
    "\n",
    "no3_concentration = pd.DataFrame(no3_14+no3_15, columns={'[NO3-]_nM'})\n",
    "d15no3 = pd.DataFrame((((no3_15/(no3_14))/R15std)-1)*1000, columns={'d15NO3-'})\n",
    "afno3_df = pd.DataFrame(afno3, columns={'AFNO3-'})\n",
    "\n",
    "no2_concentration = pd.DataFrame(no2_14+no2_15, columns={'[NO2-]_nM'})\n",
    "d15no2 = pd.DataFrame((((no2_15/(no2_14))/R15std)-1)*1000, columns={'d15NO2-'})\n",
    "afno2_df = pd.DataFrame(afno2, columns={'AFNO2-'})\n",
    "\n",
    "\n",
    "n2o_concentration = pd.DataFrame(n2o_44+n2o_45a+n2o_45b+n2o_46, columns={'[N2O]_nM'})\n",
    "\n",
    "n2_concentration = pd.DataFrame(n2_28+n2_29+n2_30, columns = {'[N2]_nM'})\n",
    "\n",
    "\n",
    "d15Na = pd.DataFrame((((n2o_45a/(n2o_44))/R15std)-1)*1000, columns={'d15N2Oa'})\n",
    "d15Nb = pd.DataFrame((((n2o_45b/(n2o_44))/R15std)-1)*1000, columns={'d15N2Ob'})\n",
    "d18O = pd.DataFrame((((n2o_46/(n2o_44))/R15std)-1)*1000, columns={'d18O'})\n",
    "\n",
    "n2o_44 = pd.DataFrame(n2o_44, columns={'[N2O_44]_nM'})\n",
    "n2o_45a = pd.DataFrame(n2o_45a, columns={'[N2O_45a]_nM'})\n",
    "n2o_45b = pd.DataFrame(n2o_45b, columns={'[N2O_45b]_nM'})\n",
    "n2o_46 = pd.DataFrame(n2o_46, columns={'[N2O_46]_nM'})\n",
    "\n",
    "output = nh4_concentration.join([\n",
    "    d15nh4,afnh4_df,\n",
    "    no3_concentration, d15no3, afno3_df,\n",
    "    no2_concentration, d15no2, afno2_df,\n",
    "    n2o_concentration, n2_concentration, n2o_45a, n2o_45b, n2o_46,\n",
    "    d15Na, d15Nb, d18O])\n",
    "\n",
    "output['check_mass_conservation'] = output.loc[:,['[NH4+]_nM',\n",
    "                                                  '[NO3-]_nM',\n",
    "                                                  '[NO2-]_nM',\n",
    "                                                  '[N2O]_nM',\n",
    "                                                  '[N2]_nM',\n",
    "                                                  '[N2]_nM']].sum(axis=1)\n",
    "                                                  "
   ]
  },
  {
   "cell_type": "code",
   "execution_count": 164,
   "id": "soviet-official",
   "metadata": {},
   "outputs": [
    {
     "name": "stdout",
     "output_type": "stream",
     "text": [
      "33497.013512\n",
      "33497.86615445595\n"
     ]
    }
   ],
   "source": [
    "print(output['check_mass_conservation'].min())\n",
    "print(output['check_mass_conservation'].max())"
   ]
  },
  {
   "cell_type": "code",
   "execution_count": 165,
   "id": "destroyed-gibson",
   "metadata": {},
   "outputs": [
    {
     "name": "stdout",
     "output_type": "stream",
     "text": [
      "RangeIndex(start=0, stop=1000, step=1)\n"
     ]
    }
   ],
   "source": [
    "print(output.index)"
   ]
  },
  {
   "cell_type": "code",
   "execution_count": 166,
   "id": "worthy-report",
   "metadata": {},
   "outputs": [
    {
     "data": {
      "text/plain": [
       "[<matplotlib.lines.Line2D at 0x7f810db6cc40>]"
      ]
     },
     "execution_count": 166,
     "metadata": {},
     "output_type": "execute_result"
    },
    {
     "data": {
      "image/png": "[encoded data removed]",
      "text/plain": [
       "<Figure size 432x288 with 1 Axes>"
      ]
     },
     "metadata": {
      "needs_background": "light"
     },
     "output_type": "display_data"
    }
   ],
   "source": [
    "plt.plot(output[['AFNO3-']])"
   ]
  },
  {
   "cell_type": "code",
   "execution_count": 167,
   "id": "subsequent-stopping",
   "metadata": {},
   "outputs": [
    {
     "data": {
      "text/plain": [
       "[<matplotlib.lines.Line2D at 0x7f810dbfedc0>]"
      ]
     },
     "execution_count": 167,
     "metadata": {},
     "output_type": "execute_result"
    },
    {
     "data": {
      "image/png": "[encoded data removed]",
      "text/plain": [
       "<Figure size 432x288 with 1 Axes>"
      ]
     },
     "metadata": {
      "needs_background": "light"
     },
     "output_type": "display_data"
    }
   ],
   "source": [
    "plt.plot(output[['AFNO2-']])"
   ]
  },
  {
   "cell_type": "code",
   "execution_count": 168,
   "id": "working-exception",
   "metadata": {},
   "outputs": [
    {
     "data": {
      "text/plain": [
       "[<matplotlib.lines.Line2D at 0x7f810dd51dc0>]"
      ]
     },
     "execution_count": 168,
     "metadata": {},
     "output_type": "execute_result"
    },
    {
     "data": {
      "image/png": "[encoded data removed]",
      "text/plain": [
       "<Figure size 432x288 with 1 Axes>"
      ]
     },
     "metadata": {
      "needs_background": "light"
     },
     "output_type": "display_data"
    }
   ],
   "source": [
    "plt.plot(n2o_46)\n",
    "x = PS2SCM15NO2.adjusted_timepoint\n",
    "y = PS2SCM15NO2['46N2O']\n",
    "x_fine = np.linspace(x.min(), x.max())\n",
    "plt.plot(x,y,'bo')\n",
    "plt.plot(x_fine,interp.interp1d(x,y,kind=\"quadratic\")(x_fine),zorder=0)"
   ]
  },
  {
   "cell_type": "code",
   "execution_count": 169,
   "id": "excess-stability",
   "metadata": {
    "scrolled": true
   },
   "outputs": [
    {
     "data": {
      "text/plain": [
       "[<matplotlib.lines.Line2D at 0x7f810de43d30>]"
      ]
     },
     "execution_count": 169,
     "metadata": {},
     "output_type": "execute_result"
    },
    {
     "data": {
      "image/png": "[encoded data removed]",
      "text/plain": [
       "<Figure size 432x288 with 1 Axes>"
      ]
     },
     "metadata": {
      "needs_background": "light"
     },
     "output_type": "display_data"
    }
   ],
   "source": [
    "plt.plot(n2o_44)\n",
    "x = PS2SCM15NO2.adjusted_timepoint\n",
    "y = PS2SCM15NO2['44N2O']\n",
    "x_fine = np.linspace(x.min(), x.max())\n",
    "plt.plot(x,y,'bo')\n",
    "plt.plot(x_fine,interp.interp1d(x,y,kind=\"quadratic\")(x_fine),zorder=0)"
   ]
  },
  {
   "cell_type": "code",
   "execution_count": 170,
   "id": "promotional-equipment",
   "metadata": {},
   "outputs": [
    {
     "data": {
      "text/plain": [
       "[<matplotlib.lines.Line2D at 0x7f810df37b20>]"
      ]
     },
     "execution_count": 170,
     "metadata": {},
     "output_type": "execute_result"
    },
    {
     "data": {
      "image/png": "[encoded data removed]",
      "text/plain": [
       "<Figure size 432x288 with 1 Axes>"
      ]
     },
     "metadata": {
      "needs_background": "light"
     },
     "output_type": "display_data"
    }
   ],
   "source": [
    "plt.plot(n2o_45a)\n",
    "x = PS2SCM15NO2.x\n",
    "y = PS2SCM15NO2['45N2Oa']\n",
    "x_fine = np.linspace(x.min(), x.max())\n",
    "plt.plot(x,y,'bo')\n",
    "plt.plot(x_fine,interp.interp1d(x,y,kind=\"quadratic\")(x_fine),zorder=0)"
   ]
  },
  {
   "cell_type": "code",
   "execution_count": 171,
   "id": "complimentary-meditation",
   "metadata": {},
   "outputs": [
    {
     "data": {
      "text/plain": [
       "[<matplotlib.lines.Line2D at 0x7f810e88a0a0>]"
      ]
     },
     "execution_count": 171,
     "metadata": {},
     "output_type": "execute_result"
    },
    {
     "data": {
      "image/png": "[encoded data removed]",
      "text/plain": [
       "<Figure size 432x288 with 1 Axes>"
      ]
     },
     "metadata": {
      "needs_background": "light"
     },
     "output_type": "display_data"
    }
   ],
   "source": [
    "plt.plot(n2o_45b)\n",
    "x = PS2SCM15NO2.x\n",
    "y = PS2SCM15NO2['45N2Ob']\n",
    "x_fine = np.linspace(x.min(), x.max())\n",
    "plt.plot(x,y,'bo')\n",
    "plt.plot(x_fine,interp.interp1d(x,y,kind=\"quadratic\")(x_fine),zorder=0)"
   ]
  },
  {
   "cell_type": "code",
   "execution_count": null,
   "id": "incorporated-monster",
   "metadata": {},
   "outputs": [],
   "source": []
  }
 ],
 "metadata": {
  "kernelspec": {
   "display_name": "Python 3",
   "language": "python",
   "name": "python3"
  },
  "language_info": {
   "codemirror_mode": {
    "name": "ipython",
    "version": 3
   },
   "file_extension": ".py",
   "mimetype": "text/x-python",
   "name": "python",
   "nbconvert_exporter": "python",
   "pygments_lexer": "ipython3",
   "version": "3.9.2"
  }
 },
 "nbformat": 4,
 "nbformat_minor": 5
}
