{
 "cells": [
  {
   "cell_type": "markdown",
   "id": "equal-jacket",
   "metadata": {},
   "source": [
    "# guiding question:\n",
    "\n",
    "What if we just used the forward model to get exchange between substrate pools and calculate the probabilities based on the proportions of substrate? Like what's the probability of getting a 15NH2OH and a 15NO? Then we can add these to get the total production of 46N2O that we would expect from that combination of processes — and likewise for each of the other isotopomers as well.\n",
    "\n",
    "# next:\n",
    "\n",
    "- separate out rate constants for different steps in AOA ammonia oxidation pathway\n",
    "- which version of the model best explains the data?"
   ]
  },
  {
   "cell_type": "markdown",
   "id": "placed-corner",
   "metadata": {},
   "source": [
    "# initialization"
   ]
  },
  {
   "cell_type": "code",
   "execution_count": 1,
   "id": "valuable-mercury",
   "metadata": {},
   "outputs": [],
   "source": [
    "import pandas as pd\n",
    "import numpy as np\n",
    "import matplotlib.pyplot as plt\n",
    "\n",
    "# use for initialization\n",
    "from collections import namedtuple\n",
    "\n",
    "# use for plotting interpolations of measured incubation data\n",
    "import scipy.interpolate as interp\n",
    "\n",
    "# use for nelder-mead optimization of a convex function\n",
    "from scipy.optimize import minimize\n",
    "from numpy.random import rand\n",
    "\n",
    "import scripts as sc # Python scripts containing helper functions"
   ]
  },
  {
   "cell_type": "markdown",
   "id": "bronze-publisher",
   "metadata": {},
   "source": [
    "Set up the model:"
   ]
  },
  {
   "cell_type": "code",
   "execution_count": 2,
   "id": "caring-employer",
   "metadata": {},
   "outputs": [],
   "source": [
    "### READ IN TRAINING DATA ###\n",
    "path_to_data = sc.datapath()\n",
    "filename = '00_incubationdata.csv'\n",
    "\n",
    "PS2SCM15NO2 = sc.grid_data(filename=f'{path_to_data}{filename}',\n",
    "                          station=\"PS2\", feature=\"SCM\", tracer=\"NO2-\", \n",
    "                          T=1000)"
   ]
  },
  {
   "cell_type": "code",
   "execution_count": 3,
   "id": "fewer-invite",
   "metadata": {},
   "outputs": [],
   "source": [
    "### SUBSTRATE CONCENTRATIONS AND RATES OF EXCHANGE ###\n",
    "bgc = sc.BioGeoChemistry(\"PS2SCM\", tracer=\"NO2-\")"
   ]
  },
  {
   "cell_type": "code",
   "execution_count": 4,
   "id": "velvet-latvia",
   "metadata": {},
   "outputs": [],
   "source": [
    "### ISOTOPE EFFECTS ###\n",
    "isos = sc.IsotopeEffects()"
   ]
  },
  {
   "cell_type": "code",
   "execution_count": 5,
   "id": "driving-inside",
   "metadata": {},
   "outputs": [],
   "source": [
    "### MODEL PARAMS ###\n",
    "(dt, T, times) = sc.modelparams()\n",
    "\n",
    "### STATE VARIABLES ###\n",
    "tr = sc.Tracers(bgc, PS2SCM15NO2) "
   ]
  },
  {
   "cell_type": "code",
   "execution_count": 6,
   "id": "imperial-neighbor",
   "metadata": {},
   "outputs": [],
   "source": [
    "### INITIAL GUESS FOR OPTIMIZATION ###\n",
    "x = sc.kestimates(bgc,\n",
    "                  inputdata=pd.read_csv(f'{sc.datapath()}00_incubationdata.csv'),\n",
    "                  station=\"PS2\", feature=\"SCM\", hybridtracer=\"NO2-\") "
   ]
  },
  {
   "cell_type": "code",
   "execution_count": 9,
   "id": "democratic-quantum",
   "metadata": {},
   "outputs": [
    {
     "data": {
      "text/plain": [
       "[0.0, 2.8050367317752543e-09, 2.633772229350046e-09, 3.944363997256793e-08]"
      ]
     },
     "execution_count": 9,
     "metadata": {},
     "output_type": "execute_result"
    }
   ],
   "source": [
    "x"
   ]
  },
  {
   "cell_type": "markdown",
   "id": "placed-citation",
   "metadata": {},
   "source": [
    "# model setup"
   ]
  },
  {
   "cell_type": "code",
   "execution_count": 10,
   "id": "deadly-analyst",
   "metadata": {},
   "outputs": [],
   "source": [
    "def modelv1(x, tracers):\n",
    "\n",
    "    ### UNPACK X ###\n",
    "    [knitrification, kdenitno2, kdenitno3, khybrid] = x\n",
    "\n",
    "    ### TIME STEPPING ###\n",
    "    for iT in range(T-1):\n",
    "\n",
    "        Jhybrid = khybrid*(tracers.nh4_14[iT]+tracers.nh4_15[iT])*(tracers.no2_14[iT]+tracers.no2_15[iT])\n",
    "\n",
    "        Jnitrification = knitrification*((tracers.nh4_14[iT]+tracers.nh4_15[iT])**2)\n",
    "        Jdenitno2 = kdenitno2*((tracers.no2_14[iT]+tracers.no2_15[iT])**2)\n",
    "        Jdenitno3 = kdenitno3*((tracers.no3_14[iT]+tracers.no3_15[iT])**2)\n",
    "\n",
    "        # update substrate values\n",
    "        tracers.nh4_14[iT+1,:] = tracers.nh4_14[iT,:] + dt*(\n",
    "            -bgc.kNH4TONO2*tracers.nh4_14[iT]\n",
    "\n",
    "            -Jnitrification*(1-tracers.afnh4[iT,:])\n",
    "            -Jhybrid*(1-tracers.afnh4[iT,:]))\n",
    "\n",
    "        tracers.nh4_15[iT+1,:] = tracers.nh4_15[iT,:] + dt*(\n",
    "            -bgc.kNH4TONO2/isos.alpha15NH4TONO2AOA*tracers.nh4_15[iT]\n",
    "\n",
    "            -Jnitrification*tracers.afnh4[iT,:]\n",
    "            -Jhybrid*tracers.afnh4[iT,:])\n",
    "\n",
    "        tracers.no2_14[iT+1,:] = tracers.no2_14[iT,:] + dt*(\n",
    "            bgc.kNH4TONO2*tracers.nh4_14[iT]\n",
    "            +bgc.kNO3TONO2*tracers.no3_14[iT]\n",
    "            -bgc.kNO2TONO3*tracers.no2_14[iT]\n",
    "\n",
    "            -Jdenitno2*(1-tracers.afno2[iT,:])\n",
    "            -Jhybrid*(1-tracers.afno2[iT,:]))\n",
    "\n",
    "        tracers.no2_15[iT+1,:] = tracers.no2_15[iT,:] + dt*(\n",
    "            bgc.kNH4TONO2/isos.alpha15NH4TONO2AOA*tracers.nh4_15[iT]\n",
    "            +bgc.kNO3TONO2/isos.alpha15NO3TONO2*tracers.no3_15[iT]\n",
    "            -bgc.kNO2TONO3/isos.alpha15NO2TONO3*tracers.no2_15[iT]\n",
    "\n",
    "            -Jdenitno2*(tracers.afno2[iT,:])\n",
    "            -Jhybrid*tracers.afno2[iT,:])\n",
    "\n",
    "        tracers.no3_14[iT+1,:] = tracers.no3_14[iT,:] + dt*(\n",
    "            bgc.kNO2TONO3*tracers.no2_14[iT]\n",
    "            -bgc.kNO3TONO2*tracers.no3_14[iT]\n",
    "\n",
    "            -Jdenitno3*(1-tracers.afno3[iT,:]))\n",
    "\n",
    "        tracers.no3_15[iT+1,:] = tracers.no3_15[iT,:] + dt*(\n",
    "            bgc.kNO2TONO3/isos.alpha15NO2TONO3*tracers.no2_15[iT]\n",
    "            -bgc.kNO3TONO2/isos.alpha15NO3TONO2*tracers.no3_15[iT]\n",
    "\n",
    "            -Jdenitno3*tracers.afno3[iT,:])\n",
    "\n",
    "        # recalculate atom fractions at each time step\n",
    "        tracers.afnh4[iT+1,:] = tracers.nh4_15[iT+1,:]/(tracers.nh4_14[iT+1,:] + tracers.nh4_15[iT+1,:])\n",
    "        tracers.afno2[iT+1,:] = tracers.no2_15[iT+1,:]/(tracers.no2_14[iT+1,:] + tracers.no2_15[iT+1,:])\n",
    "        tracers.afno3[iT+1,:] = tracers.no3_15[iT+1,:]/(tracers.no3_14[iT+1,:] + tracers.no3_15[iT+1,:])\n",
    "\n",
    "        # calculate total rates of N2O production from substrates\n",
    "\n",
    "        total_nitrification = Jnitrification/2 # need to multiply by 1/2 to convert nmols N/L/day into nmols N2O/L/day\n",
    "        total_denit_no2 = Jdenitno2/2\n",
    "        total_denit_no3 = Jdenitno3/2\n",
    "        total_hybrid = Jhybrid/2\n",
    "\n",
    "        # calculate probabilities of isotopomer formation\n",
    "\n",
    "        p1, p2, p3, p4 = sc.binomial(tracers.afno2[iT], tracers.afnh4[iT])\n",
    "\n",
    "        p46hybrid = p1\n",
    "        p45ahybrid = p2 # (p2+p3)/2\n",
    "        p45bhybrid = p3 # (p2+p3)/2\n",
    "        p44hybrid = p4\n",
    "\n",
    "        p46nh4, p45anh4, p45bnh4, p44nh4 = sc.binomial(tracers.afnh4[iT], tracers.afnh4[iT])\n",
    "        p46no2, p45ano2, p45bno2, p44no2 = sc.binomial(tracers.afno2[iT], tracers.afno2[iT])\n",
    "        p46no3, p45ano3, p45bno3, p44no3 = sc.binomial(tracers.afno3[iT], tracers.afno3[iT])\n",
    "\n",
    "        # update N2O values\n",
    "        tracers.n2o_46[iT+1,:] = tracers.n2o_46[iT,:] + dt*(\n",
    "            +total_hybrid*p46hybrid\n",
    "            +total_nitrification*p46nh4\n",
    "            +total_denit_no2*p46no2\n",
    "            +total_denit_no3*p46no3\n",
    "            -bgc.kN2OCONS/isos.alpha46N2OtoN2*tracers.n2o_46[iT])\n",
    "\n",
    "        tracers.n2o_45a[iT+1, :] = tracers.n2o_45a[iT,:] + dt*(\n",
    "            +total_hybrid*p45ahybrid\n",
    "            +total_nitrification*p45anh4\n",
    "            +total_denit_no2*p45ano2\n",
    "            +total_denit_no3*p45ano3\n",
    "            -bgc.kN2OCONS/isos.alpha15N2OatoN2*tracers.n2o_45a[iT])\n",
    "\n",
    "        tracers.n2o_45b[iT+1, :] = tracers.n2o_45b[iT,:] + dt*(\n",
    "            +total_hybrid*p45bhybrid\n",
    "            +total_nitrification*p45bnh4\n",
    "            +total_denit_no2*p45bno2\n",
    "            +total_denit_no3*p45bno3\n",
    "            -bgc.kN2OCONS/isos.alpha15N2ObtoN2*tracers.n2o_45b[iT])\n",
    "\n",
    "        tracers.n2o_44[iT+1,:] = tracers.n2o_44[iT,:] + dt*(\n",
    "            +total_hybrid*p44hybrid\n",
    "            +total_nitrification*p44nh4\n",
    "            +total_denit_no2*p44no2\n",
    "            +total_denit_no3*p44no3\n",
    "            -bgc.kN2OCONS*tracers.n2o_44[iT])\n",
    "\n",
    "        # update N2 values\n",
    "\n",
    "        tracers.n2_28[iT+1,:] = tracers.n2_28[iT,:] + dt*(bgc.kN2OCONS*tracers.n2o_44[iT])\n",
    "\n",
    "        tracers.n2_29[iT+1,:] = tracers.n2_29[iT,:] + dt*(\n",
    "            bgc.kN2OCONS/isos.alpha15N2OatoN2*tracers.n2o_45a[iT]\n",
    "            +bgc.kN2OCONS/isos.alpha15N2ObtoN2*tracers.n2o_45b[iT])\n",
    "\n",
    "        tracers.n2_30[iT+1,:] = tracers.n2_30[iT,:] + dt*(bgc.kN2OCONS/isos.alpha46N2OtoN2*tracers.n2o_46[iT])\n",
    "    \n",
    "    return tracers"
   ]
  },
  {
   "cell_type": "code",
   "execution_count": 11,
   "id": "impossible-objective",
   "metadata": {},
   "outputs": [
    {
     "data": {
      "text/plain": [
       "1.095125894228893"
      ]
     },
     "execution_count": 11,
     "metadata": {},
     "output_type": "execute_result"
    }
   ],
   "source": [
    "tracers = modelv1(x, tr)\n",
    "\n",
    "sc.costfxn(trainingdata = PS2SCM15NO2,\n",
    "                modeled_44 = tracers.n2o_44,\n",
    "                modeled_45a = tracers.n2o_45a,\n",
    "                modeled_45b = tracers.n2o_45b,\n",
    "                modeled_46 = tracers.n2o_46,\n",
    "                weights = np.array([1,10,10,10]))"
   ]
  },
  {
   "cell_type": "code",
   "execution_count": 12,
   "id": "developmental-proof",
   "metadata": {},
   "outputs": [],
   "source": [
    "def modelv2(x, tracers):\n",
    "\n",
    "    ### UNPACK X ###\n",
    "    [knitrification, kdenitno2, kdenitno3, khybrid] = x\n",
    "\n",
    "    ### TIME STEPPING ###\n",
    "    for iT in range(T-1):\n",
    "\n",
    "        Jhybrid = khybrid*(tracers.nh2oh_14[iT]+tracers.nh2oh_15[iT])*(tracers.no_14[iT]+tracers.no_15[iT]) \n",
    "        \n",
    "        Jnitrification = knitrification*((tracers.nh4_14[iT]+tracers.nh4_15[iT])**2)\n",
    "        Jdenitno2 = kdenitno2*((tracers.no2_14[iT]+tracers.no2_15[iT])**2)\n",
    "        Jdenitno3 = kdenitno3*((tracers.no3_14[iT]+tracers.no3_15[iT])**2)\n",
    "        \n",
    "        kAOA = bgc.kNH4TONO2\n",
    "        kAOB = bgc.kNH4TONO2\n",
    "\n",
    "        # update substrate values\n",
    "        tracers.nh4_14[iT+1,:] = tracers.nh4_14[iT,:] + dt*(\n",
    "            -kAOB*tracers.nh4_14[iT]\n",
    "            -kAOA*tracers.nh4_14[iT]\n",
    "            -Jnitrification*(1-tracers.afnh4[iT,:]))\n",
    "\n",
    "        tracers.nh4_15[iT+1,:] = tracers.nh4_15[iT,:] + dt*(\n",
    "            -kAOB/isos.alpha15NH4TONO2AOB*tracers.nh4_15[iT]\n",
    "            -kAOA/isos.alpha15NH4TONO2AOA*tracers.nh4_15[iT]\n",
    "            -Jnitrification*tracers.afnh4[iT,:])\n",
    "\n",
    "        tracers.nh2oh_14[iT+1, :] = tracers.nh2oh_14[iT, :] + dt*(\n",
    "            +kAOA*tracers.nh4_14[iT]\n",
    "            -kAOA*tracers.nh2oh_14[iT]\n",
    "            -Jhybrid*(1-tracers.afnh2oh[iT])\n",
    "        )\n",
    "\n",
    "        tracers.nh2oh_15[iT+1, :] = tracers.nh2oh_15[iT, :] + dt*(\n",
    "            +kAOA/isos.alpha15NH4TONO2AOA*tracers.nh4_15[iT]\n",
    "            -kAOA/isos.alpha15NH4TONO2AOA*tracers.nh2oh_15[iT]\n",
    "            -Jhybrid*(tracers.afnh2oh[iT])\n",
    "        )\n",
    "            \n",
    "        tracers.no_14[iT+1, :] = tracers.no_14[iT, :] + dt*(\n",
    "            +kAOA*tracers.nh2oh_14[iT]\n",
    "            +bgc.kNO2TONO*tracers.no2_14[iT]\n",
    "            -kAOA*tracers.no_14[iT]\n",
    "            -Jhybrid*(1-tracers.afno[iT])\n",
    "        )\n",
    "\n",
    "        tracers.no_15[iT+1, :] = tracers.no_15[iT, :] + dt*(\n",
    "            +kAOA/isos.alpha15NH4TONO2AOA*tracers.nh2oh_15[iT]\n",
    "            +bgc.kNO2TONO/isos.alpha15NO2TONO*tracers.no2_15[iT]\n",
    "            -kAOA/isos.alpha15NH4TONO2AOA*tracers.no_15[iT]\n",
    "            -Jhybrid*(tracers.afno[iT])\n",
    "        )\n",
    "        \n",
    "        tracers.no2_14[iT+1,:] = tracers.no2_14[iT,:] + dt*(\n",
    "            +kAOB*tracers.nh4_14[iT]\n",
    "            +kAOA*tracers.no_14[iT]\n",
    "            +bgc.kNO3TONO2*tracers.no3_14[iT]\n",
    "            -bgc.kNO2TONO3*tracers.no2_14[iT]\n",
    "            -bgc.kNO2TONO*tracers.no2_14[iT]\n",
    "            -Jdenitno2*(1-tracers.afno2[iT,:])\n",
    "        )\n",
    "\n",
    "        tracers.no2_15[iT+1,:] = tracers.no2_15[iT,:] + dt*(\n",
    "            kAOB/isos.alpha15NH4TONO2AOB*tracers.nh4_15[iT]\n",
    "            +kAOA/isos.alpha15NH4TONO2AOA*tracers.no_15[iT]\n",
    "            +bgc.kNO3TONO2/isos.alpha15NO3TONO2*tracers.no3_15[iT]\n",
    "            -bgc.kNO2TONO3/isos.alpha15NO2TONO3*tracers.no2_15[iT]\n",
    "            -bgc.kNO2TONO/isos.alpha15NO2TONO*tracers.no2_15[iT]\n",
    "            -Jdenitno2*tracers.afno2[iT,:]\n",
    "        )\n",
    "\n",
    "        tracers.no3_14[iT+1,:] = tracers.no3_14[iT,:] + dt*(\n",
    "            bgc.kNO2TONO3*tracers.no2_14[iT]\n",
    "            -bgc.kNO3TONO2*tracers.no3_14[iT]\n",
    "            -Jdenitno3*(1-tracers.afno3[iT,:]))\n",
    "\n",
    "        tracers.no3_15[iT+1,:] = tracers.no3_15[iT,:] + dt*(\n",
    "            bgc.kNO2TONO3/isos.alpha15NO2TONO3*tracers.no2_15[iT]\n",
    "            -bgc.kNO3TONO2/isos.alpha15NO3TONO2*tracers.no3_15[iT]\n",
    "            -Jdenitno3*tracers.afno3[iT,:])\n",
    "\n",
    "        # recalculate atom fractions at each time step\n",
    "        tracers.afnh4[iT+1,:] = tracers.nh4_15[iT+1,:]/(tracers.nh4_14[iT+1,:] + tracers.nh4_15[iT+1,:])\n",
    "        tracers.afnh2oh[iT+1,:] = tracers.nh2oh_15[iT+1,:]/(tracers.nh2oh_14[iT+1,:] + tracers.nh2oh_15[iT+1,:])\n",
    "        tracers.afno[iT+1,:] = tracers.no_15[iT+1,:]/(tracers.no_14[iT+1,:] + tracers.no_15[iT+1,:])\n",
    "        tracers.afno2[iT+1,:] = tracers.no2_15[iT+1,:]/(tracers.no2_14[iT+1,:] + tracers.no2_15[iT+1,:])\n",
    "        tracers.afno3[iT+1,:] = tracers.no3_15[iT+1,:]/(tracers.no3_14[iT+1,:] + tracers.no3_15[iT+1,:])\n",
    "\n",
    "        # calculate total rates of N2O production from substrates\n",
    "\n",
    "        total_nitrification = Jnitrification/2 # need to multiply by 1/2 to convert nmols N/L/day into nmols N2O/L/day\n",
    "        total_denit_no2 = Jdenitno2/2\n",
    "        total_denit_no3 = Jdenitno3/2\n",
    "        total_hybrid = Jhybrid/2\n",
    "\n",
    "        # calculate probabilities of isotopomer formation\n",
    "\n",
    "        p1, p2, p3, p4 = sc.binomial(tracers.afno[iT], tracers.afnh2oh[iT])\n",
    "\n",
    "        p46hybrid = p1\n",
    "        p45ahybrid = p2 # (p2+p3)/2\n",
    "        p45bhybrid = p3 # (p2+p3)/2\n",
    "        p44hybrid = p4\n",
    "\n",
    "        p46nh4, p45anh4, p45bnh4, p44nh4 = sc.binomial(tracers.afnh4[iT], tracers.afnh4[iT])\n",
    "        p46no2, p45ano2, p45bno2, p44no2 = sc.binomial(tracers.afno2[iT], tracers.afno2[iT])\n",
    "        p46no3, p45ano3, p45bno3, p44no3 = sc.binomial(tracers.afno3[iT], tracers.afno3[iT])\n",
    "\n",
    "        # update N2O values\n",
    "        tracers.n2o_46[iT+1,:] = tracers.n2o_46[iT,:] + dt*(\n",
    "            +total_hybrid*p46hybrid\n",
    "            +total_nitrification*p46nh4\n",
    "            +total_denit_no2*p46no2\n",
    "            +total_denit_no3*p46no3\n",
    "            -bgc.kN2OCONS/isos.alpha46N2OtoN2*tracers.n2o_46[iT])\n",
    "\n",
    "        tracers.n2o_45a[iT+1, :] = tracers.n2o_45a[iT,:] + dt*(\n",
    "            +total_hybrid*p45ahybrid\n",
    "            +total_nitrification*p45anh4\n",
    "            +total_denit_no2*p45ano2\n",
    "            +total_denit_no3*p45ano3\n",
    "            -bgc.kN2OCONS/isos.alpha15N2OatoN2*tracers.n2o_45a[iT])\n",
    "\n",
    "        tracers.n2o_45b[iT+1, :] = tracers.n2o_45b[iT,:] + dt*(\n",
    "            +total_hybrid*p45bhybrid\n",
    "            +total_nitrification*p45bnh4\n",
    "            +total_denit_no2*p45bno2\n",
    "            +total_denit_no3*p45bno3\n",
    "            -bgc.kN2OCONS/isos.alpha15N2ObtoN2*tracers.n2o_45b[iT])\n",
    "\n",
    "        tracers.n2o_44[iT+1,:] = tracers.n2o_44[iT,:] + dt*(\n",
    "            +total_hybrid*p44hybrid\n",
    "            +total_nitrification*p44nh4\n",
    "            +total_denit_no2*p44no2\n",
    "            +total_denit_no3*p44no3\n",
    "            -bgc.kN2OCONS*tracers.n2o_44[iT])\n",
    "\n",
    "        # update N2 values\n",
    "\n",
    "        tracers.n2_28[iT+1,:] = tracers.n2_28[iT,:] + dt*(bgc.kN2OCONS*tracers.n2o_44[iT])\n",
    "\n",
    "        tracers.n2_29[iT+1,:] = tracers.n2_29[iT,:] + dt*(\n",
    "            bgc.kN2OCONS/isos.alpha15N2OatoN2*tracers.n2o_45a[iT]\n",
    "            +bgc.kN2OCONS/isos.alpha15N2ObtoN2*tracers.n2o_45b[iT])\n",
    "\n",
    "        tracers.n2_30[iT+1,:] = tracers.n2_30[iT,:] + dt*(bgc.kN2OCONS/isos.alpha46N2OtoN2*tracers.n2o_46[iT])\n",
    "    \n",
    "    return tracers"
   ]
  },
  {
   "cell_type": "code",
   "execution_count": 13,
   "id": "authentic-transaction",
   "metadata": {},
   "outputs": [],
   "source": [
    "def modelv3(x, tracers):\n",
    "\n",
    "    ### UNPACK X ###\n",
    "    [knitrification, kdenitno, kdenitno3, khybrid] = x\n",
    "\n",
    "    ### TIME STEPPING ###\n",
    "    for iT in range(T-1):\n",
    "\n",
    "        Jhybrid = khybrid*(tracers.nh2oh_14[iT]+tracers.nh2oh_15[iT])*(tracers.no_14[iT]+tracers.no_15[iT]) \n",
    "        \n",
    "        Jnitrification = knitrification*((tracers.nh4_14[iT]+tracers.nh4_15[iT])**2)\n",
    "        Jdenitno = kdenitno*((tracers.no_14[iT]+tracers.no_15[iT])**2)\n",
    "        Jdenitno3 = kdenitno3*((tracers.no3_14[iT]+tracers.no3_15[iT])**2)\n",
    "        \n",
    "        kAOA = bgc.kNH4TONO2\n",
    "        kAOB = bgc.kNH4TONO2\n",
    "\n",
    "        # update substrate values\n",
    "        tracers.nh4_14[iT+1,:] = tracers.nh4_14[iT,:] + dt*(\n",
    "            -kAOB*tracers.nh4_14[iT]\n",
    "            -kAOA*tracers.nh4_14[iT]\n",
    "            -Jnitrification*(1-tracers.afnh4[iT,:]))\n",
    "\n",
    "        tracers.nh4_15[iT+1,:] = tracers.nh4_15[iT,:] + dt*(\n",
    "            -kAOB/isos.alpha15NH4TONO2AOB*tracers.nh4_15[iT]\n",
    "            -kAOA/isos.alpha15NH4TONO2AOA*tracers.nh4_15[iT]\n",
    "            -Jnitrification*tracers.afnh4[iT,:])\n",
    "\n",
    "        tracers.nh2oh_14[iT+1, :] = tracers.nh2oh_14[iT, :] + dt*(\n",
    "            +kAOA*tracers.nh4_14[iT]\n",
    "            -kAOA*tracers.nh2oh_14[iT]\n",
    "            -Jhybrid*(1-tracers.afnh2oh[iT])\n",
    "        )\n",
    "\n",
    "        tracers.nh2oh_15[iT+1, :] = tracers.nh2oh_15[iT, :] + dt*(\n",
    "            +kAOA/isos.alpha15NH4TONO2AOA*tracers.nh4_15[iT]\n",
    "            -kAOA/isos.alpha15NH4TONO2AOA*tracers.nh2oh_15[iT]\n",
    "            -Jhybrid*(tracers.afnh2oh[iT])\n",
    "        )\n",
    "            \n",
    "        tracers.no_14[iT+1, :] = tracers.no_14[iT, :] + dt*(\n",
    "            +kAOA*tracers.nh2oh_14[iT]\n",
    "            +bgc.kNO2TONO*tracers.no2_14[iT]\n",
    "            -kAOA*tracers.no_14[iT]\n",
    "            -Jhybrid*(1-tracers.afno[iT])\n",
    "            -Jdenitno*(1-tracers.afno[iT,:])\n",
    "        )\n",
    "\n",
    "        tracers.no_15[iT+1, :] = tracers.no_15[iT, :] + dt*(\n",
    "            +kAOA/isos.alpha15NH4TONO2AOA*tracers.nh2oh_15[iT]\n",
    "            +bgc.kNO2TONO/isos.alpha15NO2TONO*tracers.no2_15[iT]\n",
    "            -kAOA/isos.alpha15NH4TONO2AOA*tracers.no_15[iT]\n",
    "            -Jhybrid*(tracers.afno[iT])\n",
    "            -Jdenitno*tracers.afno[iT,:]\n",
    "        )\n",
    "        \n",
    "        tracers.no2_14[iT+1,:] = tracers.no2_14[iT,:] + dt*(\n",
    "            +kAOB*tracers.nh4_14[iT]\n",
    "            +kAOA*tracers.no_14[iT]\n",
    "            +bgc.kNO3TONO2*tracers.no3_14[iT]\n",
    "            -bgc.kNO2TONO3*tracers.no2_14[iT]\n",
    "            -bgc.kNO2TONO*tracers.no2_14[iT]\n",
    "        )\n",
    "\n",
    "        tracers.no2_15[iT+1,:] = tracers.no2_15[iT,:] + dt*(\n",
    "            kAOB/isos.alpha15NH4TONO2AOB*tracers.nh4_15[iT]\n",
    "            +kAOA/isos.alpha15NH4TONO2AOA*tracers.no_15[iT]\n",
    "            +bgc.kNO3TONO2/isos.alpha15NO3TONO2*tracers.no3_15[iT]\n",
    "            -bgc.kNO2TONO3/isos.alpha15NO2TONO3*tracers.no2_15[iT]\n",
    "            -bgc.kNO2TONO/isos.alpha15NO2TONO*tracers.no2_15[iT]\n",
    "        )\n",
    "\n",
    "        tracers.no3_14[iT+1,:] = tracers.no3_14[iT,:] + dt*(\n",
    "            bgc.kNO2TONO3*tracers.no2_14[iT]\n",
    "            -bgc.kNO3TONO2*tracers.no3_14[iT]\n",
    "            -Jdenitno3*(1-tracers.afno3[iT,:]))\n",
    "\n",
    "        tracers.no3_15[iT+1,:] = tracers.no3_15[iT,:] + dt*(\n",
    "            bgc.kNO2TONO3/isos.alpha15NO2TONO3*tracers.no2_15[iT]\n",
    "            -bgc.kNO3TONO2/isos.alpha15NO3TONO2*tracers.no3_15[iT]\n",
    "            -Jdenitno3*tracers.afno3[iT,:])\n",
    "\n",
    "        # recalculate atom fractions at each time step\n",
    "        tracers.afnh4[iT+1,:] = tracers.nh4_15[iT+1,:]/(tracers.nh4_14[iT+1,:] + tracers.nh4_15[iT+1,:])\n",
    "        tracers.afnh2oh[iT+1,:] = tracers.nh2oh_15[iT+1,:]/(tracers.nh2oh_14[iT+1,:] + tracers.nh2oh_15[iT+1,:])\n",
    "        tracers.afno[iT+1,:] = tracers.no_15[iT+1,:]/(tracers.no_14[iT+1,:] + tracers.no_15[iT+1,:])\n",
    "        tracers.afno2[iT+1,:] = tracers.no2_15[iT+1,:]/(tracers.no2_14[iT+1,:] + tracers.no2_15[iT+1,:])\n",
    "        tracers.afno3[iT+1,:] = tracers.no3_15[iT+1,:]/(tracers.no3_14[iT+1,:] + tracers.no3_15[iT+1,:])\n",
    "\n",
    "        # calculate total rates of N2O production from substrates\n",
    "\n",
    "        total_nitrification = Jnitrification/2 # need to multiply by 1/2 to convert nmols N/L/day into nmols N2O/L/day\n",
    "        total_denit_no = Jdenitno/2\n",
    "        total_denit_no3 = Jdenitno3/2\n",
    "        total_hybrid = Jhybrid/2\n",
    "\n",
    "        # calculate probabilities of isotopomer formation\n",
    "\n",
    "        p1, p2, p3, p4 = sc.binomial(tracers.afno[iT], tracers.afnh2oh[iT])\n",
    "\n",
    "        p46hybrid = p1\n",
    "        p45ahybrid = p2 # (p2+p3)/2\n",
    "        p45bhybrid = p3 # (p2+p3)/2\n",
    "        p44hybrid = p4\n",
    "\n",
    "        p46nh4, p45anh4, p45bnh4, p44nh4 = sc.binomial(tracers.afnh4[iT], tracers.afnh4[iT])\n",
    "        p46no, p45ano, p45bno, p44no = sc.binomial(tracers.afno[iT], tracers.afno[iT])\n",
    "        p46no3, p45ano3, p45bno3, p44no3 = sc.binomial(tracers.afno3[iT], tracers.afno3[iT])\n",
    "\n",
    "        # update N2O values\n",
    "        tracers.n2o_46[iT+1,:] = tracers.n2o_46[iT,:] + dt*(\n",
    "            +total_hybrid*p46hybrid\n",
    "            +total_nitrification*p46nh4\n",
    "            +total_denit_no*p46no\n",
    "            +total_denit_no3*p46no3\n",
    "            -bgc.kN2OCONS/isos.alpha46N2OtoN2*tracers.n2o_46[iT])\n",
    "\n",
    "        tracers.n2o_45a[iT+1, :] = tracers.n2o_45a[iT,:] + dt*(\n",
    "            +total_hybrid*p45ahybrid\n",
    "            +total_nitrification*p45anh4\n",
    "            +total_denit_no*p45ano\n",
    "            +total_denit_no3*p45ano3\n",
    "            -bgc.kN2OCONS/isos.alpha15N2OatoN2*tracers.n2o_45a[iT])\n",
    "\n",
    "        tracers.n2o_45b[iT+1, :] = tracers.n2o_45b[iT,:] + dt*(\n",
    "            +total_hybrid*p45bhybrid\n",
    "            +total_nitrification*p45bnh4\n",
    "            +total_denit_no*p45bno\n",
    "            +total_denit_no3*p45bno3\n",
    "            -bgc.kN2OCONS/isos.alpha15N2ObtoN2*tracers.n2o_45b[iT])\n",
    "\n",
    "        tracers.n2o_44[iT+1,:] = tracers.n2o_44[iT,:] + dt*(\n",
    "            +total_hybrid*p44hybrid\n",
    "            +total_nitrification*p44nh4\n",
    "            +total_denit_no*p44no\n",
    "            +total_denit_no3*p44no3\n",
    "            -bgc.kN2OCONS*tracers.n2o_44[iT])\n",
    "\n",
    "        # update N2 values\n",
    "\n",
    "        tracers.n2_28[iT+1,:] = tracers.n2_28[iT,:] + dt*(bgc.kN2OCONS*tracers.n2o_44[iT])\n",
    "\n",
    "        tracers.n2_29[iT+1,:] = tracers.n2_29[iT,:] + dt*(\n",
    "            bgc.kN2OCONS/isos.alpha15N2OatoN2*tracers.n2o_45a[iT]\n",
    "            +bgc.kN2OCONS/isos.alpha15N2ObtoN2*tracers.n2o_45b[iT])\n",
    "\n",
    "        tracers.n2_30[iT+1,:] = tracers.n2_30[iT,:] + dt*(bgc.kN2OCONS/isos.alpha46N2OtoN2*tracers.n2o_46[iT])\n",
    "    \n",
    "    return tracers"
   ]
  },
  {
   "cell_type": "code",
   "execution_count": 14,
   "id": "stone-extent",
   "metadata": {},
   "outputs": [],
   "source": [
    "def objective(x, tracers):\n",
    "    \n",
    "    tracers = modelv3(x, tracers)\n",
    "    \n",
    "    cost = sc.costfxn(trainingdata = PS2SCM15NO2,\n",
    "                modeled_44 = tracers.n2o_44,\n",
    "                modeled_45a = tracers.n2o_45a,\n",
    "                modeled_45b = tracers.n2o_45b,\n",
    "                modeled_46 = tracers.n2o_46,\n",
    "                weights = np.array([1,10,10,10]))\n",
    "    \n",
    "    return cost"
   ]
  },
  {
   "cell_type": "code",
   "execution_count": 15,
   "id": "confused-company",
   "metadata": {},
   "outputs": [],
   "source": [
    "x = [0.0, 2.8050367317752543e-09, 2.633772229350046e-09, 0.0003]"
   ]
  },
  {
   "cell_type": "code",
   "execution_count": 16,
   "id": "honest-california",
   "metadata": {},
   "outputs": [
    {
     "data": {
      "text/plain": [
       "0.9185230657136116"
      ]
     },
     "execution_count": 16,
     "metadata": {},
     "output_type": "execute_result"
    }
   ],
   "source": [
    "objective(x, tr)"
   ]
  },
  {
   "cell_type": "markdown",
   "id": "protective-murder",
   "metadata": {},
   "source": [
    "# optimization"
   ]
  },
  {
   "cell_type": "code",
   "execution_count": 17,
   "id": "opposite-public",
   "metadata": {},
   "outputs": [
    {
     "data": {
      "text/plain": [
       "[0.0, 2.8050367317752543e-09, 2.633772229350046e-09, 0.0003]"
      ]
     },
     "execution_count": 17,
     "metadata": {},
     "output_type": "execute_result"
    }
   ],
   "source": [
    "xguess = x\n",
    "\n",
    "xguess"
   ]
  },
  {
   "cell_type": "code",
   "execution_count": 18,
   "id": "banned-message",
   "metadata": {},
   "outputs": [
    {
     "data": {
      "text/plain": [
       "array([0.00000000e+00, 2.56474198e-09, 2.67488822e-09, 2.64002085e-04])"
      ]
     },
     "execution_count": 18,
     "metadata": {},
     "output_type": "execute_result"
    }
   ],
   "source": [
    "### OPTIMIZE WITH RANDOMLY SELECTED X0 ###\n",
    "\n",
    "# define range for input\n",
    "r_min = np.array(xguess)*0.75\n",
    "r_max = np.array(xguess)*1.25\n",
    "# define the starting point as a random sample from the domain\n",
    "pt = r_min + rand(4)*(r_max - r_min)\n",
    "\n",
    "pt"
   ]
  },
  {
   "cell_type": "code",
   "execution_count": 19,
   "id": "found-boutique",
   "metadata": {},
   "outputs": [
    {
     "name": "stdout",
     "output_type": "stream",
     "text": [
      "Status : Optimization terminated successfully.\n",
      "Total Evaluations: 98\n",
      "Solution: f([0.00000000e+00 6.33779308e-09 4.15333284e-09 2.78980209e-04]) = 0.49649\n"
     ]
    }
   ],
   "source": [
    "# define bounds: no negative rate constants\n",
    "bnds = ((0, None), (0, None), (0, None), (0, None))\n",
    "\n",
    "# perform the search with randomly selected x0\n",
    "result = minimize(objective, pt, args = tr, method='nelder-mead', bounds=bnds)\n",
    "# summarize the result\n",
    "print('Status : %s' % result['message'])\n",
    "print('Total Evaluations: %d' % result['nfev'])\n",
    "# evaluate solution\n",
    "solution = result['x']\n",
    "evaluation = objective(solution, tr)\n",
    "print('Solution: f(%s) = %.5f' % (solution, evaluation))"
   ]
  },
  {
   "cell_type": "code",
   "execution_count": 20,
   "id": "residential-meditation",
   "metadata": {},
   "outputs": [
    {
     "name": "stdout",
     "output_type": "stream",
     "text": [
      "Status : Optimization terminated successfully.\n",
      "Total Evaluations: 99\n",
      "Solution: f([0.00000000e+00 6.33869433e-09 4.13460095e-09 2.79960076e-04]) = 0.49649\n"
     ]
    }
   ],
   "source": [
    "# define bounds: no negative rate constants\n",
    "bnds = ((0, None), (0, None), (0, None), (0, None))\n",
    "\n",
    "# perform the search with intelligently selcted x0\n",
    "result = minimize(objective, xguess, args = tr, method='nelder-mead', bounds=bnds)\n",
    "# summarize the result\n",
    "print('Status : %s' % result['message'])\n",
    "print('Total Evaluations: %d' % result['nfev'])\n",
    "# evaluate solution\n",
    "solution = result['x']\n",
    "evaluation = objective(solution, tr)\n",
    "print('Solution: f(%s) = %.5f' % (solution, evaluation))"
   ]
  },
  {
   "cell_type": "code",
   "execution_count": 21,
   "id": "trying-piece",
   "metadata": {},
   "outputs": [
    {
     "data": {
      "text/plain": [
       "0.49649161492080246"
      ]
     },
     "execution_count": 21,
     "metadata": {},
     "output_type": "execute_result"
    }
   ],
   "source": [
    "objective(result.x, tr)"
   ]
  },
  {
   "cell_type": "code",
   "execution_count": 22,
   "id": "greater-spyware",
   "metadata": {},
   "outputs": [
    {
     "data": {
      "text/plain": [
       "array([0.00000000e+00, 6.33869433e-09, 4.13460095e-09, 2.79960076e-04])"
      ]
     },
     "execution_count": 22,
     "metadata": {},
     "output_type": "execute_result"
    }
   ],
   "source": [
    "result.x"
   ]
  },
  {
   "cell_type": "markdown",
   "id": "amazing-gathering",
   "metadata": {},
   "source": [
    "# post-processing"
   ]
  },
  {
   "cell_type": "code",
   "execution_count": 23,
   "id": "generous-navigation",
   "metadata": {},
   "outputs": [],
   "source": [
    "tracers = modelv3(result.x, tr)"
   ]
  },
  {
   "cell_type": "code",
   "execution_count": 24,
   "id": "extraordinary-amateur",
   "metadata": {},
   "outputs": [
    {
     "name": "stdout",
     "output_type": "stream",
     "text": [
      "Nit. (nM/day): 0.0\n",
      "Denit. from NO (nM/day): 0.14297734963995087\n",
      "Denit. from NO3- (nM/day): 2.8965039666252492\n",
      "Hybrid (nM/day): 0.24377105287731654\n",
      "\n"
     ]
    }
   ],
   "source": [
    "output = sc.postprocess(bgc, isos, tracers, result.x, model=\"modelv3\")"
   ]
  },
  {
   "cell_type": "code",
   "execution_count": 25,
   "id": "soviet-official",
   "metadata": {},
   "outputs": [
    {
     "name": "stdout",
     "output_type": "stream",
     "text": [
      "31873.480236959633\n",
      "31875.363511943997\n"
     ]
    }
   ],
   "source": [
    "print(output['check_mass_conservation'].min())\n",
    "print(output['check_mass_conservation'].max())"
   ]
  },
  {
   "cell_type": "code",
   "execution_count": 28,
   "id": "domestic-proceeding",
   "metadata": {},
   "outputs": [
    {
     "data": {
      "text/html": [
       "<div>\n",
       "<style scoped>\n",
       "    .dataframe tbody tr th:only-of-type {\n",
       "        vertical-align: middle;\n",
       "    }\n",
       "\n",
       "    .dataframe tbody tr th {\n",
       "        vertical-align: top;\n",
       "    }\n",
       "\n",
       "    .dataframe thead th {\n",
       "        text-align: right;\n",
       "    }\n",
       "</style>\n",
       "<table border=\"1\" class=\"dataframe\">\n",
       "  <thead>\n",
       "    <tr style=\"text-align: right;\">\n",
       "      <th></th>\n",
       "      <th>[NH4+]_nM</th>\n",
       "      <th>[14NH4+]_nM</th>\n",
       "      <th>[15NH4+]_nM</th>\n",
       "      <th>d15NH4+</th>\n",
       "      <th>AFNH4+</th>\n",
       "      <th>[NH2OH]_nM</th>\n",
       "      <th>[14NH2OH]_nM</th>\n",
       "      <th>[15NH2OH]_nM</th>\n",
       "      <th>[NO]_nM</th>\n",
       "      <th>[14NO]_nM</th>\n",
       "      <th>...</th>\n",
       "      <th>NH4TONH2OH</th>\n",
       "      <th>NH2OHTONO</th>\n",
       "      <th>NOTONO2</th>\n",
       "      <th>NO2TONO</th>\n",
       "      <th>nitrification</th>\n",
       "      <th>denitno</th>\n",
       "      <th>denitno3</th>\n",
       "      <th>hybrid</th>\n",
       "      <th>Incubation_time_hrs</th>\n",
       "      <th>check_mass_conservation</th>\n",
       "    </tr>\n",
       "  </thead>\n",
       "  <tbody>\n",
       "    <tr>\n",
       "      <th>0</th>\n",
       "      <td>0.550000</td>\n",
       "      <td>0.547984</td>\n",
       "      <td>0.002016</td>\n",
       "      <td>0.000636</td>\n",
       "      <td>0.000004</td>\n",
       "      <td>0.000000e+00</td>\n",
       "      <td>0.000000e+00</td>\n",
       "      <td>0.000000e+00</td>\n",
       "      <td>0.000000</td>\n",
       "      <td>0.000000</td>\n",
       "      <td>...</td>\n",
       "      <td>0.000540</td>\n",
       "      <td>0.000000e+00</td>\n",
       "      <td>0.000000</td>\n",
       "      <td>197.297669</td>\n",
       "      <td>0.0</td>\n",
       "      <td>0.000000e+00</td>\n",
       "      <td>0.002899</td>\n",
       "      <td>0.000000e+00</td>\n",
       "      <td>0.000000</td>\n",
       "      <td>31.875364</td>\n",
       "    </tr>\n",
       "    <tr>\n",
       "      <th>1</th>\n",
       "      <td>0.549999</td>\n",
       "      <td>0.547983</td>\n",
       "      <td>0.002016</td>\n",
       "      <td>0.000636</td>\n",
       "      <td>0.000004</td>\n",
       "      <td>5.396574e-07</td>\n",
       "      <td>5.377218e-07</td>\n",
       "      <td>1.935593e-09</td>\n",
       "      <td>0.197298</td>\n",
       "      <td>0.001161</td>\n",
       "      <td>...</td>\n",
       "      <td>0.000540</td>\n",
       "      <td>5.295102e-10</td>\n",
       "      <td>0.000189</td>\n",
       "      <td>189.232855</td>\n",
       "      <td>0.0</td>\n",
       "      <td>2.467424e-07</td>\n",
       "      <td>0.002899</td>\n",
       "      <td>2.980823e-08</td>\n",
       "      <td>0.000024</td>\n",
       "      <td>31.875362</td>\n",
       "    </tr>\n",
       "    <tr>\n",
       "      <th>2</th>\n",
       "      <td>0.549998</td>\n",
       "      <td>0.547982</td>\n",
       "      <td>0.002016</td>\n",
       "      <td>0.000636</td>\n",
       "      <td>0.000004</td>\n",
       "      <td>1.079283e-06</td>\n",
       "      <td>1.075412e-06</td>\n",
       "      <td>3.871074e-09</td>\n",
       "      <td>0.386530</td>\n",
       "      <td>0.002274</td>\n",
       "      <td>...</td>\n",
       "      <td>0.000540</td>\n",
       "      <td>1.058990e-09</td>\n",
       "      <td>0.000371</td>\n",
       "      <td>181.497752</td>\n",
       "      <td>0.0</td>\n",
       "      <td>9.470371e-07</td>\n",
       "      <td>0.002899</td>\n",
       "      <td>1.167926e-07</td>\n",
       "      <td>0.000048</td>\n",
       "      <td>31.875361</td>\n",
       "    </tr>\n",
       "    <tr>\n",
       "      <th>3</th>\n",
       "      <td>0.549997</td>\n",
       "      <td>0.547981</td>\n",
       "      <td>0.002016</td>\n",
       "      <td>0.000636</td>\n",
       "      <td>0.000004</td>\n",
       "      <td>1.618821e-06</td>\n",
       "      <td>1.613015e-06</td>\n",
       "      <td>5.806237e-09</td>\n",
       "      <td>0.568028</td>\n",
       "      <td>0.003341</td>\n",
       "      <td>...</td>\n",
       "      <td>0.000540</td>\n",
       "      <td>1.588382e-09</td>\n",
       "      <td>0.000545</td>\n",
       "      <td>174.078881</td>\n",
       "      <td>0.0</td>\n",
       "      <td>2.045214e-06</td>\n",
       "      <td>0.002899</td>\n",
       "      <td>2.574331e-07</td>\n",
       "      <td>0.000072</td>\n",
       "      <td>31.875359</td>\n",
       "    </tr>\n",
       "    <tr>\n",
       "      <th>4</th>\n",
       "      <td>0.549996</td>\n",
       "      <td>0.547980</td>\n",
       "      <td>0.002016</td>\n",
       "      <td>0.000637</td>\n",
       "      <td>0.000004</td>\n",
       "      <td>2.158216e-06</td>\n",
       "      <td>2.150475e-06</td>\n",
       "      <td>7.740890e-09</td>\n",
       "      <td>0.742106</td>\n",
       "      <td>0.004365</td>\n",
       "      <td>...</td>\n",
       "      <td>0.000540</td>\n",
       "      <td>2.117635e-09</td>\n",
       "      <td>0.000713</td>\n",
       "      <td>166.963314</td>\n",
       "      <td>0.0</td>\n",
       "      <td>3.490855e-06</td>\n",
       "      <td>0.002899</td>\n",
       "      <td>4.483911e-07</td>\n",
       "      <td>0.000096</td>\n",
       "      <td>31.875358</td>\n",
       "    </tr>\n",
       "    <tr>\n",
       "      <th>...</th>\n",
       "      <td>...</td>\n",
       "      <td>...</td>\n",
       "      <td>...</td>\n",
       "      <td>...</td>\n",
       "      <td>...</td>\n",
       "      <td>...</td>\n",
       "      <td>...</td>\n",
       "      <td>...</td>\n",
       "      <td>...</td>\n",
       "      <td>...</td>\n",
       "      <td>...</td>\n",
       "      <td>...</td>\n",
       "      <td>...</td>\n",
       "      <td>...</td>\n",
       "      <td>...</td>\n",
       "      <td>...</td>\n",
       "      <td>...</td>\n",
       "      <td>...</td>\n",
       "      <td>...</td>\n",
       "      <td>...</td>\n",
       "      <td>...</td>\n",
       "    </tr>\n",
       "    <tr>\n",
       "      <th>995</th>\n",
       "      <td>0.548927</td>\n",
       "      <td>0.546915</td>\n",
       "      <td>0.002012</td>\n",
       "      <td>0.000686</td>\n",
       "      <td>0.000004</td>\n",
       "      <td>2.944907e-04</td>\n",
       "      <td>2.934344e-04</td>\n",
       "      <td>1.056292e-06</td>\n",
       "      <td>4.850161</td>\n",
       "      <td>0.052272</td>\n",
       "      <td>...</td>\n",
       "      <td>0.000539</td>\n",
       "      <td>2.889533e-07</td>\n",
       "      <td>0.004658</td>\n",
       "      <td>0.029964</td>\n",
       "      <td>0.0</td>\n",
       "      <td>1.491119e-04</td>\n",
       "      <td>0.002894</td>\n",
       "      <td>3.998746e-04</td>\n",
       "      <td>0.023880</td>\n",
       "      <td>31.873489</td>\n",
       "    </tr>\n",
       "    <tr>\n",
       "      <th>996</th>\n",
       "      <td>0.548926</td>\n",
       "      <td>0.546914</td>\n",
       "      <td>0.002012</td>\n",
       "      <td>0.000686</td>\n",
       "      <td>0.000004</td>\n",
       "      <td>2.946291e-04</td>\n",
       "      <td>2.935723e-04</td>\n",
       "      <td>1.056789e-06</td>\n",
       "      <td>4.850186</td>\n",
       "      <td>0.052298</td>\n",
       "      <td>...</td>\n",
       "      <td>0.000539</td>\n",
       "      <td>2.890892e-07</td>\n",
       "      <td>0.004658</td>\n",
       "      <td>0.029964</td>\n",
       "      <td>0.0</td>\n",
       "      <td>1.491134e-04</td>\n",
       "      <td>0.002894</td>\n",
       "      <td>4.000646e-04</td>\n",
       "      <td>0.023904</td>\n",
       "      <td>31.873487</td>\n",
       "    </tr>\n",
       "    <tr>\n",
       "      <th>997</th>\n",
       "      <td>0.548925</td>\n",
       "      <td>0.546913</td>\n",
       "      <td>0.002012</td>\n",
       "      <td>0.000686</td>\n",
       "      <td>0.000004</td>\n",
       "      <td>2.947674e-04</td>\n",
       "      <td>2.937101e-04</td>\n",
       "      <td>1.057285e-06</td>\n",
       "      <td>4.850211</td>\n",
       "      <td>0.052323</td>\n",
       "      <td>...</td>\n",
       "      <td>0.000539</td>\n",
       "      <td>2.892248e-07</td>\n",
       "      <td>0.004658</td>\n",
       "      <td>0.029964</td>\n",
       "      <td>0.0</td>\n",
       "      <td>1.491149e-04</td>\n",
       "      <td>0.002894</td>\n",
       "      <td>4.002544e-04</td>\n",
       "      <td>0.023928</td>\n",
       "      <td>31.873484</td>\n",
       "    </tr>\n",
       "    <tr>\n",
       "      <th>998</th>\n",
       "      <td>0.548924</td>\n",
       "      <td>0.546912</td>\n",
       "      <td>0.002012</td>\n",
       "      <td>0.000686</td>\n",
       "      <td>0.000004</td>\n",
       "      <td>2.949054e-04</td>\n",
       "      <td>2.938476e-04</td>\n",
       "      <td>1.057780e-06</td>\n",
       "      <td>4.850236</td>\n",
       "      <td>0.052348</td>\n",
       "      <td>...</td>\n",
       "      <td>0.000539</td>\n",
       "      <td>2.893603e-07</td>\n",
       "      <td>0.004658</td>\n",
       "      <td>0.029964</td>\n",
       "      <td>0.0</td>\n",
       "      <td>1.491164e-04</td>\n",
       "      <td>0.002893</td>\n",
       "      <td>4.004439e-04</td>\n",
       "      <td>0.023952</td>\n",
       "      <td>31.873482</td>\n",
       "    </tr>\n",
       "    <tr>\n",
       "      <th>999</th>\n",
       "      <td>0.548923</td>\n",
       "      <td>0.546911</td>\n",
       "      <td>0.002012</td>\n",
       "      <td>0.000686</td>\n",
       "      <td>0.000004</td>\n",
       "      <td>2.950433e-04</td>\n",
       "      <td>2.939850e-04</td>\n",
       "      <td>1.058274e-06</td>\n",
       "      <td>4.850260</td>\n",
       "      <td>0.052373</td>\n",
       "      <td>...</td>\n",
       "      <td>0.000539</td>\n",
       "      <td>2.894956e-07</td>\n",
       "      <td>0.004658</td>\n",
       "      <td>0.029964</td>\n",
       "      <td>0.0</td>\n",
       "      <td>1.491179e-04</td>\n",
       "      <td>0.002893</td>\n",
       "      <td>4.006331e-04</td>\n",
       "      <td>0.023976</td>\n",
       "      <td>31.873480</td>\n",
       "    </tr>\n",
       "  </tbody>\n",
       "</table>\n",
       "<p>1000 rows × 40 columns</p>\n",
       "</div>"
      ],
      "text/plain": [
       "     [NH4+]_nM  [14NH4+]_nM  [15NH4+]_nM   d15NH4+    AFNH4+    [NH2OH]_nM  \\\n",
       "0     0.550000     0.547984     0.002016  0.000636  0.000004  0.000000e+00   \n",
       "1     0.549999     0.547983     0.002016  0.000636  0.000004  5.396574e-07   \n",
       "2     0.549998     0.547982     0.002016  0.000636  0.000004  1.079283e-06   \n",
       "3     0.549997     0.547981     0.002016  0.000636  0.000004  1.618821e-06   \n",
       "4     0.549996     0.547980     0.002016  0.000637  0.000004  2.158216e-06   \n",
       "..         ...          ...          ...       ...       ...           ...   \n",
       "995   0.548927     0.546915     0.002012  0.000686  0.000004  2.944907e-04   \n",
       "996   0.548926     0.546914     0.002012  0.000686  0.000004  2.946291e-04   \n",
       "997   0.548925     0.546913     0.002012  0.000686  0.000004  2.947674e-04   \n",
       "998   0.548924     0.546912     0.002012  0.000686  0.000004  2.949054e-04   \n",
       "999   0.548923     0.546911     0.002012  0.000686  0.000004  2.950433e-04   \n",
       "\n",
       "     [14NH2OH]_nM  [15NH2OH]_nM   [NO]_nM  [14NO]_nM  ...  NH4TONH2OH  \\\n",
       "0    0.000000e+00  0.000000e+00  0.000000   0.000000  ...    0.000540   \n",
       "1    5.377218e-07  1.935593e-09  0.197298   0.001161  ...    0.000540   \n",
       "2    1.075412e-06  3.871074e-09  0.386530   0.002274  ...    0.000540   \n",
       "3    1.613015e-06  5.806237e-09  0.568028   0.003341  ...    0.000540   \n",
       "4    2.150475e-06  7.740890e-09  0.742106   0.004365  ...    0.000540   \n",
       "..            ...           ...       ...        ...  ...         ...   \n",
       "995  2.934344e-04  1.056292e-06  4.850161   0.052272  ...    0.000539   \n",
       "996  2.935723e-04  1.056789e-06  4.850186   0.052298  ...    0.000539   \n",
       "997  2.937101e-04  1.057285e-06  4.850211   0.052323  ...    0.000539   \n",
       "998  2.938476e-04  1.057780e-06  4.850236   0.052348  ...    0.000539   \n",
       "999  2.939850e-04  1.058274e-06  4.850260   0.052373  ...    0.000539   \n",
       "\n",
       "        NH2OHTONO   NOTONO2     NO2TONO  nitrification       denitno  \\\n",
       "0    0.000000e+00  0.000000  197.297669            0.0  0.000000e+00   \n",
       "1    5.295102e-10  0.000189  189.232855            0.0  2.467424e-07   \n",
       "2    1.058990e-09  0.000371  181.497752            0.0  9.470371e-07   \n",
       "3    1.588382e-09  0.000545  174.078881            0.0  2.045214e-06   \n",
       "4    2.117635e-09  0.000713  166.963314            0.0  3.490855e-06   \n",
       "..            ...       ...         ...            ...           ...   \n",
       "995  2.889533e-07  0.004658    0.029964            0.0  1.491119e-04   \n",
       "996  2.890892e-07  0.004658    0.029964            0.0  1.491134e-04   \n",
       "997  2.892248e-07  0.004658    0.029964            0.0  1.491149e-04   \n",
       "998  2.893603e-07  0.004658    0.029964            0.0  1.491164e-04   \n",
       "999  2.894956e-07  0.004658    0.029964            0.0  1.491179e-04   \n",
       "\n",
       "     denitno3        hybrid  Incubation_time_hrs  check_mass_conservation  \n",
       "0    0.002899  0.000000e+00             0.000000                31.875364  \n",
       "1    0.002899  2.980823e-08             0.000024                31.875362  \n",
       "2    0.002899  1.167926e-07             0.000048                31.875361  \n",
       "3    0.002899  2.574331e-07             0.000072                31.875359  \n",
       "4    0.002899  4.483911e-07             0.000096                31.875358  \n",
       "..        ...           ...                  ...                      ...  \n",
       "995  0.002894  3.998746e-04             0.023880                31.873489  \n",
       "996  0.002894  4.000646e-04             0.023904                31.873487  \n",
       "997  0.002894  4.002544e-04             0.023928                31.873484  \n",
       "998  0.002893  4.004439e-04             0.023952                31.873482  \n",
       "999  0.002893  4.006331e-04             0.023976                31.873480  \n",
       "\n",
       "[1000 rows x 40 columns]"
      ]
     },
     "execution_count": 28,
     "metadata": {},
     "output_type": "execute_result"
    }
   ],
   "source": [
    "output/1000 # convert all units from nM or nM/day to uM or uM/day"
   ]
  },
  {
   "cell_type": "code",
   "execution_count": 29,
   "id": "worthy-report",
   "metadata": {},
   "outputs": [
    {
     "data": {
      "image/png": "[encoded data removed]",
      "text/plain": [
       "<Figure size 216x144 with 1 Axes>"
      ]
     },
     "metadata": {
      "needs_background": "light"
     },
     "output_type": "display_data"
    }
   ],
   "source": [
    "fig, ax = plt.subplots(1,1, figsize = (3,2))\n",
    "\n",
    "ax.plot(output[['AFNO3-']])\n",
    "ax.set_xlabel(\"model timestep\")\n",
    "ax.set_ylabel(r\"$NO_3^-$ atom fraction\")\n",
    "\n",
    "plt.tight_layout()\n",
    "plt.savefig(\"figures/no3-atomfraction.pdf\")"
   ]
  },
  {
   "cell_type": "code",
   "execution_count": 30,
   "id": "subsequent-stopping",
   "metadata": {},
   "outputs": [
    {
     "data": {
      "image/png": "[encoded data removed]",
      "text/plain": [
       "<Figure size 216x144 with 1 Axes>"
      ]
     },
     "metadata": {
      "needs_background": "light"
     },
     "output_type": "display_data"
    }
   ],
   "source": [
    "fig, ax = plt.subplots(1,1, figsize = (3,2))\n",
    "\n",
    "ax.plot(output[['AFNO2-']])\n",
    "ax.set_xlabel(\"model timestep\")\n",
    "ax.set_ylabel(r\"$NO_2^-$ atom fraction\")\n",
    "\n",
    "plt.tight_layout()\n",
    "plt.savefig(\"figures/no2-atomfraction.pdf\")"
   ]
  },
  {
   "cell_type": "code",
   "execution_count": 31,
   "id": "restricted-wallet",
   "metadata": {},
   "outputs": [
    {
     "data": {
      "text/plain": [
       "array([0.11502916])"
      ]
     },
     "execution_count": 31,
     "metadata": {},
     "output_type": "execute_result"
    }
   ],
   "source": [
    "tracers.no2_15[-1]"
   ]
  },
  {
   "cell_type": "code",
   "execution_count": 32,
   "id": "sound-london",
   "metadata": {},
   "outputs": [
    {
     "data": {
      "text/plain": [
       "[<matplotlib.lines.Line2D at 0x7fb3b42d77c0>]"
      ]
     },
     "execution_count": 32,
     "metadata": {},
     "output_type": "execute_result"
    },
    {
     "data": {
      "image/png": "[encoded data removed]",
      "text/plain": [
       "<Figure size 432x288 with 1 Axes>"
      ]
     },
     "metadata": {
      "needs_background": "light"
     },
     "output_type": "display_data"
    }
   ],
   "source": [
    "plt.plot(result.x[-1]*(tracers.nh2oh_14+tracers.nh2oh_15)*(tracers.no_14+tracers.no_15))"
   ]
  },
  {
   "cell_type": "code",
   "execution_count": 33,
   "id": "victorian-corner",
   "metadata": {},
   "outputs": [
    {
     "data": {
      "image/png": "[encoded data removed]",
      "text/plain": [
       "<Figure size 576x432 with 4 Axes>"
      ]
     },
     "metadata": {
      "needs_background": "light"
     },
     "output_type": "display_data"
    }
   ],
   "source": [
    "sc.plot_outputs(trainingdata = PS2SCM15NO2, modeloutput=output, \n",
    "             filename=\"Figures/PS2SCM15NO2.pdf\")"
   ]
  },
  {
   "cell_type": "code",
   "execution_count": null,
   "id": "editorial-kelly",
   "metadata": {},
   "outputs": [],
   "source": []
  }
 ],
 "metadata": {
  "kernelspec": {
   "display_name": "Python 3",
   "language": "python",
   "name": "python3"
  },
  "language_info": {
   "codemirror_mode": {
    "name": "ipython",
    "version": 3
   },
   "file_extension": ".py",
   "mimetype": "text/x-python",
   "name": "python",
   "nbconvert_exporter": "python",
   "pygments_lexer": "ipython3",
   "version": "3.9.2"
  }
 },
 "nbformat": 4,
 "nbformat_minor": 5
}
