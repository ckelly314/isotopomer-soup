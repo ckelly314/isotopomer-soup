{
 "cells": [
  {
   "cell_type": "markdown",
   "id": "equal-jacket",
   "metadata": {},
   "source": [
    "What if we just used the forward model to get exchange between substrate pools and calculate the probabilities based on the proportions of substrate? Like what's the probability of getting a 15NH2OH and a 15NO? Then we can add these to get the total production of 46N2O that we would expect from that combination of processes — and attribute any extra to a different, missing process?"
   ]
  },
  {
   "cell_type": "code",
   "execution_count": 1,
   "id": "valuable-mercury",
   "metadata": {},
   "outputs": [],
   "source": [
    "import pandas as pd\n",
    "import numpy as np\n",
    "import matplotlib.pyplot as plt\n",
    "import scipy.interpolate as interp\n",
    "\n",
    "import scripts as sc # Python scripts containing helper functions"
   ]
  },
  {
   "cell_type": "markdown",
   "id": "together-mixture",
   "metadata": {},
   "source": [
    "Test modules:"
   ]
  },
  {
   "cell_type": "code",
   "execution_count": 2,
   "id": "secret-pressing",
   "metadata": {},
   "outputs": [
    {
     "name": "stdout",
     "output_type": "stream",
     "text": [
      "0.0036885495224455744\n"
     ]
    }
   ],
   "source": [
    "NH4_ambient = 50.0 # nmol/L\n",
    "d15NH4_ambient = 7.0 # per mil, assume\n",
    "__, _, af = sc.convert_delta(NH4_ambient, d15NH4_ambient)\n",
    "print(af)"
   ]
  },
  {
   "cell_type": "code",
   "execution_count": 3,
   "id": "ethical-thursday",
   "metadata": {},
   "outputs": [
    {
     "name": "stdout",
     "output_type": "stream",
     "text": [
      "271727043.47646296\n"
     ]
    }
   ],
   "source": [
    "af_spike = 0.999\n",
    "_, d15N_spike = sc.convert_af(af_spike)\n",
    "print(d15N_spike)"
   ]
  },
  {
   "cell_type": "code",
   "execution_count": 4,
   "id": "fantastic-winner",
   "metadata": {},
   "outputs": [
    {
     "name": "stdout",
     "output_type": "stream",
     "text": [
      "(0.396, 0.594, 0.0040000000000000036, 0.006000000000000005)\n"
     ]
    }
   ],
   "source": [
    "print(sc.binomial(0.99, 0.40))"
   ]
  },
  {
   "cell_type": "code",
   "execution_count": 5,
   "id": "arranged-playing",
   "metadata": {},
   "outputs": [
    {
     "data": {
      "text/html": [
       "<div>\n",
       "<style scoped>\n",
       "    .dataframe tbody tr th:only-of-type {\n",
       "        vertical-align: middle;\n",
       "    }\n",
       "\n",
       "    .dataframe tbody tr th {\n",
       "        vertical-align: top;\n",
       "    }\n",
       "\n",
       "    .dataframe thead th {\n",
       "        text-align: right;\n",
       "    }\n",
       "</style>\n",
       "<table border=\"1\" class=\"dataframe\">\n",
       "  <thead>\n",
       "    <tr style=\"text-align: right;\">\n",
       "      <th></th>\n",
       "      <th>Incubation_time_hrs</th>\n",
       "      <th>44N2O</th>\n",
       "      <th>45N2Oa</th>\n",
       "      <th>45N2Ob</th>\n",
       "      <th>46N2O</th>\n",
       "      <th>x</th>\n",
       "    </tr>\n",
       "  </thead>\n",
       "  <tbody>\n",
       "    <tr>\n",
       "      <th>0</th>\n",
       "      <td>0.283333</td>\n",
       "      <td>17.287897</td>\n",
       "      <td>0.079703</td>\n",
       "      <td>0.067088</td>\n",
       "      <td>0.038824</td>\n",
       "      <td>11.805556</td>\n",
       "    </tr>\n",
       "    <tr>\n",
       "      <th>1</th>\n",
       "      <td>11.733333</td>\n",
       "      <td>17.300354</td>\n",
       "      <td>0.151967</td>\n",
       "      <td>0.060203</td>\n",
       "      <td>0.074242</td>\n",
       "      <td>488.888889</td>\n",
       "    </tr>\n",
       "    <tr>\n",
       "      <th>2</th>\n",
       "      <td>24.083333</td>\n",
       "      <td>17.855326</td>\n",
       "      <td>0.183157</td>\n",
       "      <td>0.055270</td>\n",
       "      <td>0.103027</td>\n",
       "      <td>1003.472222</td>\n",
       "    </tr>\n",
       "  </tbody>\n",
       "</table>\n",
       "</div>"
      ],
      "text/plain": [
       "   Incubation_time_hrs      44N2O    45N2Oa    45N2Ob     46N2O            x\n",
       "0             0.283333  17.287897  0.079703  0.067088  0.038824    11.805556\n",
       "1            11.733333  17.300354  0.151967  0.060203  0.074242   488.888889\n",
       "2            24.083333  17.855326  0.183157  0.055270  0.103027  1003.472222"
      ]
     },
     "execution_count": 5,
     "metadata": {},
     "output_type": "execute_result"
    }
   ],
   "source": [
    "data = sc.read_data('00_incubationdata.csv')\n",
    "\n",
    "timepoints = sc.get_experiment(data=data,\n",
    "                                 station=\"PS2\", feature=\"SCM\", tracer=\"NO2-\")\n",
    "\n",
    "timepoints"
   ]
  },
  {
   "cell_type": "code",
   "execution_count": 24,
   "id": "celtic-cement",
   "metadata": {},
   "outputs": [
    {
     "name": "stdout",
     "output_type": "stream",
     "text": [
      "Alt text: A scatterplot of 44N2O in our training data\n"
     ]
    },
    {
     "data": {
      "image/png": "[encoded data removed]",
      "text/plain": [
       "<Figure size 432x288 with 1 Axes>"
      ]
     },
     "metadata": {
      "needs_background": "light"
     },
     "output_type": "display_data"
    }
   ],
   "source": [
    "x = timepoints.x\n",
    "y = timepoints['44N2O']\n",
    "plt.plot(x,y,'bo')\n",
    "\n",
    "print(\"Alt text: A scatterplot of 44N2O in our training data\")"
   ]
  },
  {
   "cell_type": "code",
   "execution_count": 43,
   "id": "supported-sally",
   "metadata": {},
   "outputs": [
    {
     "data": {
      "text/plain": [
       "0      11.805556\n",
       "1     488.888889\n",
       "2    1003.472222\n",
       "Name: x, dtype: float64"
      ]
     },
     "execution_count": 43,
     "metadata": {},
     "output_type": "execute_result"
    }
   ],
   "source": [
    "timepoints.x"
   ]
  },
  {
   "cell_type": "code",
   "execution_count": 42,
   "id": "combined-telescope",
   "metadata": {},
   "outputs": [
    {
     "data": {
      "text/plain": [
       "0      12.0\n",
       "1     489.0\n",
       "2    1003.0\n",
       "Name: x, dtype: float64"
      ]
     },
     "execution_count": 42,
     "metadata": {},
     "output_type": "execute_result"
    }
   ],
   "source": [
    "round(timepoints.x,0)"
   ]
  },
  {
   "cell_type": "code",
   "execution_count": 39,
   "id": "through-consultancy",
   "metadata": {},
   "outputs": [],
   "source": [
    "## NEED A WAY TO COMPARE MODEL OUTPUT AT TIMEPOINT 0 TO\n",
    "## MEASURED N2O AT TIMEPOINT 0\n",
    "\n",
    "index = range(0,1000,1)"
   ]
  },
  {
   "cell_type": "code",
   "execution_count": 50,
   "id": "nonprofit-pathology",
   "metadata": {},
   "outputs": [
    {
     "data": {
      "text/plain": [
       "[<matplotlib.lines.Line2D at 0x7fb6734507c0>]"
      ]
     },
     "execution_count": 50,
     "metadata": {},
     "output_type": "execute_result"
    },
    {
     "data": {
      "image/png": "[encoded data removed]",
      "text/plain": [
       "<Figure size 432x288 with 1 Axes>"
      ]
     },
     "metadata": {
      "needs_background": "light"
     },
     "output_type": "display_data"
    }
   ],
   "source": [
    "### NEXT STEP: INTERPOLATE\n",
    "\n",
    "# we can do a linear interpolation with scipy\n",
    "f = interp.interp1d(x,y,kind=\"linear\")\n",
    "\n",
    "# ...and then plot that interpolation\n",
    "x_fine = np.linspace(x.min(),x.max(), int(x.max()))\n",
    "plt.plot(x_fine,f(x_fine))\n",
    "plt.plot(x,y,'ro')"
   ]
  },
  {
   "cell_type": "markdown",
   "id": "lonely-termination",
   "metadata": {},
   "source": [
    "https://docs.scipy.org/doc/scipy/reference/generated/scipy.interpolate.interp1d.html#scipy.interpolate.interp1d"
   ]
  },
  {
   "cell_type": "code",
   "execution_count": 49,
   "id": "progressive-renewal",
   "metadata": {},
   "outputs": [
    {
     "data": {
      "text/plain": [
       "Text(0, 0.5, '44N2O')"
      ]
     },
     "execution_count": 49,
     "metadata": {},
     "output_type": "execute_result"
    },
    {
     "data": {
      "image/png": "[encoded data removed]",
      "text/plain": [
       "<Figure size 432x288 with 1 Axes>"
      ]
     },
     "metadata": {
      "needs_background": "light"
     },
     "output_type": "display_data"
    }
   ],
   "source": [
    "### TRY THREE DIFFERENT INTERPOLATION METHODS ###\n",
    "\n",
    "x = timepoints.x\n",
    "y = timepoints['44N2O']\n",
    "x_fine = np.linspace(x.min(),x.max()) # get a range of x to interpolate over\n",
    "\n",
    "fig, ax = plt.subplots()\n",
    "\n",
    "# the scipy interp package lets us interpolate between points in different ways\n",
    "ax.plot(x_fine,interp.interp1d(x,y,kind=\"zero\")(x_fine), label=\"stepwise interpolation\")\n",
    "ax.plot(x_fine,interp.interp1d(x,y,kind=\"linear\")(x_fine), label=\"linear interpolation\")\n",
    "ax.plot(x_fine,interp.interp1d(x,y,kind=\"quadratic\")(x_fine), label=\"quadratic interpolation\")\n",
    "ax.plot(x,y,'ro', label=\"Data\")\n",
    "#ax.set_ylim([0, 6]) # a common y-axis range will let us compare plots\n",
    "\n",
    "# make our plot nice with axis labels, a legend, and a title\n",
    "ax.legend()\n",
    "ax.set_xlabel(\"Day\")\n",
    "ax.set_ylabel('44N2O')"
   ]
  },
  {
   "cell_type": "code",
   "execution_count": 11,
   "id": "greek-retreat",
   "metadata": {},
   "outputs": [],
   "source": [
    "### INITS ###\n",
    "\n",
    "### STATION SPECIFIC ###\n",
    "\n",
    "\"\"\"\n",
    "Station: PS2\n",
    "Feature: Secondary chlorophyll max\n",
    "Tracer: 15NO2-\n",
    "\"\"\"\n",
    "\n",
    "N2O_init = 12.5976448125 # nmol/L; these are the initial values measured in the 15NO2- experiment, specifically\n",
    "N2O45a_init = 0.0813219073554308 # nmol/L\n",
    "N2O45b_init = 0.0808397153531429 # nmol/L\n",
    "N2O46_init = 0.0458757941144609 # nmol/L\n",
    "\n",
    "NH4_ambient = 50.0 # nmol/L\n",
    "NO2_ambient = 0.027885*1000 #nmol/L\n",
    "NO3_ambient = 28.101655*1000 # nmol/L\n",
    "\n",
    "d15NH4_ambient = 7.0 # per mil, assume\n",
    "d15NO2_ambient = -22.82 # per mil, PS2 sigma-theta=26.27\n",
    "d15NO3_ambient = 15.25 # per mil, PS2 sigma-theta=26.27\n",
    "\n",
    "__, _, afNH4_ambient = sc.convert_delta(NH4_ambient, d15NH4_ambient)\n",
    "__, _, afNO2_ambient = sc.convert_delta(NO2_ambient, d15NO2_ambient)\n",
    "__, _, afNO3_ambient = sc.convert_delta(NO3_ambient, d15NO3_ambient)\n",
    "\n",
    "### NON-STATION SPECIFIC ###\n",
    "\n",
    "NH4_carrier = 0.50*1000 # nmol/L; THESE ARE TRUE FOR ALL EXPERIMENTS\n",
    "NO2_carrier = 1.00*1000 # nmol/L\n",
    "NO3_carrier = 0.0 # nmol/L\n",
    "\n",
    "R15std = 0.00367647 # air N2\n",
    "af_carrier = R15std/(1+R15std)\n",
    "\n",
    "NH4_spike = 0.50*1000 # nmol/L; THESE ARE TRUE FOR ALL EXPERIMENTS\n",
    "NO2_spike = 4.80*1000 # nmol/L\n",
    "NO3_spike = 1.00*1000 # nmol/L\n",
    "\n",
    "af_spike = 0.99999999\n",
    "_, d15N_spike = sc.convert_af(af_spike)\n",
    "\n",
    "### ISOTOPE MIXING - TRACER ###\n",
    "\n",
    "NO2_init = NO2_ambient + NO2_spike # nmol/L\n",
    "AFNO2_init = (afNO2_ambient*NO2_ambient + af_spike*NO2_spike)/NO2_init\n",
    "_, d15NO2_init = sc.convert_af(AFNO2_init)\n",
    "\n",
    "### ISOTOPE MIXING - NATURAL ABUNDANCE SPECIES ###\n",
    "\n",
    "NH4_init = NH4_ambient + NH4_carrier # nmol/L\n",
    "AFNH4_init = (afNH4_ambient*NH4_ambient + af_carrier*NH4_carrier)/NH4_init\n",
    "_, d15NH4_init = sc.convert_af(AFNH4_init)\n",
    "\n",
    "NO3_init = NO3_ambient + NO3_carrier # nmol/L\n",
    "AFNO3_init = (afNO3_ambient*NO3_ambient + af_carrier*NO3_carrier)/NO3_init\n",
    "_, d15NO3_init = sc.convert_af(AFNO3_init)\n",
    "\n",
    "### NON-MEASURED SPECIES ###\n",
    "\n",
    "NO_init = 0.0 # assume that NO starts at 0\n",
    "d15NO_init = 0.0\n",
    "\n",
    "NH2OH_init = 0.0 # assume that NH2OH starts at 0\n",
    "d15NH2OH_init = 0.0\n",
    "\n",
    "N2_init = 0.0 # assume that N2 starts at 0\n",
    "d15NO_init = 0.0"
   ]
  },
  {
   "cell_type": "code",
   "execution_count": 12,
   "id": "adequate-issue",
   "metadata": {},
   "outputs": [],
   "source": [
    "### RATE CONSTANTS ###\n",
    "\n",
    "### SUBSTRATE EXCHANGE ###\n",
    "\n",
    "kNH4TONO2 = 0.539726351/(NH4_ambient + NH4_spike)\n",
    "kNO2TONO3 = 73.23197829/(NO2_ambient + NO2_spike)\n",
    "kNO3TONO2 = 25.74033006/(NO3_ambient + NO3_spike)\n",
    "\n",
    "kNH4toNH2OH = kNH4TONO2\n",
    "kNH2OHtoNO = kNH4TONO2\n",
    "\n",
    "### N2O CONSUMPTION ###\n",
    "\n",
    "kN2OCONS = 0.056 # /day\n",
    "\n",
    "### MEASURED RATES OF N2O PRODUCTION ###\n",
    "\n",
    "kNO2TON2Oa = 0.112/(NO2_spike) # these are the rates measured in the 15NO2- experiment\n",
    "kNO2TON2Ob = 0.000/(NO2_spike)\n",
    "kNO2TO46N2O = 0.067/(NO2_spike)\n",
    "\n",
    "kNO3TON2Oa = 0.019/(NO3_spike) # these are the rates measured in the 15NO3- experiment\n",
    "kNO3TON2Ob = 0.017/(NO3_spike)\n",
    "kNO3TO46N2O = 0.004/(NO3_spike)\n",
    "\n",
    "kNH4TON2Oa = 0.000/(NH4_spike) # these are the rates measured in the 15NH4+ experiment\n",
    "kNH4TON2Ob = 0.003/(NH4_spike)\n",
    "kNH4TO46N2O = 0.000/(NH4_spike)\n",
    "\n",
    "### ASSUMED RATES OF N2O PRODUCTION ###\n",
    "\n",
    "kdenitno2 = 0.067/(NO2_spike + NO2_ambient)/(0.994245**2)\n",
    "kdenitno3 = 0.004/(NO3_spike + NO3_ambient)/(0.034362**2)\n",
    "knitaob = 0.003/(NH4_spike)"
   ]
  },
  {
   "cell_type": "code",
   "execution_count": 13,
   "id": "conservative-spring",
   "metadata": {},
   "outputs": [
    {
     "data": {
      "text/plain": [
       "0.00011640869925729138"
      ]
     },
     "execution_count": 13,
     "metadata": {},
     "output_type": "execute_result"
    }
   ],
   "source": [
    "kdenitno3"
   ]
  },
  {
   "cell_type": "code",
   "execution_count": 14,
   "id": "velvet-latvia",
   "metadata": {},
   "outputs": [],
   "source": [
    "# Isotope effects, translated into fractionation factors\n",
    "alpha15NH4TON2Oa = -21.3/1000 + 1 # AOA, Santoro et al., 2011 (adjusted based on δ15NH4+ value)\n",
    "alpha15NH4TON2Ob = 9.0/1000 + 1 # AOA, Santoro et al., 2011 (adjusted based on δ15NH4+ value)\n",
    "alpha15NH4TON2O46 = (alpha15NH4TON2Oa + alpha15NH4TON2Ob)/2\n",
    "\n",
    "alpha15NOxTON2Oa = 22./1000.+1 # Toyoda et al., 2005\n",
    "alpha15NOxTON2Ob = 22./1000.+1 # Toyoda et al., 2005\n",
    "alpha15NOxTON2O46 = 22./1000.+1 # Toyoda et al., 2005\n",
    "\n",
    "alpha15NH4TONO2 = 22./1000+1 # AOA, Santoro and Casciotti, 2011\n",
    "alpha15NO2TONO3 = -15./1000+1 # Casciotti, 2009\n",
    "alpha15NO3TONO2 = 5./1000+1 # Granger et al., 2004\n",
    "\n",
    "alpha15N2OatoN2 = 11.8/1000.+1 # Kelly et al., 2021\n",
    "alpha15N2ObtoN2 = 0./1000.+1 # Kelly et al., 2021\n",
    "alpha46N2OtoN2 = 11.8/1000.+1 # assume this is the same as the alpha effect"
   ]
  },
  {
   "cell_type": "code",
   "execution_count": 15,
   "id": "bored-period",
   "metadata": {},
   "outputs": [],
   "source": [
    "### INITIALIZE MODEL PARAMETERS ###\n",
    "\n",
    "# time step (d)\n",
    "dt = 0.001 # 0.001 days/timestep or 1,000 timesteps/day\n",
    "#dt = 0.2 # 0.2 days/timestep or 5 timesteps/day\n",
    "\n",
    "# number of timesteps (y)\n",
    "# increasing n(timesteps) by a factor of 10 decreases rate constants by the same factor\n",
    "T = 1000\n",
    "times = np.array(list(range(1,T+1))) # vector of timesteps\n",
    "\n",
    "### INITIALIZE STATE VARIABLES ###\n",
    "\n",
    "# N2O state variables\n",
    "n2o_44_i = N2O_init\n",
    "n2o_45a_i = N2O45a_init\n",
    "n2o_45b_i = N2O45b_init\n",
    "n2o_46_i = N2O46_init\n",
    "#n2o_16_i = 0.5*n2o_44_i # 2 nitrogen atoms per oxygen!\n",
    "#n2o_18_i = R18n2o_i*n2o_16_i\n",
    "\n",
    "# substrate state variables\n",
    "nh4_14_i, nh4_15_i, _ = sc.convert_delta(concentration=NH4_init, d15N=d15NH4_init)\n",
    "no2_14_i, no2_15_i, _ = sc.convert_delta(concentration=NO2_init, d15N=d15NO2_init)\n",
    "no3_14_i, no3_15_i, _ = sc.convert_delta(concentration=NO3_init, d15N=d15NO3_init)\n",
    "\n",
    "# initialize arrays of state variables\n",
    "n2o_44 = np.zeros(shape = (T,1))\n",
    "n2o_45a = np.zeros(shape = (T,1))\n",
    "n2o_45b = np.zeros(shape = (T,1))\n",
    "n2o_46 = np.zeros(shape = (T,1))\n",
    "nh4_14 = np.zeros(shape = (T,1))\n",
    "nh4_15 = np.zeros(shape = (T,1))\n",
    "no2_14 = np.zeros(shape = (T,1))\n",
    "no2_15 = np.zeros(shape = (T,1))\n",
    "no3_14 = np.zeros(shape = (T,1))\n",
    "no3_15 = np.zeros(shape = (T,1))\n",
    "n2_28 = np.zeros(shape = (T,1))\n",
    "n2_29 = np.zeros(shape = (T,1))\n",
    "n2_30 = np.zeros(shape = (T,1))\n",
    "\n",
    "afnh4 = np.zeros(shape = (T,1))\n",
    "afno2 = np.zeros(shape = (T,1))\n",
    "afno3 = np.zeros(shape = (T,1))\n",
    "\n",
    "# initial values of state variables\n",
    "n2o_44[0,:] = n2o_44_i\n",
    "n2o_45a[0,:] = n2o_45a_i\n",
    "n2o_45b[0,:] = n2o_45b_i\n",
    "n2o_46[0,:] = n2o_46_i\n",
    "nh4_14[0,:] = nh4_14_i\n",
    "nh4_15[0,:] = nh4_15_i\n",
    "no2_14[0,:] = no2_14_i\n",
    "no2_15[0,:] = no2_15_i\n",
    "no3_14[0,:] = no3_14_i\n",
    "no3_15[0,:] = no3_15_i\n",
    "n2_28[0,:] = 0\n",
    "n2_29[0,:] = 0\n",
    "n2_30[0,:] = 0\n",
    "\n",
    "afnh4[0,:] = nh4_15_i/(nh4_14_i+nh4_15_i)\n",
    "afno2[0,:] = no2_15_i/(no2_14_i+no2_15_i)\n",
    "afno3[0,:] = no3_15_i/(no3_14_i+no3_15_i) \n",
    "\n",
    "### ISOTOPE CONSTANTS ###\n",
    "R15std = 0.00367647 # air N2\n",
    "R18std = 0.00200517 # VSMOW\n",
    "\n",
    "\n",
    "### TIME STEPPING ###\n",
    "for iT in range(T-1):\n",
    "\n",
    "    # update substrate values\n",
    "    nh4_14[iT+1,:] = nh4_14[iT,:] + dt*(\n",
    "        -kNH4TONO2*nh4_14[iT])\n",
    "    \n",
    "    nh4_15[iT+1,:] = nh4_15[iT,:] + dt*(\n",
    "        -kNH4TONO2/alpha15NH4TONO2*nh4_15[iT])\n",
    "    \n",
    "    afnh4[iT+1,:] = nh4_15[iT+1,:]/(nh4_14[iT+1,:] + nh4_15[iT+1,:])\n",
    "    \n",
    "    no2_14[iT+1,:] = no2_14[iT,:] + dt*(\n",
    "        kNH4TONO2*nh4_14[iT]\n",
    "        +kNO3TONO2*no3_14[iT]\n",
    "        -kNO2TONO3*no2_14[iT]\n",
    "        \n",
    "        -kdenitno2*no2_14[iT])\n",
    "    \n",
    "    no2_15[iT+1,:] = no2_15[iT,:] + dt*(\n",
    "        kNH4TONO2/alpha15NH4TONO2*nh4_15[iT]\n",
    "        +kNO3TONO2/alpha15NO3TONO2*no3_15[iT]\n",
    "        -kNO2TONO3/alpha15NO2TONO3*no2_15[iT]\n",
    "        \n",
    "        -kdenitno2*no2_15[iT])\n",
    "    \n",
    "    afno2[iT+1,:] = no2_15[iT+1,:]/(no2_14[iT+1,:] + no2_15[iT+1,:])\n",
    "    \n",
    "    no3_14[iT+1,:] = no3_14[iT,:] + dt*(\n",
    "        kNO2TONO3*no2_14[iT]\n",
    "        -kNO3TONO2*no3_14[iT])\n",
    "    \n",
    "    no3_15[iT+1,:] = no3_15[iT,:] + dt*(\n",
    "        kNO2TONO3/alpha15NO2TONO3*no2_15[iT]\n",
    "        -kNO3TONO2/alpha15NO3TONO2*no3_15[iT])\n",
    "    \n",
    "    afno3[iT+1,:] = no3_15[iT+1,:]/(no3_14[iT+1,:] + no3_15[iT+1,:])\n",
    "    \n",
    "    # update N2O values\n",
    "    \n",
    "    total_denit_no2 = (kdenitno2*no2_14[iT] + kdenitno2*no2_15[iT])\n",
    "    \n",
    "    total_denit_no3 = (kdenitno3*no3_14[iT] + kdenitno3*no3_15[iT])\n",
    "    \n",
    "    p46no2, p45ano2, p45bno2, p44no2 = sc.binomial(afno2[iT], afno2[iT])\n",
    "    p46no3, p45ano3, p45bno3, p44no3 = sc.binomial(afno3[iT], afno3[iT])\n",
    "    \n",
    "    n2o_46[iT+1,:] = n2o_46[iT,:] + dt*(\n",
    "        total_denit_no2*p46no2\n",
    "        +total_denit_no3*p46no3\n",
    "        -kN2OCONS/alpha46N2OtoN2*n2o_46[iT])\n",
    "    \n",
    "    n2o_45a[iT+1, :] = n2o_45a[iT,:] + dt*(\n",
    "        total_denit_no2*p45ano2\n",
    "        +total_denit_no3*p45ano3\n",
    "        -kN2OCONS/alpha15N2OatoN2*n2o_45a[iT])\n",
    "    \n",
    "    n2o_45b[iT+1, :] = n2o_45b[iT,:] + dt*(\n",
    "        total_denit_no2*p45bno2\n",
    "        +total_denit_no3*p45bno3\n",
    "        -kN2OCONS/alpha15N2ObtoN2*n2o_45b[iT])\n",
    "    \n",
    "    n2o_44[iT+1,:] = n2o_44[iT,:] + dt*(\n",
    "        total_denit_no2*p44no2\n",
    "        +total_denit_no3*p44no3\n",
    "        -kN2OCONS*n2o_44[iT])\n",
    "    \n",
    "    # update N2 values\n",
    "    \n",
    "    n2_28[iT+1,:] = n2_28[iT,:] + dt*(kN2OCONS*n2o_44[iT])\n",
    "    \n",
    "    n2_29[iT+1,:] = n2_29[iT,:] + dt*(\n",
    "        kN2OCONS/alpha15N2OatoN2*n2o_45a[iT]\n",
    "        +kN2OCONS/alpha15N2ObtoN2*n2o_45b[iT])\n",
    "    \n",
    "    n2_30[iT+1,:] = n2_30[iT,:] + dt*(kN2OCONS/alpha46N2OtoN2*n2o_46[iT])\n",
    "\n",
    "\n",
    "### CALCULATE OUTPUT ###\n",
    "nh4_concentration = pd.DataFrame(nh4_14+nh4_15, columns={'[NH4+]_nM'})\n",
    "d15nh4 = pd.DataFrame((((nh4_15/(nh4_14))/R15std)-1)*1000, columns={'d15NH4+'})\n",
    "afnh4 = pd.DataFrame(afnh4, columns={'AFNH4+'})\n",
    "\n",
    "no3_concentration = pd.DataFrame(no3_14+no3_15, columns={'[NO3-]_nM'})\n",
    "d15no3 = pd.DataFrame((((no3_15/(no3_14))/R15std)-1)*1000, columns={'d15NO3-'})\n",
    "afno3 = pd.DataFrame(afno3, columns={'AFNO3-'})\n",
    "\n",
    "no2_concentration = pd.DataFrame(no2_14+no2_15, columns={'[NO2-]_nM'})\n",
    "d15no2 = pd.DataFrame((((no2_15/(no2_14))/R15std)-1)*1000, columns={'d15NO2-'})\n",
    "afno2 = pd.DataFrame(afno2, columns={'AFNO2-'})\n",
    "\n",
    "\n",
    "n2o_concentration = pd.DataFrame(n2o_44+n2o_45a+n2o_45b+n2o_46, columns={'[N2O]_nM'})\n",
    "\n",
    "n2_concentration = pd.DataFrame(n2_28+n2_29+n2_30, columns = {'[N2]_nM'})\n",
    "\n",
    "\n",
    "d15Na = pd.DataFrame((((n2o_45a/(n2o_44))/R15std)-1)*1000, columns={'d15N2Oa'})\n",
    "d15Nb = pd.DataFrame((((n2o_45b/(n2o_44))/R15std)-1)*1000, columns={'d15N2Ob'})\n",
    "d18O = pd.DataFrame((((n2o_46/(n2o_44))/R15std)-1)*1000, columns={'d18O'})\n",
    "\n",
    "n2o_45a = pd.DataFrame(n2o_45a, columns={'[N2O_45a]_nM'})\n",
    "n2o_45b = pd.DataFrame(n2o_45b, columns={'[N2O_45b]_nM'})\n",
    "n2o_46 = pd.DataFrame(n2o_46, columns={'[N2O_46]_nM'})\n",
    "\n",
    "output = nh4_concentration.join([\n",
    "    d15nh4,afnh4,\n",
    "    no3_concentration, d15no3, afno3,\n",
    "    no2_concentration, d15no2, afno2,\n",
    "    n2o_concentration, n2_concentration, n2o_45a, n2o_45b, n2o_46,\n",
    "    d15Na, d15Nb, d18O])\n",
    "\n",
    "output['check_mass_conservation'] = output.loc[:,['[NH4+]_nM',\n",
    "                                                  '[NO3-]_nM',\n",
    "                                                  '[NO2-]_nM',\n",
    "                                                  '[N2O]_nM',\n",
    "                                                  '[N2]_nM',\n",
    "                                                  '[N2]_nM']].sum(axis=1)\n",
    "                                                  "
   ]
  },
  {
   "cell_type": "code",
   "execution_count": 16,
   "id": "soviet-official",
   "metadata": {},
   "outputs": [
    {
     "name": "stdout",
     "output_type": "stream",
     "text": [
      "33492.34568222932\n",
      "33496.404738025994\n"
     ]
    }
   ],
   "source": [
    "print(output['check_mass_conservation'].min())\n",
    "print(output['check_mass_conservation'].max())"
   ]
  },
  {
   "cell_type": "code",
   "execution_count": 33,
   "id": "destroyed-gibson",
   "metadata": {},
   "outputs": [
    {
     "name": "stdout",
     "output_type": "stream",
     "text": [
      "RangeIndex(start=0, stop=1000, step=1)\n"
     ]
    }
   ],
   "source": [
    "print(output.index)"
   ]
  },
  {
   "cell_type": "code",
   "execution_count": 18,
   "id": "worthy-report",
   "metadata": {},
   "outputs": [
    {
     "data": {
      "text/plain": [
       "[<matplotlib.lines.Line2D at 0x7fb6727e48e0>]"
      ]
     },
     "execution_count": 18,
     "metadata": {},
     "output_type": "execute_result"
    },
    {
     "data": {
      "image/png": "[encoded data removed]",
      "text/plain": [
       "<Figure size 432x288 with 1 Axes>"
      ]
     },
     "metadata": {
      "needs_background": "light"
     },
     "output_type": "display_data"
    }
   ],
   "source": [
    "plt.plot(output[['AFNO3-']])"
   ]
  },
  {
   "cell_type": "code",
   "execution_count": 19,
   "id": "subsequent-stopping",
   "metadata": {},
   "outputs": [
    {
     "data": {
      "text/plain": [
       "[<matplotlib.lines.Line2D at 0x7fb6728ec5b0>]"
      ]
     },
     "execution_count": 19,
     "metadata": {},
     "output_type": "execute_result"
    },
    {
     "data": {
      "image/png": "[encoded data removed]",
      "text/plain": [
       "<Figure size 432x288 with 1 Axes>"
      ]
     },
     "metadata": {
      "needs_background": "light"
     },
     "output_type": "display_data"
    }
   ],
   "source": [
    "plt.plot(output[['AFNO2-']])"
   ]
  },
  {
   "cell_type": "code",
   "execution_count": 53,
   "id": "excess-stability",
   "metadata": {
    "scrolled": true
   },
   "outputs": [
    {
     "data": {
      "text/plain": [
       "[<matplotlib.lines.Line2D at 0x7fb6737edc40>]"
      ]
     },
     "execution_count": 53,
     "metadata": {},
     "output_type": "execute_result"
    },
    {
     "data": {
      "image/png": "[encoded data removed]",
      "text/plain": [
       "<Figure size 432x288 with 1 Axes>"
      ]
     },
     "metadata": {
      "needs_background": "light"
     },
     "output_type": "display_data"
    }
   ],
   "source": [
    "plt.plot(n2o_44)\n",
    "x = timepoints.x\n",
    "y = timepoints['44N2O']\n",
    "plt.plot(x,y,'bo')\n",
    "plt.plot(x_fine,interp.interp1d(x,y,kind=\"quadratic\")(x_fine),zorder=0)"
   ]
  },
  {
   "cell_type": "code",
   "execution_count": 54,
   "id": "promotional-equipment",
   "metadata": {},
   "outputs": [
    {
     "data": {
      "text/plain": [
       "[<matplotlib.lines.Line2D at 0x7fb674189820>]"
      ]
     },
     "execution_count": 54,
     "metadata": {},
     "output_type": "execute_result"
    },
    {
     "data": {
      "image/png": "[encoded data removed]",
      "text/plain": [
       "<Figure size 432x288 with 1 Axes>"
      ]
     },
     "metadata": {
      "needs_background": "light"
     },
     "output_type": "display_data"
    }
   ],
   "source": [
    "plt.plot(n2o_45a)\n",
    "x = timepoints.x\n",
    "y = timepoints['45N2Oa']\n",
    "plt.plot(x,y,'bo')\n",
    "plt.plot(x_fine,interp.interp1d(x,y,kind=\"quadratic\")(x_fine),zorder=0)"
   ]
  },
  {
   "cell_type": "code",
   "execution_count": 55,
   "id": "complimentary-meditation",
   "metadata": {},
   "outputs": [
    {
     "data": {
      "text/plain": [
       "[<matplotlib.lines.Line2D at 0x7fb67427f130>]"
      ]
     },
     "execution_count": 55,
     "metadata": {},
     "output_type": "execute_result"
    },
    {
     "data": {
      "image/png": "[encoded data removed]",
      "text/plain": [
       "<Figure size 432x288 with 1 Axes>"
      ]
     },
     "metadata": {
      "needs_background": "light"
     },
     "output_type": "display_data"
    }
   ],
   "source": [
    "plt.plot(n2o_45b)\n",
    "x = timepoints.x\n",
    "y = timepoints['45N2Ob']\n",
    "plt.plot(x,y,'bo')\n",
    "\n",
    "plt.plot(x_fine,interp.interp1d(x,y,kind=\"quadratic\")(x_fine),zorder=0)"
   ]
  },
  {
   "cell_type": "code",
   "execution_count": 56,
   "id": "working-exception",
   "metadata": {},
   "outputs": [
    {
     "data": {
      "text/plain": [
       "[<matplotlib.lines.Line2D at 0x7fb6734078e0>]"
      ]
     },
     "execution_count": 56,
     "metadata": {},
     "output_type": "execute_result"
    },
    {
     "data": {
      "image/png": "[encoded data removed]",
      "text/plain": [
       "<Figure size 432x288 with 1 Axes>"
      ]
     },
     "metadata": {
      "needs_background": "light"
     },
     "output_type": "display_data"
    }
   ],
   "source": [
    "plt.plot(n2o_46)\n",
    "x = timepoints.x\n",
    "y = timepoints['46N2O']\n",
    "plt.plot(x,y,'bo')\n",
    "plt.plot(x_fine,interp.interp1d(x,y,kind=\"quadratic\")(x_fine),zorder=0)"
   ]
  },
  {
   "cell_type": "code",
   "execution_count": null,
   "id": "polished-philadelphia",
   "metadata": {},
   "outputs": [],
   "source": []
  }
 ],
 "metadata": {
  "kernelspec": {
   "display_name": "Python 3",
   "language": "python",
   "name": "python3"
  },
  "language_info": {
   "codemirror_mode": {
    "name": "ipython",
    "version": 3
   },
   "file_extension": ".py",
   "mimetype": "text/x-python",
   "name": "python",
   "nbconvert_exporter": "python",
   "pygments_lexer": "ipython3",
   "version": "3.9.2"
  }
 },
 "nbformat": 4,
 "nbformat_minor": 5
}
