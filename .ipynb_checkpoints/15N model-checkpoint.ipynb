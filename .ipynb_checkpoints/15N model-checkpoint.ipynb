{
 "cells": [
  {
   "cell_type": "markdown",
   "id": "equal-jacket",
   "metadata": {},
   "source": [
    "# guiding question:\n",
    "\n",
    "What if we just used the forward model to get exchange between substrate pools and calculate the probabilities based on the proportions of substrate? Like what's the probability of getting a 15NH2OH and a 15NO? Then we can add these to get the total production of 46N2O that we would expect from that combination of processes — and likewise for each of the other isotopomers as well.\n",
    "\n",
    "# next:\n",
    "- do we want the nitrite reduction rate constant to be the same kdenitno as the rate constant for no reduction to n2o?\n",
    "- separate out rate constants for different steps in AOA ammonia oxidation pathway\n",
    "- clearly the super-high rate constant for hybrid n2o production gives us our separation between alpha and beta but cannot capture the production of 46n2o\n",
    "- postprocessing scripts to calculate rates in nM/day\n",
    "\n",
    "# need to add isotope effects for: \n",
    "- NITRITE REDUCTION\n",
    "- SEPARATE ISOTOPE EFFECTS FOR AOA AND AOB"
   ]
  },
  {
   "cell_type": "markdown",
   "id": "placed-corner",
   "metadata": {},
   "source": [
    "# initialization"
   ]
  },
  {
   "cell_type": "code",
   "execution_count": 1,
   "id": "valuable-mercury",
   "metadata": {},
   "outputs": [],
   "source": [
    "import pandas as pd\n",
    "import numpy as np\n",
    "import matplotlib.pyplot as plt\n",
    "\n",
    "# use for initialization\n",
    "from collections import namedtuple\n",
    "\n",
    "# use for plotting interpolations of measured incubation data\n",
    "import scipy.interpolate as interp\n",
    "\n",
    "# use for nelder-mead optimization of a convex function\n",
    "from scipy.optimize import minimize\n",
    "from numpy.random import rand\n",
    "\n",
    "import scripts as sc # Python scripts containing helper functions"
   ]
  },
  {
   "cell_type": "markdown",
   "id": "bronze-publisher",
   "metadata": {},
   "source": [
    "Set up the model:"
   ]
  },
  {
   "cell_type": "code",
   "execution_count": 2,
   "id": "caring-employer",
   "metadata": {},
   "outputs": [],
   "source": [
    "### READ IN TRAINING DATA ###\n",
    "path_to_data = sc.datapath()\n",
    "filename = '00_incubationdata.csv'\n",
    "\n",
    "PS2SCM15NO2 = sc.grid_data(filename=f'{path_to_data}{filename}',\n",
    "                          station=\"PS2\", feature=\"SCM\", tracer=\"NO2-\", \n",
    "                          T=1000)"
   ]
  },
  {
   "cell_type": "code",
   "execution_count": 3,
   "id": "fewer-invite",
   "metadata": {},
   "outputs": [],
   "source": [
    "### SUBSTRATE CONCENTRATIONS AND RATES OF EXCHANGE ###\n",
    "bgc = sc.BioGeoChemistry(\"PS2SCM\", tracer=\"NO2-\")"
   ]
  },
  {
   "cell_type": "code",
   "execution_count": 4,
   "id": "velvet-latvia",
   "metadata": {},
   "outputs": [],
   "source": [
    "### ISOTOPE EFFECTS ###\n",
    "isos = sc.IsotopeEffects()"
   ]
  },
  {
   "cell_type": "code",
   "execution_count": 5,
   "id": "driving-inside",
   "metadata": {},
   "outputs": [],
   "source": [
    "### MODEL PARAMS ###\n",
    "(dt, T, times) = sc.modelparams()\n",
    "\n",
    "### STATE VARIABLES ###\n",
    "tr = sc.Tracers(bgc, PS2SCM15NO2) "
   ]
  },
  {
   "cell_type": "code",
   "execution_count": 6,
   "id": "imperial-neighbor",
   "metadata": {},
   "outputs": [],
   "source": [
    "### INITIAL GUESS FOR OPTIMIZATION ###\n",
    "x = sc.kestimates(bgc,\n",
    "                  inputdata=pd.read_csv(f'{sc.datapath()}00_incubationdata.csv'),\n",
    "                  station=\"PS2\", feature=\"SCM\", hybridtracer=\"NO2-\") "
   ]
  },
  {
   "cell_type": "code",
   "execution_count": 7,
   "id": "democratic-quantum",
   "metadata": {},
   "outputs": [
    {
     "data": {
      "text/plain": [
       "[0.0, 2.8050367317752543e-09, 2.633772229350046e-09, 3.944363997256793e-08]"
      ]
     },
     "execution_count": 7,
     "metadata": {},
     "output_type": "execute_result"
    }
   ],
   "source": [
    "x"
   ]
  },
  {
   "cell_type": "markdown",
   "id": "placed-citation",
   "metadata": {},
   "source": [
    "# model setup"
   ]
  },
  {
   "cell_type": "code",
   "execution_count": 8,
   "id": "deadly-analyst",
   "metadata": {},
   "outputs": [],
   "source": [
    "def modelv1(x, tracers):\n",
    "\n",
    "    ### UNPACK X ###\n",
    "    [knitrification, kdenitno2, kdenitno3, khybrid] = x\n",
    "\n",
    "    ### TIME STEPPING ###\n",
    "    for iT in range(T-1):\n",
    "\n",
    "        Jhybrid = khybrid*(tracers.nh4_14[iT]+tracers.nh4_15[iT])*(tracers.no2_14[iT]+tracers.no2_15[iT])\n",
    "\n",
    "        Jnitrification = knitrification*((tracers.nh4_14[iT]+tracers.nh4_15[iT])**2)\n",
    "        Jdenitno2 = kdenitno2*((tracers.no2_14[iT]+tracers.no2_15[iT])**2)\n",
    "        Jdenitno3 = kdenitno3*((tracers.no3_14[iT]+tracers.no3_15[iT])**2)\n",
    "\n",
    "        # update substrate values\n",
    "        tracers.nh4_14[iT+1,:] = tracers.nh4_14[iT,:] + dt*(\n",
    "            -bgc.kNH4TONO2*tracers.nh4_14[iT]\n",
    "\n",
    "            -Jnitrification*(1-tracers.afnh4[iT,:])\n",
    "            -Jhybrid*(1-tracers.afnh4[iT,:]))\n",
    "\n",
    "        tracers.nh4_15[iT+1,:] = tracers.nh4_15[iT,:] + dt*(\n",
    "            -bgc.kNH4TONO2/isos.alpha15NH4TONO2*tracers.nh4_15[iT]\n",
    "\n",
    "            -Jnitrification*tracers.afnh4[iT,:]\n",
    "            -Jhybrid*tracers.afnh4[iT,:])\n",
    "\n",
    "        tracers.no2_14[iT+1,:] = tracers.no2_14[iT,:] + dt*(\n",
    "            bgc.kNH4TONO2*tracers.nh4_14[iT]\n",
    "            +bgc.kNO3TONO2*tracers.no3_14[iT]\n",
    "            -bgc.kNO2TONO3*tracers.no2_14[iT]\n",
    "\n",
    "            -Jdenitno2*(1-tracers.afno2[iT,:])\n",
    "            -Jhybrid*(1-tracers.afno2[iT,:]))\n",
    "\n",
    "        tracers.no2_15[iT+1,:] = tracers.no2_15[iT,:] + dt*(\n",
    "            bgc.kNH4TONO2/isos.alpha15NH4TONO2*tracers.nh4_15[iT]\n",
    "            +bgc.kNO3TONO2/isos.alpha15NO3TONO2*tracers.no3_15[iT]\n",
    "            -bgc.kNO2TONO3/isos.alpha15NO2TONO3*tracers.no2_15[iT]\n",
    "\n",
    "            -Jdenitno2*(tracers.afno2[iT,:])\n",
    "            -Jhybrid*tracers.afno2[iT,:])\n",
    "\n",
    "        tracers.no3_14[iT+1,:] = tracers.no3_14[iT,:] + dt*(\n",
    "            bgc.kNO2TONO3*tracers.no2_14[iT]\n",
    "            -bgc.kNO3TONO2*tracers.no3_14[iT]\n",
    "\n",
    "            -Jdenitno3*(1-tracers.afno3[iT,:]))\n",
    "\n",
    "        tracers.no3_15[iT+1,:] = tracers.no3_15[iT,:] + dt*(\n",
    "            bgc.kNO2TONO3/isos.alpha15NO2TONO3*tracers.no2_15[iT]\n",
    "            -bgc.kNO3TONO2/isos.alpha15NO3TONO2*tracers.no3_15[iT]\n",
    "\n",
    "            -Jdenitno3*tracers.afno3[iT,:])\n",
    "\n",
    "        # recalculate atom fractions at each time step\n",
    "        tracers.afnh4[iT+1,:] = tracers.nh4_15[iT+1,:]/(tracers.nh4_14[iT+1,:] + tracers.nh4_15[iT+1,:])\n",
    "        tracers.afno2[iT+1,:] = tracers.no2_15[iT+1,:]/(tracers.no2_14[iT+1,:] + tracers.no2_15[iT+1,:])\n",
    "        tracers.afno3[iT+1,:] = tracers.no3_15[iT+1,:]/(tracers.no3_14[iT+1,:] + tracers.no3_15[iT+1,:])\n",
    "\n",
    "        # calculate total rates of N2O production from substrates\n",
    "\n",
    "        total_nitrification = Jnitrification/2 # need to multiply by 1/2 to convert nmols N/L/day into nmols N2O/L/day\n",
    "        total_denit_no2 = Jdenitno2/2\n",
    "        total_denit_no3 = Jdenitno3/2\n",
    "        total_hybrid = Jhybrid/2\n",
    "\n",
    "        # calculate probabilities of isotopomer formation\n",
    "\n",
    "        p1, p2, p3, p4 = sc.binomial(tracers.afno2[iT], tracers.afnh4[iT])\n",
    "\n",
    "        p46hybrid = p1\n",
    "        p45ahybrid = p2 # (p2+p3)/2\n",
    "        p45bhybrid = p3 # (p2+p3)/2\n",
    "        p44hybrid = p4\n",
    "\n",
    "        p46nh4, p45anh4, p45bnh4, p44nh4 = sc.binomial(tracers.afnh4[iT], tracers.afnh4[iT])\n",
    "        p46no2, p45ano2, p45bno2, p44no2 = sc.binomial(tracers.afno2[iT], tracers.afno2[iT])\n",
    "        p46no3, p45ano3, p45bno3, p44no3 = sc.binomial(tracers.afno3[iT], tracers.afno3[iT])\n",
    "\n",
    "        # update N2O values\n",
    "        tracers.n2o_46[iT+1,:] = tracers.n2o_46[iT,:] + dt*(\n",
    "            +total_hybrid*p46hybrid\n",
    "            +total_nitrification*p46nh4\n",
    "            +total_denit_no2*p46no2\n",
    "            +total_denit_no3*p46no3\n",
    "            -bgc.kN2OCONS/isos.alpha46N2OtoN2*tracers.n2o_46[iT])\n",
    "\n",
    "        tracers.n2o_45a[iT+1, :] = tracers.n2o_45a[iT,:] + dt*(\n",
    "            +total_hybrid*p45ahybrid\n",
    "            +total_nitrification*p45anh4\n",
    "            +total_denit_no2*p45ano2\n",
    "            +total_denit_no3*p45ano3\n",
    "            -bgc.kN2OCONS/isos.alpha15N2OatoN2*tracers.n2o_45a[iT])\n",
    "\n",
    "        tracers.n2o_45b[iT+1, :] = tracers.n2o_45b[iT,:] + dt*(\n",
    "            +total_hybrid*p45bhybrid\n",
    "            +total_nitrification*p45bnh4\n",
    "            +total_denit_no2*p45bno2\n",
    "            +total_denit_no3*p45bno3\n",
    "            -bgc.kN2OCONS/isos.alpha15N2ObtoN2*tracers.n2o_45b[iT])\n",
    "\n",
    "        tracers.n2o_44[iT+1,:] = tracers.n2o_44[iT,:] + dt*(\n",
    "            +total_hybrid*p44hybrid\n",
    "            +total_nitrification*p44nh4\n",
    "            +total_denit_no2*p44no2\n",
    "            +total_denit_no3*p44no3\n",
    "            -bgc.kN2OCONS*tracers.n2o_44[iT])\n",
    "\n",
    "        # update N2 values\n",
    "\n",
    "        tracers.n2_28[iT+1,:] = tracers.n2_28[iT,:] + dt*(bgc.kN2OCONS*tracers.n2o_44[iT])\n",
    "\n",
    "        tracers.n2_29[iT+1,:] = tracers.n2_29[iT,:] + dt*(\n",
    "            bgc.kN2OCONS/isos.alpha15N2OatoN2*tracers.n2o_45a[iT]\n",
    "            +bgc.kN2OCONS/isos.alpha15N2ObtoN2*tracers.n2o_45b[iT])\n",
    "\n",
    "        tracers.n2_30[iT+1,:] = tracers.n2_30[iT,:] + dt*(bgc.kN2OCONS/isos.alpha46N2OtoN2*tracers.n2o_46[iT])\n",
    "    \n",
    "    return tracers"
   ]
  },
  {
   "cell_type": "code",
   "execution_count": 21,
   "id": "developmental-proof",
   "metadata": {},
   "outputs": [],
   "source": [
    "def modelv2(x, tracers):\n",
    "\n",
    "    ### UNPACK X ###\n",
    "    [knitrification, kdenitno, kdenitno3, khybrid] = x\n",
    "\n",
    "    ### TIME STEPPING ###\n",
    "    for iT in range(T-1):\n",
    "\n",
    "        Jhybrid = khybrid*(tracers.nh2oh_14[iT]+tracers.nh2oh_15[iT])*(tracers.no_14[iT]+tracers.no_15[iT]) \n",
    "        \n",
    "        Jnitrification = knitrification*((tracers.nh4_14[iT]+tracers.nh4_15[iT])**2)\n",
    "        Jdenitno = kdenitno*((tracers.no_14[iT]+tracers.no_15[iT])**2)\n",
    "        Jdenitno3 = kdenitno3*((tracers.no3_14[iT]+tracers.no3_15[iT])**2)\n",
    "        \n",
    "        kAOA = bgc.kNH4TONO2\n",
    "        kAOB = bgc.kNH4TONO2\n",
    "\n",
    "        # update substrate values\n",
    "        tracers.nh4_14[iT+1,:] = tracers.nh4_14[iT,:] + dt*(\n",
    "            -kAOB*tracers.nh4_14[iT]\n",
    "            -kAOA*tracers.nh4_14[iT]\n",
    "            -Jnitrification*(1-tracers.afnh4[iT,:]))\n",
    "\n",
    "        tracers.nh4_15[iT+1,:] = tracers.nh4_15[iT,:] + dt*(\n",
    "            -kAOB/isos.alpha15NH4TONO2*tracers.nh4_15[iT]\n",
    "            -kAOA/isos.alpha15NH4TONO2*tracers.nh4_15[iT]\n",
    "            -Jnitrification*tracers.afnh4[iT,:])\n",
    "\n",
    "        tracers.nh2oh_14[iT+1, :] = tracers.nh2oh_14[iT, :] + dt*(\n",
    "            +kAOA*tracers.nh4_14[iT]\n",
    "            -kAOA*tracers.nh2oh_14[iT]\n",
    "            -Jhybrid*(1-tracers.afnh2oh[iT])\n",
    "        )\n",
    "\n",
    "        tracers.nh2oh_15[iT+1, :] = tracers.nh2oh_15[iT, :] + dt*(\n",
    "            +kAOA/isos.alpha15NH4TONO2*tracers.nh4_15[iT]\n",
    "            -kAOA/isos.alpha15NH4TONO2*tracers.nh2oh_15[iT]\n",
    "            -Jhybrid*(tracers.afnh2oh[iT])\n",
    "        )\n",
    "            \n",
    "        tracers.no_14[iT+1, :] = tracers.no_14[iT, :] + dt*(\n",
    "            +kAOA*tracers.nh2oh_14[iT]\n",
    "            +kdenitno*tracers.no2_14[iT]\n",
    "            -kAOA*tracers.no_14[iT]\n",
    "            -Jdenitno*(1-tracers.afno[iT,:])\n",
    "            -Jhybrid*(1-tracers.afno[iT])\n",
    "        )\n",
    "\n",
    "        tracers.no_15[iT+1, :] = tracers.no_15[iT, :] + dt*(\n",
    "            +kAOA/isos.alpha15NH4TONO2*tracers.nh2oh_15[iT]\n",
    "            +kdenitno*tracers.no2_15[iT]\n",
    "            -kAOA/isos.alpha15NH4TONO2*tracers.no_15[iT]\n",
    "            -Jdenitno*(tracers.afno[iT,:])\n",
    "            -Jhybrid*(tracers.afno[iT])\n",
    "        )\n",
    "        \n",
    "        tracers.no2_14[iT+1,:] = tracers.no2_14[iT,:] + dt*(\n",
    "            +kAOB*tracers.nh4_14[iT]\n",
    "            +kAOA*tracers.no_14[iT]\n",
    "            +bgc.kNO3TONO2*tracers.no3_14[iT]\n",
    "            -bgc.kNO2TONO3*tracers.no2_14[iT]\n",
    "            -kdenitno*tracers.no2_14[iT]\n",
    "        )\n",
    "\n",
    "        tracers.no2_15[iT+1,:] = tracers.no2_15[iT,:] + dt*(\n",
    "            kAOB/isos.alpha15NH4TONO2*tracers.nh4_15[iT]\n",
    "            +kAOA/isos.alpha15NH4TONO2*tracers.nh2oh_15[iT]\n",
    "            +bgc.kNO3TONO2/isos.alpha15NO3TONO2*tracers.no3_15[iT]\n",
    "            -bgc.kNO2TONO3/isos.alpha15NO2TONO3*tracers.no2_15[iT]\n",
    "            -kdenitno*tracers.no2_15[iT]\n",
    "        )\n",
    "\n",
    "        tracers.no3_14[iT+1,:] = tracers.no3_14[iT,:] + dt*(\n",
    "            bgc.kNO2TONO3*tracers.no2_14[iT]\n",
    "            -bgc.kNO3TONO2*tracers.no3_14[iT]\n",
    "            -Jdenitno3*(1-tracers.afno3[iT,:]))\n",
    "\n",
    "        tracers.no3_15[iT+1,:] = tracers.no3_15[iT,:] + dt*(\n",
    "            bgc.kNO2TONO3/isos.alpha15NO2TONO3*tracers.no2_15[iT]\n",
    "            -bgc.kNO3TONO2/isos.alpha15NO3TONO2*tracers.no3_15[iT]\n",
    "            -Jdenitno3*tracers.afno3[iT,:])\n",
    "\n",
    "        # recalculate atom fractions at each time step\n",
    "        tracers.afnh4[iT+1,:] = tracers.nh4_15[iT+1,:]/(tracers.nh4_14[iT+1,:] + tracers.nh4_15[iT+1,:])\n",
    "        tracers.afnh2oh[iT+1,:] = tracers.nh2oh_15[iT+1,:]/(tracers.nh2oh_14[iT+1,:] + tracers.nh2oh_15[iT+1,:])\n",
    "        tracers.afno[iT+1,:] = tracers.no_15[iT+1,:]/(tracers.no_14[iT+1,:] + tracers.no_15[iT+1,:])\n",
    "        tracers.afno2[iT+1,:] = tracers.no2_15[iT+1,:]/(tracers.no2_14[iT+1,:] + tracers.no2_15[iT+1,:])\n",
    "        tracers.afno3[iT+1,:] = tracers.no3_15[iT+1,:]/(tracers.no3_14[iT+1,:] + tracers.no3_15[iT+1,:])\n",
    "\n",
    "        # calculate total rates of N2O production from substrates\n",
    "\n",
    "        total_nitrification = Jnitrification/2 # need to multiply by 1/2 to convert nmols N/L/day into nmols N2O/L/day\n",
    "        total_denit_no = Jdenitno/2\n",
    "        total_denit_no3 = Jdenitno3/2\n",
    "        total_hybrid = Jhybrid/2\n",
    "\n",
    "        # calculate probabilities of isotopomer formation\n",
    "\n",
    "        p1, p2, p3, p4 = sc.binomial(tracers.afno[iT], tracers.afnh2oh[iT])\n",
    "\n",
    "        p46hybrid = p1\n",
    "        p45ahybrid = p2 # (p2+p3)/2\n",
    "        p45bhybrid = p3 # (p2+p3)/2\n",
    "        p44hybrid = p4\n",
    "\n",
    "        p46nh4, p45anh4, p45bnh4, p44nh4 = sc.binomial(tracers.afnh4[iT], tracers.afnh4[iT])\n",
    "        p46no, p45ano, p45bno, p44no = sc.binomial(tracers.afno[iT], tracers.afno[iT])\n",
    "        p46no3, p45ano3, p45bno3, p44no3 = sc.binomial(tracers.afno3[iT], tracers.afno3[iT])\n",
    "\n",
    "        # update N2O values\n",
    "        tracers.n2o_46[iT+1,:] = tracers.n2o_46[iT,:] + dt*(\n",
    "            +total_hybrid*p46hybrid\n",
    "            +total_nitrification*p46nh4\n",
    "            +total_denit_no*p46no\n",
    "            +total_denit_no3*p46no3\n",
    "            -bgc.kN2OCONS/isos.alpha46N2OtoN2*tracers.n2o_46[iT])\n",
    "\n",
    "        tracers.n2o_45a[iT+1, :] = tracers.n2o_45a[iT,:] + dt*(\n",
    "            +total_hybrid*p45ahybrid\n",
    "            +total_nitrification*p45anh4\n",
    "            +total_denit_no*p45ano\n",
    "            +total_denit_no3*p45ano3\n",
    "            -bgc.kN2OCONS/isos.alpha15N2OatoN2*tracers.n2o_45a[iT])\n",
    "\n",
    "        tracers.n2o_45b[iT+1, :] = tracers.n2o_45b[iT,:] + dt*(\n",
    "            +total_hybrid*p45bhybrid\n",
    "            +total_nitrification*p45bnh4\n",
    "            +total_denit_no*p45bno\n",
    "            +total_denit_no3*p45bno3\n",
    "            -bgc.kN2OCONS/isos.alpha15N2ObtoN2*tracers.n2o_45b[iT])\n",
    "\n",
    "        tracers.n2o_44[iT+1,:] = tracers.n2o_44[iT,:] + dt*(\n",
    "            +total_hybrid*p44hybrid\n",
    "            +total_nitrification*p44nh4\n",
    "            +total_denit_no*p44no\n",
    "            +total_denit_no3*p44no3\n",
    "            -bgc.kN2OCONS*tracers.n2o_44[iT])\n",
    "\n",
    "        # update N2 values\n",
    "\n",
    "        tracers.n2_28[iT+1,:] = tracers.n2_28[iT,:] + dt*(bgc.kN2OCONS*tracers.n2o_44[iT])\n",
    "\n",
    "        tracers.n2_29[iT+1,:] = tracers.n2_29[iT,:] + dt*(\n",
    "            bgc.kN2OCONS/isos.alpha15N2OatoN2*tracers.n2o_45a[iT]\n",
    "            +bgc.kN2OCONS/isos.alpha15N2ObtoN2*tracers.n2o_45b[iT])\n",
    "\n",
    "        tracers.n2_30[iT+1,:] = tracers.n2_30[iT,:] + dt*(bgc.kN2OCONS/isos.alpha46N2OtoN2*tracers.n2o_46[iT])\n",
    "    \n",
    "    return tracers"
   ]
  },
  {
   "cell_type": "code",
   "execution_count": 22,
   "id": "stone-extent",
   "metadata": {},
   "outputs": [],
   "source": [
    "def objective(x, tracers):\n",
    "    \n",
    "    tracers = modelv2(x, tracers)\n",
    "    \n",
    "    cost = sc.costfxn(trainingdata = PS2SCM15NO2,\n",
    "                modeled_44 = tracers.n2o_44,\n",
    "                modeled_45a = tracers.n2o_45a,\n",
    "                modeled_45b = tracers.n2o_45b,\n",
    "                modeled_46 = tracers.n2o_46,\n",
    "                weights = np.array([1,10,10,10]))\n",
    "    \n",
    "    return cost"
   ]
  },
  {
   "cell_type": "code",
   "execution_count": 88,
   "id": "confused-company",
   "metadata": {},
   "outputs": [],
   "source": [
    "x = [0.00000000e+00, 4.49049767e-05, 4.13859771e-09, 1000]"
   ]
  },
  {
   "cell_type": "code",
   "execution_count": 89,
   "id": "honest-california",
   "metadata": {},
   "outputs": [
    {
     "data": {
      "text/plain": [
       "0.7969790051503554"
      ]
     },
     "execution_count": 89,
     "metadata": {},
     "output_type": "execute_result"
    }
   ],
   "source": [
    "objective(x, tr)"
   ]
  },
  {
   "cell_type": "markdown",
   "id": "protective-murder",
   "metadata": {},
   "source": [
    "# optimization"
   ]
  },
  {
   "cell_type": "code",
   "execution_count": 103,
   "id": "opposite-public",
   "metadata": {},
   "outputs": [
    {
     "data": {
      "text/plain": [
       "[0.0, 4.49049767e-05, 4.13859771e-09, 1000]"
      ]
     },
     "execution_count": 103,
     "metadata": {},
     "output_type": "execute_result"
    }
   ],
   "source": [
    "xguess = x\n",
    "\n",
    "xguess"
   ]
  },
  {
   "cell_type": "code",
   "execution_count": 104,
   "id": "banned-message",
   "metadata": {},
   "outputs": [
    {
     "data": {
      "text/plain": [
       "array([0.00000000e+00, 5.55223053e-05, 4.81140371e-09, 1.01838812e+03])"
      ]
     },
     "execution_count": 104,
     "metadata": {},
     "output_type": "execute_result"
    }
   ],
   "source": [
    "### OPTIMIZE WITH RANDOMLY SELECTED X0 ###\n",
    "\n",
    "# define range for input\n",
    "r_min = np.array(xguess)*0.75\n",
    "r_max = np.array(xguess)*1.25\n",
    "# define the starting point as a random sample from the domain\n",
    "pt = r_min + rand(4)*(r_max - r_min)\n",
    "\n",
    "pt"
   ]
  },
  {
   "cell_type": "code",
   "execution_count": 105,
   "id": "found-boutique",
   "metadata": {},
   "outputs": [
    {
     "name": "stderr",
     "output_type": "stream",
     "text": [
      "<ipython-input-21-6162783a89e3>:9: RuntimeWarning: overflow encountered in multiply\n",
      "  Jhybrid = khybrid*(tracers.nh2oh_14[iT]+tracers.nh2oh_15[iT])*(tracers.no_14[iT]+tracers.no_15[iT])\n",
      "<ipython-input-21-6162783a89e3>:12: RuntimeWarning: overflow encountered in square\n",
      "  Jdenitno = kdenitno*((tracers.no_14[iT]+tracers.no_15[iT])**2)\n",
      "<ipython-input-21-6162783a89e3>:85: RuntimeWarning: invalid value encountered in true_divide\n",
      "  tracers.afnh2oh[iT+1,:] = tracers.nh2oh_15[iT+1,:]/(tracers.nh2oh_14[iT+1,:] + tracers.nh2oh_15[iT+1,:])\n",
      "<ipython-input-21-6162783a89e3>:86: RuntimeWarning: invalid value encountered in true_divide\n",
      "  tracers.afno[iT+1,:] = tracers.no_15[iT+1,:]/(tracers.no_14[iT+1,:] + tracers.no_15[iT+1,:])\n",
      "<ipython-input-21-6162783a89e3>:42: RuntimeWarning: invalid value encountered in subtract\n",
      "  +kAOA*tracers.nh2oh_14[iT]\n",
      "<ipython-input-21-6162783a89e3>:50: RuntimeWarning: invalid value encountered in subtract\n",
      "  +kAOA/isos.alpha15NH4TONO2*tracers.nh2oh_15[iT]\n",
      "<ipython-input-21-6162783a89e3>:87: RuntimeWarning: invalid value encountered in true_divide\n",
      "  tracers.afno2[iT+1,:] = tracers.no2_15[iT+1,:]/(tracers.no2_14[iT+1,:] + tracers.no2_15[iT+1,:])\n",
      "<ipython-input-21-6162783a89e3>:88: RuntimeWarning: invalid value encountered in true_divide\n",
      "  tracers.afno3[iT+1,:] = tracers.no3_15[iT+1,:]/(tracers.no3_14[iT+1,:] + tracers.no3_15[iT+1,:])\n"
     ]
    },
    {
     "name": "stdout",
     "output_type": "stream",
     "text": [
      "Status : Maximum number of function evaluations has been exceeded.\n",
      "Total Evaluations: 801\n",
      "Solution: f([0.00000000e+00 4.78998577e-05 4.14971827e-09 9.18621053e+03]) = 0.76290\n"
     ]
    }
   ],
   "source": [
    "# define bounds: no negative rate constants\n",
    "bnds = ((0, None), (0, None), (0, None), (0, None))\n",
    "\n",
    "# perform the search with randomly selected x0\n",
    "result = minimize(objective, pt, args = tr, method='nelder-mead', bounds=bnds)\n",
    "# summarize the result\n",
    "print('Status : %s' % result['message'])\n",
    "print('Total Evaluations: %d' % result['nfev'])\n",
    "# evaluate solution\n",
    "solution = result['x']\n",
    "evaluation = objective(solution, tr)\n",
    "print('Solution: f(%s) = %.5f' % (solution, evaluation))"
   ]
  },
  {
   "cell_type": "code",
   "execution_count": 20,
   "id": "residential-meditation",
   "metadata": {},
   "outputs": [
    {
     "name": "stdout",
     "output_type": "stream",
     "text": [
      "Status : Maximum number of function evaluations has been exceeded.\n",
      "Total Evaluations: 803\n",
      "Solution: f([0.00000000e+00 4.83982901e-05 4.35731044e-09 8.77930301e+03]) = 0.77775\n"
     ]
    }
   ],
   "source": [
    "# define bounds: no negative rate constants\n",
    "bnds = ((0, None), (0, None), (0, None), (0, None))\n",
    "\n",
    "# perform the search with intelligently selcted x0\n",
    "result = minimize(objective, xguess, args = tr, method='nelder-mead', bounds=bnds)\n",
    "# summarize the result\n",
    "print('Status : %s' % result['message'])\n",
    "print('Total Evaluations: %d' % result['nfev'])\n",
    "# evaluate solution\n",
    "solution = result['x']\n",
    "evaluation = objective(solution, tr)\n",
    "print('Solution: f(%s) = %.5f' % (solution, evaluation))"
   ]
  },
  {
   "cell_type": "code",
   "execution_count": 106,
   "id": "trying-piece",
   "metadata": {},
   "outputs": [
    {
     "data": {
      "text/plain": [
       "0.762898751422836"
      ]
     },
     "execution_count": 106,
     "metadata": {},
     "output_type": "execute_result"
    }
   ],
   "source": [
    "objective(result.x, tr)"
   ]
  },
  {
   "cell_type": "code",
   "execution_count": 107,
   "id": "greater-spyware",
   "metadata": {},
   "outputs": [
    {
     "data": {
      "text/plain": [
       "array([0.00000000e+00, 4.78998577e-05, 4.14971827e-09, 9.18621053e+03])"
      ]
     },
     "execution_count": 107,
     "metadata": {},
     "output_type": "execute_result"
    }
   ],
   "source": [
    "result.x"
   ]
  },
  {
   "cell_type": "markdown",
   "id": "amazing-gathering",
   "metadata": {},
   "source": [
    "# post-processing"
   ]
  },
  {
   "cell_type": "code",
   "execution_count": 120,
   "id": "generous-navigation",
   "metadata": {},
   "outputs": [],
   "source": [
    "tracers = modelv2(x, tr)"
   ]
  },
  {
   "cell_type": "code",
   "execution_count": 121,
   "id": "balanced-summer",
   "metadata": {},
   "outputs": [],
   "source": [
    "def postprocess(tracers):\n",
    "\n",
    "    ### CALCULATE OUTPUT ###\n",
    "\n",
    "    ### ISOTOPE CONSTANTS ###\n",
    "    R15std = 0.00367647 # air N2\n",
    "    R18std = 0.00200517 # VSMOW\n",
    "\n",
    "\n",
    "    nh4_concentration = pd.DataFrame(tracers.nh4_14+tracers.nh4_15, columns={'[NH4+]_nM'})\n",
    "    d15nh4 = pd.DataFrame((((tracers.nh4_15/(tracers.nh4_14))/R15std)-1)*1000, columns={'d15NH4+'})\n",
    "    afnh4_df = pd.DataFrame(tracers.afnh4, columns={'AFNH4+'})\n",
    "\n",
    "    no3_concentration = pd.DataFrame(tracers.no3_14+tracers.no3_15, columns={'[NO3-]_nM'})\n",
    "    d15no3 = pd.DataFrame((((tracers.no3_15/(tracers.no3_14))/R15std)-1)*1000, columns={'d15NO3-'})\n",
    "    afno3_df = pd.DataFrame(tracers.afno3, columns={'AFNO3-'})\n",
    "\n",
    "    no2_concentration = pd.DataFrame(tracers.no2_14+tracers.no2_15, columns={'[NO2-]_nM'})\n",
    "    d15no2 = pd.DataFrame((((tracers.no2_15/(tracers.no2_14))/R15std)-1)*1000, columns={'d15NO2-'})\n",
    "    afno2_df = pd.DataFrame(tracers.afno2, columns={'AFNO2-'})\n",
    "\n",
    "    n2_concentration = pd.DataFrame(tracers.n2_28+tracers.n2_29+tracers.n2_30, columns = {'[N2]_nM'})\n",
    "    \n",
    "    nh2oh_concentration = pd.DataFrame(tracers.nh2oh_15+tracers.nh2oh_14, columns = {'[NH2OH]_nM'})\n",
    "    \n",
    "    no_concentration = pd.DataFrame(tracers.no_15+tracers.no_14, columns = {'[NO]_nM'})\n",
    "\n",
    "\n",
    "    d15Na = pd.DataFrame((((tracers.n2o_45a/(tracers.n2o_44))/R15std)-1)*1000, columns={'d15N2Oa'})\n",
    "    d15Nb = pd.DataFrame((((tracers.n2o_45b/(tracers.n2o_44))/R15std)-1)*1000, columns={'d15N2Ob'})\n",
    "    d18O = pd.DataFrame((((tracers.n2o_46/(tracers.n2o_44))/R15std)-1)*1000, columns={'d18O'})\n",
    "\n",
    "    n2o_44 = pd.DataFrame(tracers.n2o_44, columns={'[N2O_44]_nM'})\n",
    "    n2o_45a = pd.DataFrame(tracers.n2o_45a, columns={'[N2O_45a]_nM'})\n",
    "    n2o_45b = pd.DataFrame(tracers.n2o_45b, columns={'[N2O_45b]_nM'})\n",
    "    n2o_46 = pd.DataFrame(tracers.n2o_46, columns={'[N2O_46]_nM'})\n",
    "    n2o_concentration = pd.DataFrame(tracers.n2o_44+tracers.n2o_45a+tracers.n2o_45b+tracers.n2o_46, columns={'[N2O]_nM'})\n",
    "\n",
    "    output = nh4_concentration.join([\n",
    "        d15nh4,afnh4_df,\n",
    "        no3_concentration, d15no3, afno3_df,\n",
    "        no2_concentration, d15no2, afno2_df,\n",
    "        n2o_44, n2o_45a, n2o_45b, n2o_46,\n",
    "        n2o_concentration,\n",
    "        nh2oh_concentration,\n",
    "        no_concentration,\n",
    "        n2_concentration,\n",
    "        d15Na, d15Nb, d18O])\n",
    "\n",
    "    output[\"Incubation_time_hrs\"] = output.index/1000*24\n",
    "    \n",
    "    output['check_mass_conservation'] = output.loc[:,['[NH4+]_nM','[NH2OH]_nM','[NO]_nM','[NO3-]_nM','[NO2-]_nM','[N2O]_nM','[N2]_nM','[N2]_nM']].sum(axis=1)\n",
    "    \n",
    "    return output\n",
    "                                                  "
   ]
  },
  {
   "cell_type": "code",
   "execution_count": 122,
   "id": "extraordinary-amateur",
   "metadata": {},
   "outputs": [],
   "source": [
    "output = postprocess(tracers)"
   ]
  },
  {
   "cell_type": "code",
   "execution_count": 123,
   "id": "soviet-official",
   "metadata": {},
   "outputs": [
    {
     "name": "stdout",
     "output_type": "stream",
     "text": [
      "31874.582318890847\n",
      "31875.363511943997\n"
     ]
    }
   ],
   "source": [
    "print(output['check_mass_conservation'].min())\n",
    "print(output['check_mass_conservation'].max())"
   ]
  },
  {
   "cell_type": "code",
   "execution_count": 124,
   "id": "worthy-report",
   "metadata": {},
   "outputs": [
    {
     "data": {
      "image/png": "[encoded data removed]",
      "text/plain": [
       "<Figure size 216x144 with 1 Axes>"
      ]
     },
     "metadata": {
      "needs_background": "light"
     },
     "output_type": "display_data"
    }
   ],
   "source": [
    "fig, ax = plt.subplots(1,1, figsize = (3,2))\n",
    "\n",
    "ax.plot(output[['AFNO3-']])\n",
    "ax.set_xlabel(\"model timestep\")\n",
    "ax.set_ylabel(r\"$NO_3^-$ atom fraction\")\n",
    "\n",
    "plt.tight_layout()\n",
    "plt.savefig(\"figures/no3-atomfraction.pdf\")"
   ]
  },
  {
   "cell_type": "code",
   "execution_count": 125,
   "id": "subsequent-stopping",
   "metadata": {},
   "outputs": [
    {
     "data": {
      "image/png": "[encoded data removed]",
      "text/plain": [
       "<Figure size 216x144 with 1 Axes>"
      ]
     },
     "metadata": {
      "needs_background": "light"
     },
     "output_type": "display_data"
    }
   ],
   "source": [
    "fig, ax = plt.subplots(1,1, figsize = (3,2))\n",
    "\n",
    "ax.plot(output[['AFNO2-']])\n",
    "ax.set_xlabel(\"model timestep\")\n",
    "ax.set_ylabel(r\"$NO_2^-$ atom fraction\")\n",
    "\n",
    "plt.tight_layout()\n",
    "plt.savefig(\"figures/no2-atomfraction.pdf\")"
   ]
  },
  {
   "cell_type": "code",
   "execution_count": 133,
   "id": "restricted-wallet",
   "metadata": {},
   "outputs": [
    {
     "data": {
      "text/plain": [
       "[<matplotlib.lines.Line2D at 0x7f81749f4880>]"
      ]
     },
     "execution_count": 133,
     "metadata": {},
     "output_type": "execute_result"
    },
    {
     "data": {
      "image/png": "[encoded data removed]",
      "text/plain": [
       "<Figure size 432x288 with 1 Axes>"
      ]
     },
     "metadata": {
      "needs_background": "light"
     },
     "output_type": "display_data"
    }
   ],
   "source": [
    "plt.plot(tracers.no_14)\n",
    "plt.plot(tracers.no_15)\n",
    "#plt.plot(tracers.nh2oh_14)\n",
    "plt.plot(tracers.nh2oh_15)"
   ]
  },
  {
   "cell_type": "code",
   "execution_count": 134,
   "id": "sound-london",
   "metadata": {},
   "outputs": [
    {
     "data": {
      "text/plain": [
       "[<matplotlib.lines.Line2D at 0x7f8175530af0>]"
      ]
     },
     "execution_count": 134,
     "metadata": {},
     "output_type": "execute_result"
    },
    {
     "data": {
      "image/png": "[encoded data removed]",
      "text/plain": [
       "<Figure size 432x288 with 1 Axes>"
      ]
     },
     "metadata": {
      "needs_background": "light"
     },
     "output_type": "display_data"
    }
   ],
   "source": [
    "plt.plot(1000*(tracers.nh2oh_14+tracers.nh2oh_15)*(tracers.no_14+tracers.no_15))"
   ]
  },
  {
   "cell_type": "code",
   "execution_count": 135,
   "id": "victorian-corner",
   "metadata": {},
   "outputs": [
    {
     "data": {
      "image/png": "[encoded data removed]",
      "text/plain": [
       "<Figure size 576x432 with 4 Axes>"
      ]
     },
     "metadata": {
      "needs_background": "light"
     },
     "output_type": "display_data"
    }
   ],
   "source": [
    "sc.plot_outputs(trainingdata = PS2SCM15NO2, modeloutput=output, \n",
    "             filename=\"Figures/PS2SCM15NO2.pdf\")"
   ]
  },
  {
   "cell_type": "code",
   "execution_count": null,
   "id": "editorial-kelly",
   "metadata": {},
   "outputs": [],
   "source": []
  }
 ],
 "metadata": {
  "kernelspec": {
   "display_name": "Python 3",
   "language": "python",
   "name": "python3"
  },
  "language_info": {
   "codemirror_mode": {
    "name": "ipython",
    "version": 3
   },
   "file_extension": ".py",
   "mimetype": "text/x-python",
   "name": "python",
   "nbconvert_exporter": "python",
   "pygments_lexer": "ipython3",
   "version": "3.9.2"
  }
 },
 "nbformat": 4,
 "nbformat_minor": 5
}
